{
 "cells": [
  {
   "cell_type": "markdown",
   "id": "56e4c425",
   "metadata": {},
   "source": [
    "# Autism_Data"
   ]
  },
  {
   "cell_type": "code",
   "execution_count": 1,
   "id": "a2b0c524",
   "metadata": {},
   "outputs": [],
   "source": [
    "import numpy as np \n",
    "import pandas as pd\n",
    "import matplotlib.pyplot as plt\n",
    "import seaborn as sns\n",
    "plt.style.use('fivethirtyeight')\n",
    "import warnings\n",
    "warnings.filterwarnings('ignore')\n",
    "%matplotlib inline"
   ]
  },
  {
   "cell_type": "code",
   "execution_count": 2,
   "id": "088de836",
   "metadata": {},
   "outputs": [
    {
     "data": {
      "text/html": [
       "<div>\n",
       "<style scoped>\n",
       "    .dataframe tbody tr th:only-of-type {\n",
       "        vertical-align: middle;\n",
       "    }\n",
       "\n",
       "    .dataframe tbody tr th {\n",
       "        vertical-align: top;\n",
       "    }\n",
       "\n",
       "    .dataframe thead th {\n",
       "        text-align: right;\n",
       "    }\n",
       "</style>\n",
       "<table border=\"1\" class=\"dataframe\">\n",
       "  <thead>\n",
       "    <tr style=\"text-align: right;\">\n",
       "      <th></th>\n",
       "      <th>A1_Score</th>\n",
       "      <th>A2_Score</th>\n",
       "      <th>A3_Score</th>\n",
       "      <th>A4_Score</th>\n",
       "      <th>A5_Score</th>\n",
       "      <th>A6_Score</th>\n",
       "      <th>A7_Score</th>\n",
       "      <th>A8_Score</th>\n",
       "      <th>A9_Score</th>\n",
       "      <th>A10_Score</th>\n",
       "      <th>...</th>\n",
       "      <th>gender</th>\n",
       "      <th>ethnicity</th>\n",
       "      <th>jundice</th>\n",
       "      <th>austim</th>\n",
       "      <th>contry_of_res</th>\n",
       "      <th>used_app_before</th>\n",
       "      <th>result</th>\n",
       "      <th>age_desc</th>\n",
       "      <th>relation</th>\n",
       "      <th>Class/ASD</th>\n",
       "    </tr>\n",
       "  </thead>\n",
       "  <tbody>\n",
       "    <tr>\n",
       "      <th>0</th>\n",
       "      <td>1</td>\n",
       "      <td>1</td>\n",
       "      <td>1</td>\n",
       "      <td>1</td>\n",
       "      <td>0</td>\n",
       "      <td>0</td>\n",
       "      <td>1</td>\n",
       "      <td>1</td>\n",
       "      <td>0</td>\n",
       "      <td>0</td>\n",
       "      <td>...</td>\n",
       "      <td>f</td>\n",
       "      <td>White-European</td>\n",
       "      <td>no</td>\n",
       "      <td>no</td>\n",
       "      <td>'United States'</td>\n",
       "      <td>no</td>\n",
       "      <td>6</td>\n",
       "      <td>'18 and more'</td>\n",
       "      <td>Self</td>\n",
       "      <td>NO</td>\n",
       "    </tr>\n",
       "    <tr>\n",
       "      <th>1</th>\n",
       "      <td>1</td>\n",
       "      <td>1</td>\n",
       "      <td>0</td>\n",
       "      <td>1</td>\n",
       "      <td>0</td>\n",
       "      <td>0</td>\n",
       "      <td>0</td>\n",
       "      <td>1</td>\n",
       "      <td>0</td>\n",
       "      <td>1</td>\n",
       "      <td>...</td>\n",
       "      <td>m</td>\n",
       "      <td>Latino</td>\n",
       "      <td>no</td>\n",
       "      <td>yes</td>\n",
       "      <td>Brazil</td>\n",
       "      <td>no</td>\n",
       "      <td>5</td>\n",
       "      <td>'18 and more'</td>\n",
       "      <td>Self</td>\n",
       "      <td>NO</td>\n",
       "    </tr>\n",
       "    <tr>\n",
       "      <th>2</th>\n",
       "      <td>1</td>\n",
       "      <td>1</td>\n",
       "      <td>0</td>\n",
       "      <td>1</td>\n",
       "      <td>1</td>\n",
       "      <td>0</td>\n",
       "      <td>1</td>\n",
       "      <td>1</td>\n",
       "      <td>1</td>\n",
       "      <td>1</td>\n",
       "      <td>...</td>\n",
       "      <td>m</td>\n",
       "      <td>Latino</td>\n",
       "      <td>yes</td>\n",
       "      <td>yes</td>\n",
       "      <td>Spain</td>\n",
       "      <td>no</td>\n",
       "      <td>8</td>\n",
       "      <td>'18 and more'</td>\n",
       "      <td>Parent</td>\n",
       "      <td>YES</td>\n",
       "    </tr>\n",
       "    <tr>\n",
       "      <th>3</th>\n",
       "      <td>1</td>\n",
       "      <td>1</td>\n",
       "      <td>0</td>\n",
       "      <td>1</td>\n",
       "      <td>0</td>\n",
       "      <td>0</td>\n",
       "      <td>1</td>\n",
       "      <td>1</td>\n",
       "      <td>0</td>\n",
       "      <td>1</td>\n",
       "      <td>...</td>\n",
       "      <td>f</td>\n",
       "      <td>White-European</td>\n",
       "      <td>no</td>\n",
       "      <td>yes</td>\n",
       "      <td>'United States'</td>\n",
       "      <td>no</td>\n",
       "      <td>6</td>\n",
       "      <td>'18 and more'</td>\n",
       "      <td>Self</td>\n",
       "      <td>NO</td>\n",
       "    </tr>\n",
       "    <tr>\n",
       "      <th>4</th>\n",
       "      <td>1</td>\n",
       "      <td>0</td>\n",
       "      <td>0</td>\n",
       "      <td>0</td>\n",
       "      <td>0</td>\n",
       "      <td>0</td>\n",
       "      <td>0</td>\n",
       "      <td>1</td>\n",
       "      <td>0</td>\n",
       "      <td>0</td>\n",
       "      <td>...</td>\n",
       "      <td>f</td>\n",
       "      <td>?</td>\n",
       "      <td>no</td>\n",
       "      <td>no</td>\n",
       "      <td>Egypt</td>\n",
       "      <td>no</td>\n",
       "      <td>2</td>\n",
       "      <td>'18 and more'</td>\n",
       "      <td>?</td>\n",
       "      <td>NO</td>\n",
       "    </tr>\n",
       "    <tr>\n",
       "      <th>...</th>\n",
       "      <td>...</td>\n",
       "      <td>...</td>\n",
       "      <td>...</td>\n",
       "      <td>...</td>\n",
       "      <td>...</td>\n",
       "      <td>...</td>\n",
       "      <td>...</td>\n",
       "      <td>...</td>\n",
       "      <td>...</td>\n",
       "      <td>...</td>\n",
       "      <td>...</td>\n",
       "      <td>...</td>\n",
       "      <td>...</td>\n",
       "      <td>...</td>\n",
       "      <td>...</td>\n",
       "      <td>...</td>\n",
       "      <td>...</td>\n",
       "      <td>...</td>\n",
       "      <td>...</td>\n",
       "      <td>...</td>\n",
       "      <td>...</td>\n",
       "    </tr>\n",
       "    <tr>\n",
       "      <th>699</th>\n",
       "      <td>0</td>\n",
       "      <td>1</td>\n",
       "      <td>0</td>\n",
       "      <td>1</td>\n",
       "      <td>1</td>\n",
       "      <td>0</td>\n",
       "      <td>1</td>\n",
       "      <td>1</td>\n",
       "      <td>1</td>\n",
       "      <td>1</td>\n",
       "      <td>...</td>\n",
       "      <td>f</td>\n",
       "      <td>White-European</td>\n",
       "      <td>no</td>\n",
       "      <td>no</td>\n",
       "      <td>Russia</td>\n",
       "      <td>no</td>\n",
       "      <td>7</td>\n",
       "      <td>'18 and more'</td>\n",
       "      <td>Self</td>\n",
       "      <td>YES</td>\n",
       "    </tr>\n",
       "    <tr>\n",
       "      <th>700</th>\n",
       "      <td>1</td>\n",
       "      <td>0</td>\n",
       "      <td>0</td>\n",
       "      <td>0</td>\n",
       "      <td>0</td>\n",
       "      <td>0</td>\n",
       "      <td>0</td>\n",
       "      <td>1</td>\n",
       "      <td>0</td>\n",
       "      <td>1</td>\n",
       "      <td>...</td>\n",
       "      <td>m</td>\n",
       "      <td>Hispanic</td>\n",
       "      <td>no</td>\n",
       "      <td>no</td>\n",
       "      <td>Mexico</td>\n",
       "      <td>no</td>\n",
       "      <td>3</td>\n",
       "      <td>'18 and more'</td>\n",
       "      <td>Parent</td>\n",
       "      <td>NO</td>\n",
       "    </tr>\n",
       "    <tr>\n",
       "      <th>701</th>\n",
       "      <td>1</td>\n",
       "      <td>0</td>\n",
       "      <td>1</td>\n",
       "      <td>1</td>\n",
       "      <td>1</td>\n",
       "      <td>0</td>\n",
       "      <td>1</td>\n",
       "      <td>1</td>\n",
       "      <td>0</td>\n",
       "      <td>1</td>\n",
       "      <td>...</td>\n",
       "      <td>f</td>\n",
       "      <td>?</td>\n",
       "      <td>no</td>\n",
       "      <td>no</td>\n",
       "      <td>Russia</td>\n",
       "      <td>no</td>\n",
       "      <td>7</td>\n",
       "      <td>'18 and more'</td>\n",
       "      <td>?</td>\n",
       "      <td>YES</td>\n",
       "    </tr>\n",
       "    <tr>\n",
       "      <th>702</th>\n",
       "      <td>1</td>\n",
       "      <td>0</td>\n",
       "      <td>0</td>\n",
       "      <td>1</td>\n",
       "      <td>1</td>\n",
       "      <td>0</td>\n",
       "      <td>1</td>\n",
       "      <td>0</td>\n",
       "      <td>1</td>\n",
       "      <td>1</td>\n",
       "      <td>...</td>\n",
       "      <td>m</td>\n",
       "      <td>'South Asian'</td>\n",
       "      <td>no</td>\n",
       "      <td>no</td>\n",
       "      <td>Pakistan</td>\n",
       "      <td>no</td>\n",
       "      <td>6</td>\n",
       "      <td>'18 and more'</td>\n",
       "      <td>Self</td>\n",
       "      <td>NO</td>\n",
       "    </tr>\n",
       "    <tr>\n",
       "      <th>703</th>\n",
       "      <td>1</td>\n",
       "      <td>0</td>\n",
       "      <td>1</td>\n",
       "      <td>1</td>\n",
       "      <td>1</td>\n",
       "      <td>0</td>\n",
       "      <td>1</td>\n",
       "      <td>1</td>\n",
       "      <td>1</td>\n",
       "      <td>1</td>\n",
       "      <td>...</td>\n",
       "      <td>f</td>\n",
       "      <td>White-European</td>\n",
       "      <td>no</td>\n",
       "      <td>no</td>\n",
       "      <td>Cyprus</td>\n",
       "      <td>no</td>\n",
       "      <td>8</td>\n",
       "      <td>'18 and more'</td>\n",
       "      <td>Self</td>\n",
       "      <td>YES</td>\n",
       "    </tr>\n",
       "  </tbody>\n",
       "</table>\n",
       "<p>704 rows × 21 columns</p>\n",
       "</div>"
      ],
      "text/plain": [
       "     A1_Score  A2_Score  A3_Score  A4_Score  A5_Score  A6_Score  A7_Score  \\\n",
       "0           1         1         1         1         0         0         1   \n",
       "1           1         1         0         1         0         0         0   \n",
       "2           1         1         0         1         1         0         1   \n",
       "3           1         1         0         1         0         0         1   \n",
       "4           1         0         0         0         0         0         0   \n",
       "..        ...       ...       ...       ...       ...       ...       ...   \n",
       "699         0         1         0         1         1         0         1   \n",
       "700         1         0         0         0         0         0         0   \n",
       "701         1         0         1         1         1         0         1   \n",
       "702         1         0         0         1         1         0         1   \n",
       "703         1         0         1         1         1         0         1   \n",
       "\n",
       "     A8_Score  A9_Score  A10_Score  ... gender       ethnicity jundice austim  \\\n",
       "0           1         0          0  ...      f  White-European      no     no   \n",
       "1           1         0          1  ...      m          Latino      no    yes   \n",
       "2           1         1          1  ...      m          Latino     yes    yes   \n",
       "3           1         0          1  ...      f  White-European      no    yes   \n",
       "4           1         0          0  ...      f               ?      no     no   \n",
       "..        ...       ...        ...  ...    ...             ...     ...    ...   \n",
       "699         1         1          1  ...      f  White-European      no     no   \n",
       "700         1         0          1  ...      m        Hispanic      no     no   \n",
       "701         1         0          1  ...      f               ?      no     no   \n",
       "702         0         1          1  ...      m   'South Asian'      no     no   \n",
       "703         1         1          1  ...      f  White-European      no     no   \n",
       "\n",
       "       contry_of_res used_app_before result       age_desc relation Class/ASD  \n",
       "0    'United States'              no      6  '18 and more'     Self        NO  \n",
       "1             Brazil              no      5  '18 and more'     Self        NO  \n",
       "2              Spain              no      8  '18 and more'   Parent       YES  \n",
       "3    'United States'              no      6  '18 and more'     Self        NO  \n",
       "4              Egypt              no      2  '18 and more'        ?        NO  \n",
       "..               ...             ...    ...            ...      ...       ...  \n",
       "699           Russia              no      7  '18 and more'     Self       YES  \n",
       "700           Mexico              no      3  '18 and more'   Parent        NO  \n",
       "701           Russia              no      7  '18 and more'        ?       YES  \n",
       "702         Pakistan              no      6  '18 and more'     Self        NO  \n",
       "703           Cyprus              no      8  '18 and more'     Self       YES  \n",
       "\n",
       "[704 rows x 21 columns]"
      ]
     },
     "execution_count": 2,
     "metadata": {},
     "output_type": "execute_result"
    }
   ],
   "source": [
    "data=pd.read_csv('Autism_Data.arff')\n",
    "data"
   ]
  },
  {
   "cell_type": "markdown",
   "id": "30388d63",
   "metadata": {},
   "source": [
    "Исправим некорректное название столбца \"jundice\" на \"jaundice\" - желтуха и \"contry_of_res\" на \"country_of_res\""
   ]
  },
  {
   "cell_type": "code",
   "execution_count": 3,
   "id": "edc8c04a",
   "metadata": {},
   "outputs": [],
   "source": [
    "data = data.rename(columns={'jundice':'jaundice'})\n",
    "data = data.rename(columns={'contry_of_res':'country_of_res'})"
   ]
  },
  {
   "cell_type": "markdown",
   "id": "36416939",
   "metadata": {},
   "source": [
    "Сменим название поля \"austim\" на \"relat_autism\" и \"Class/ASD\" на \"ASD\" для удобства"
   ]
  },
  {
   "cell_type": "code",
   "execution_count": 4,
   "id": "236788e7",
   "metadata": {},
   "outputs": [
    {
     "data": {
      "text/html": [
       "<div>\n",
       "<style scoped>\n",
       "    .dataframe tbody tr th:only-of-type {\n",
       "        vertical-align: middle;\n",
       "    }\n",
       "\n",
       "    .dataframe tbody tr th {\n",
       "        vertical-align: top;\n",
       "    }\n",
       "\n",
       "    .dataframe thead th {\n",
       "        text-align: right;\n",
       "    }\n",
       "</style>\n",
       "<table border=\"1\" class=\"dataframe\">\n",
       "  <thead>\n",
       "    <tr style=\"text-align: right;\">\n",
       "      <th></th>\n",
       "      <th>A1_Score</th>\n",
       "      <th>A2_Score</th>\n",
       "      <th>A3_Score</th>\n",
       "      <th>A4_Score</th>\n",
       "      <th>A5_Score</th>\n",
       "      <th>A6_Score</th>\n",
       "      <th>A7_Score</th>\n",
       "      <th>A8_Score</th>\n",
       "      <th>A9_Score</th>\n",
       "      <th>A10_Score</th>\n",
       "      <th>...</th>\n",
       "      <th>gender</th>\n",
       "      <th>ethnicity</th>\n",
       "      <th>jaundice</th>\n",
       "      <th>relat_autism</th>\n",
       "      <th>country_of_res</th>\n",
       "      <th>used_app_before</th>\n",
       "      <th>result</th>\n",
       "      <th>age_desc</th>\n",
       "      <th>relation</th>\n",
       "      <th>ASD</th>\n",
       "    </tr>\n",
       "  </thead>\n",
       "  <tbody>\n",
       "    <tr>\n",
       "      <th>0</th>\n",
       "      <td>1</td>\n",
       "      <td>1</td>\n",
       "      <td>1</td>\n",
       "      <td>1</td>\n",
       "      <td>0</td>\n",
       "      <td>0</td>\n",
       "      <td>1</td>\n",
       "      <td>1</td>\n",
       "      <td>0</td>\n",
       "      <td>0</td>\n",
       "      <td>...</td>\n",
       "      <td>f</td>\n",
       "      <td>White-European</td>\n",
       "      <td>no</td>\n",
       "      <td>no</td>\n",
       "      <td>'United States'</td>\n",
       "      <td>no</td>\n",
       "      <td>6</td>\n",
       "      <td>'18 and more'</td>\n",
       "      <td>Self</td>\n",
       "      <td>NO</td>\n",
       "    </tr>\n",
       "    <tr>\n",
       "      <th>1</th>\n",
       "      <td>1</td>\n",
       "      <td>1</td>\n",
       "      <td>0</td>\n",
       "      <td>1</td>\n",
       "      <td>0</td>\n",
       "      <td>0</td>\n",
       "      <td>0</td>\n",
       "      <td>1</td>\n",
       "      <td>0</td>\n",
       "      <td>1</td>\n",
       "      <td>...</td>\n",
       "      <td>m</td>\n",
       "      <td>Latino</td>\n",
       "      <td>no</td>\n",
       "      <td>yes</td>\n",
       "      <td>Brazil</td>\n",
       "      <td>no</td>\n",
       "      <td>5</td>\n",
       "      <td>'18 and more'</td>\n",
       "      <td>Self</td>\n",
       "      <td>NO</td>\n",
       "    </tr>\n",
       "    <tr>\n",
       "      <th>2</th>\n",
       "      <td>1</td>\n",
       "      <td>1</td>\n",
       "      <td>0</td>\n",
       "      <td>1</td>\n",
       "      <td>1</td>\n",
       "      <td>0</td>\n",
       "      <td>1</td>\n",
       "      <td>1</td>\n",
       "      <td>1</td>\n",
       "      <td>1</td>\n",
       "      <td>...</td>\n",
       "      <td>m</td>\n",
       "      <td>Latino</td>\n",
       "      <td>yes</td>\n",
       "      <td>yes</td>\n",
       "      <td>Spain</td>\n",
       "      <td>no</td>\n",
       "      <td>8</td>\n",
       "      <td>'18 and more'</td>\n",
       "      <td>Parent</td>\n",
       "      <td>YES</td>\n",
       "    </tr>\n",
       "    <tr>\n",
       "      <th>3</th>\n",
       "      <td>1</td>\n",
       "      <td>1</td>\n",
       "      <td>0</td>\n",
       "      <td>1</td>\n",
       "      <td>0</td>\n",
       "      <td>0</td>\n",
       "      <td>1</td>\n",
       "      <td>1</td>\n",
       "      <td>0</td>\n",
       "      <td>1</td>\n",
       "      <td>...</td>\n",
       "      <td>f</td>\n",
       "      <td>White-European</td>\n",
       "      <td>no</td>\n",
       "      <td>yes</td>\n",
       "      <td>'United States'</td>\n",
       "      <td>no</td>\n",
       "      <td>6</td>\n",
       "      <td>'18 and more'</td>\n",
       "      <td>Self</td>\n",
       "      <td>NO</td>\n",
       "    </tr>\n",
       "    <tr>\n",
       "      <th>4</th>\n",
       "      <td>1</td>\n",
       "      <td>0</td>\n",
       "      <td>0</td>\n",
       "      <td>0</td>\n",
       "      <td>0</td>\n",
       "      <td>0</td>\n",
       "      <td>0</td>\n",
       "      <td>1</td>\n",
       "      <td>0</td>\n",
       "      <td>0</td>\n",
       "      <td>...</td>\n",
       "      <td>f</td>\n",
       "      <td>?</td>\n",
       "      <td>no</td>\n",
       "      <td>no</td>\n",
       "      <td>Egypt</td>\n",
       "      <td>no</td>\n",
       "      <td>2</td>\n",
       "      <td>'18 and more'</td>\n",
       "      <td>?</td>\n",
       "      <td>NO</td>\n",
       "    </tr>\n",
       "    <tr>\n",
       "      <th>...</th>\n",
       "      <td>...</td>\n",
       "      <td>...</td>\n",
       "      <td>...</td>\n",
       "      <td>...</td>\n",
       "      <td>...</td>\n",
       "      <td>...</td>\n",
       "      <td>...</td>\n",
       "      <td>...</td>\n",
       "      <td>...</td>\n",
       "      <td>...</td>\n",
       "      <td>...</td>\n",
       "      <td>...</td>\n",
       "      <td>...</td>\n",
       "      <td>...</td>\n",
       "      <td>...</td>\n",
       "      <td>...</td>\n",
       "      <td>...</td>\n",
       "      <td>...</td>\n",
       "      <td>...</td>\n",
       "      <td>...</td>\n",
       "      <td>...</td>\n",
       "    </tr>\n",
       "    <tr>\n",
       "      <th>699</th>\n",
       "      <td>0</td>\n",
       "      <td>1</td>\n",
       "      <td>0</td>\n",
       "      <td>1</td>\n",
       "      <td>1</td>\n",
       "      <td>0</td>\n",
       "      <td>1</td>\n",
       "      <td>1</td>\n",
       "      <td>1</td>\n",
       "      <td>1</td>\n",
       "      <td>...</td>\n",
       "      <td>f</td>\n",
       "      <td>White-European</td>\n",
       "      <td>no</td>\n",
       "      <td>no</td>\n",
       "      <td>Russia</td>\n",
       "      <td>no</td>\n",
       "      <td>7</td>\n",
       "      <td>'18 and more'</td>\n",
       "      <td>Self</td>\n",
       "      <td>YES</td>\n",
       "    </tr>\n",
       "    <tr>\n",
       "      <th>700</th>\n",
       "      <td>1</td>\n",
       "      <td>0</td>\n",
       "      <td>0</td>\n",
       "      <td>0</td>\n",
       "      <td>0</td>\n",
       "      <td>0</td>\n",
       "      <td>0</td>\n",
       "      <td>1</td>\n",
       "      <td>0</td>\n",
       "      <td>1</td>\n",
       "      <td>...</td>\n",
       "      <td>m</td>\n",
       "      <td>Hispanic</td>\n",
       "      <td>no</td>\n",
       "      <td>no</td>\n",
       "      <td>Mexico</td>\n",
       "      <td>no</td>\n",
       "      <td>3</td>\n",
       "      <td>'18 and more'</td>\n",
       "      <td>Parent</td>\n",
       "      <td>NO</td>\n",
       "    </tr>\n",
       "    <tr>\n",
       "      <th>701</th>\n",
       "      <td>1</td>\n",
       "      <td>0</td>\n",
       "      <td>1</td>\n",
       "      <td>1</td>\n",
       "      <td>1</td>\n",
       "      <td>0</td>\n",
       "      <td>1</td>\n",
       "      <td>1</td>\n",
       "      <td>0</td>\n",
       "      <td>1</td>\n",
       "      <td>...</td>\n",
       "      <td>f</td>\n",
       "      <td>?</td>\n",
       "      <td>no</td>\n",
       "      <td>no</td>\n",
       "      <td>Russia</td>\n",
       "      <td>no</td>\n",
       "      <td>7</td>\n",
       "      <td>'18 and more'</td>\n",
       "      <td>?</td>\n",
       "      <td>YES</td>\n",
       "    </tr>\n",
       "    <tr>\n",
       "      <th>702</th>\n",
       "      <td>1</td>\n",
       "      <td>0</td>\n",
       "      <td>0</td>\n",
       "      <td>1</td>\n",
       "      <td>1</td>\n",
       "      <td>0</td>\n",
       "      <td>1</td>\n",
       "      <td>0</td>\n",
       "      <td>1</td>\n",
       "      <td>1</td>\n",
       "      <td>...</td>\n",
       "      <td>m</td>\n",
       "      <td>'South Asian'</td>\n",
       "      <td>no</td>\n",
       "      <td>no</td>\n",
       "      <td>Pakistan</td>\n",
       "      <td>no</td>\n",
       "      <td>6</td>\n",
       "      <td>'18 and more'</td>\n",
       "      <td>Self</td>\n",
       "      <td>NO</td>\n",
       "    </tr>\n",
       "    <tr>\n",
       "      <th>703</th>\n",
       "      <td>1</td>\n",
       "      <td>0</td>\n",
       "      <td>1</td>\n",
       "      <td>1</td>\n",
       "      <td>1</td>\n",
       "      <td>0</td>\n",
       "      <td>1</td>\n",
       "      <td>1</td>\n",
       "      <td>1</td>\n",
       "      <td>1</td>\n",
       "      <td>...</td>\n",
       "      <td>f</td>\n",
       "      <td>White-European</td>\n",
       "      <td>no</td>\n",
       "      <td>no</td>\n",
       "      <td>Cyprus</td>\n",
       "      <td>no</td>\n",
       "      <td>8</td>\n",
       "      <td>'18 and more'</td>\n",
       "      <td>Self</td>\n",
       "      <td>YES</td>\n",
       "    </tr>\n",
       "  </tbody>\n",
       "</table>\n",
       "<p>704 rows × 21 columns</p>\n",
       "</div>"
      ],
      "text/plain": [
       "     A1_Score  A2_Score  A3_Score  A4_Score  A5_Score  A6_Score  A7_Score  \\\n",
       "0           1         1         1         1         0         0         1   \n",
       "1           1         1         0         1         0         0         0   \n",
       "2           1         1         0         1         1         0         1   \n",
       "3           1         1         0         1         0         0         1   \n",
       "4           1         0         0         0         0         0         0   \n",
       "..        ...       ...       ...       ...       ...       ...       ...   \n",
       "699         0         1         0         1         1         0         1   \n",
       "700         1         0         0         0         0         0         0   \n",
       "701         1         0         1         1         1         0         1   \n",
       "702         1         0         0         1         1         0         1   \n",
       "703         1         0         1         1         1         0         1   \n",
       "\n",
       "     A8_Score  A9_Score  A10_Score  ... gender       ethnicity jaundice  \\\n",
       "0           1         0          0  ...      f  White-European       no   \n",
       "1           1         0          1  ...      m          Latino       no   \n",
       "2           1         1          1  ...      m          Latino      yes   \n",
       "3           1         0          1  ...      f  White-European       no   \n",
       "4           1         0          0  ...      f               ?       no   \n",
       "..        ...       ...        ...  ...    ...             ...      ...   \n",
       "699         1         1          1  ...      f  White-European       no   \n",
       "700         1         0          1  ...      m        Hispanic       no   \n",
       "701         1         0          1  ...      f               ?       no   \n",
       "702         0         1          1  ...      m   'South Asian'       no   \n",
       "703         1         1          1  ...      f  White-European       no   \n",
       "\n",
       "    relat_autism   country_of_res used_app_before result       age_desc  \\\n",
       "0             no  'United States'              no      6  '18 and more'   \n",
       "1            yes           Brazil              no      5  '18 and more'   \n",
       "2            yes            Spain              no      8  '18 and more'   \n",
       "3            yes  'United States'              no      6  '18 and more'   \n",
       "4             no            Egypt              no      2  '18 and more'   \n",
       "..           ...              ...             ...    ...            ...   \n",
       "699           no           Russia              no      7  '18 and more'   \n",
       "700           no           Mexico              no      3  '18 and more'   \n",
       "701           no           Russia              no      7  '18 and more'   \n",
       "702           no         Pakistan              no      6  '18 and more'   \n",
       "703           no           Cyprus              no      8  '18 and more'   \n",
       "\n",
       "    relation  ASD  \n",
       "0       Self   NO  \n",
       "1       Self   NO  \n",
       "2     Parent  YES  \n",
       "3       Self   NO  \n",
       "4          ?   NO  \n",
       "..       ...  ...  \n",
       "699     Self  YES  \n",
       "700   Parent   NO  \n",
       "701        ?  YES  \n",
       "702     Self   NO  \n",
       "703     Self  YES  \n",
       "\n",
       "[704 rows x 21 columns]"
      ]
     },
     "execution_count": 4,
     "metadata": {},
     "output_type": "execute_result"
    }
   ],
   "source": [
    "data = data.rename(columns={'austim':'relat_autism'})\n",
    "data = data.rename(columns={'Class/ASD':'ASD'})\n",
    "data"
   ]
  },
  {
   "cell_type": "markdown",
   "id": "da2ffd69",
   "metadata": {},
   "source": [
    "### Описание полей датафрейма"
   ]
  },
  {
   "cell_type": "markdown",
   "id": "6cdcba36",
   "metadata": {},
   "source": [
    "|№|Столбец |Описание| \n",
    "|-|--------|---------|\n",
    "|1|A1_Score|Вопрос 1 (No=0,Yes=1)|\n",
    "|2|A2_Score|Вопрос 2 (No=0,Yes=1)|\n",
    "|3|A3_Score|Вопрос 3 (No=0,Yes=1)|\n",
    "|4|A4_Score|Вопрос 4 (No=0,Yes=1)|\n",
    "|5|A5_Score|Вопрос 5 (No=0,Yes=1)|\n",
    "|6|A6_Score|Вопрос 6 (No=0,Yes=1)|\n",
    "|7|A7_Score|Вопрос 7 (No=0,Yes=1)|\n",
    "|8|A8_Score|Вопрос 8 (No=0,Yes=1)|\n",
    "|9|A9_Score|Вопрос 9 (No=0,Yes=1)|\n",
    "|10|A10_Score|Вопрос 10 (No=0,Yes=1)|\n",
    "|11|age|Возраст в годах|\n",
    "|12|gender|Пол|\n",
    "|13|ethnicity|Этническая принадлежность (этнические группы)|\n",
    "|14|jaundice|Желтуха (yes/no)|\n",
    "|15|relat_autism|Есть ли у кого-либо из ближайших родственников аутизм (yes, no)|\n",
    "|16|country_of_res|Страна проживания|\n",
    "|17|used_app_before|Использовал приложение для проверки (yes/no)|\n",
    "|18|result|Оценка скрининга: окончательная оценка, полученная на основе алгоритма оценки используемого метода скрининга|\n",
    "|19|age_desc|Описание возраста|\n",
    "|20|relation|Кто проходит тест:Self,Parent, '?',Health care professional,Relative,Others|\n",
    "|21|ASD|Расстройство аутистического спектра (РАС): (YES/NO)|"
   ]
  },
  {
   "cell_type": "markdown",
   "id": "7ba735d8",
   "metadata": {},
   "source": [
    "### Проверим, есть ли в полях NULL значения"
   ]
  },
  {
   "cell_type": "code",
   "execution_count": 5,
   "id": "30055ac8",
   "metadata": {},
   "outputs": [
    {
     "data": {
      "text/plain": [
       "A1_Score           0\n",
       "A2_Score           0\n",
       "A3_Score           0\n",
       "A4_Score           0\n",
       "A5_Score           0\n",
       "A6_Score           0\n",
       "A7_Score           0\n",
       "A8_Score           0\n",
       "A9_Score           0\n",
       "A10_Score          0\n",
       "age                0\n",
       "gender             0\n",
       "ethnicity          0\n",
       "jaundice           0\n",
       "relat_autism       0\n",
       "country_of_res     0\n",
       "used_app_before    0\n",
       "result             0\n",
       "age_desc           0\n",
       "relation           0\n",
       "ASD                0\n",
       "dtype: int64"
      ]
     },
     "execution_count": 5,
     "metadata": {},
     "output_type": "execute_result"
    }
   ],
   "source": [
    "data.isnull().sum()"
   ]
  },
  {
   "cell_type": "markdown",
   "id": "92461538",
   "metadata": {},
   "source": [
    "Null-значений нет, но при выводе датафрейма мы видели, что есть \"?\" значения, посчитаем сколько их по полям."
   ]
  },
  {
   "cell_type": "code",
   "execution_count": 5,
   "id": "6ceff58b",
   "metadata": {},
   "outputs": [
    {
     "data": {
      "text/plain": [
       "A1_Score            0\n",
       "A2_Score            0\n",
       "A3_Score            0\n",
       "A4_Score            0\n",
       "A5_Score            0\n",
       "A6_Score            0\n",
       "A7_Score            0\n",
       "A8_Score            0\n",
       "A9_Score            0\n",
       "A10_Score           0\n",
       "age                 2\n",
       "gender              0\n",
       "ethnicity          95\n",
       "jaundice            0\n",
       "relat_autism        0\n",
       "country_of_res      0\n",
       "used_app_before     0\n",
       "result              0\n",
       "age_desc            0\n",
       "relation           95\n",
       "ASD                 0\n",
       "dtype: int64"
      ]
     },
     "execution_count": 5,
     "metadata": {},
     "output_type": "execute_result"
    }
   ],
   "source": [
    "data.isin(['?']).sum()"
   ]
  },
  {
   "cell_type": "markdown",
   "id": "19ecf479",
   "metadata": {},
   "source": [
    "## Сколько людей с ASD?"
   ]
  },
  {
   "cell_type": "code",
   "execution_count": 20,
   "id": "52fc24e6",
   "metadata": {},
   "outputs": [
    {
     "data": {
      "image/png": "[encoded data removed]",
      "text/plain": [
       "<Figure size 1296x576 with 2 Axes>"
      ]
     },
     "metadata": {
      "needs_background": "light"
     },
     "output_type": "display_data"
    }
   ],
   "source": [
    "f,ax=plt.subplots(1,2,figsize=(18,8))\n",
    "data['ASD'].value_counts().plot.pie(explode=[0,0.1],autopct='%1.1f%%',ax=ax[0],shadow=True)\n",
    "ax[0].set_title('ASD')\n",
    "ax[0].set_ylabel('')\n",
    "sns.countplot('ASD',data=data,ax=ax[1])\n",
    "ax[1].set_title('ASD')\n",
    "plt.show()"
   ]
  },
  {
   "cell_type": "markdown",
   "id": "39914e26",
   "metadata": {},
   "source": [
    "Видим, что людей с ASD в выборке не много, всего 26,8%. Постараемся понять, какие признаки в наборе данных могут указывать на заболевание."
   ]
  },
  {
   "cell_type": "markdown",
   "id": "29f29942",
   "metadata": {},
   "source": [
    "### Посмотрим на количественные признаки:"
   ]
  },
  {
   "cell_type": "markdown",
   "id": "da49b41d",
   "metadata": {},
   "source": [
    "Разберемся с возрастом, признак \"age\" - является количественным признаком"
   ]
  },
  {
   "cell_type": "code",
   "execution_count": 67,
   "id": "6232e3db",
   "metadata": {},
   "outputs": [
    {
     "data": {
      "text/plain": [
       "array(['26', '24', '27', '35', '40', '36', '17', '64', '29', '33', '18',\n",
       "       '31', '30', '34', '38', '42', '43', '48', '37', '55', '50', '53',\n",
       "       '20', '28', '21', '383', '47', '32', '44', '?', '19', '58', '45',\n",
       "       '22', '39', '25', '23', '54', '60', '41', '46', '56', '61', '59',\n",
       "       '52', '49', '51'], dtype=object)"
      ]
     },
     "execution_count": 67,
     "metadata": {},
     "output_type": "execute_result"
    }
   ],
   "source": [
    "data.age.unique()"
   ]
  },
  {
   "cell_type": "markdown",
   "id": "c820f996",
   "metadata": {},
   "source": [
    "Как мы видим, в выборке есть неизвестные значения - \"?\", а также есть значение \"383\" - для возраста выглядит как-то нереально"
   ]
  },
  {
   "cell_type": "markdown",
   "id": "54c8edcd",
   "metadata": {},
   "source": [
    "Непонятных значений у нас только 3 из 704, думаю будет не критично, если мы заменим эти непонятные значения на средний возраст из файла"
   ]
  },
  {
   "cell_type": "code",
   "execution_count": 69,
   "id": "09b0dec9",
   "metadata": {},
   "outputs": [
    {
     "name": "stdout",
     "output_type": "stream",
     "text": [
      "<class 'pandas.core.frame.DataFrame'>\n",
      "RangeIndex: 704 entries, 0 to 703\n",
      "Data columns (total 21 columns):\n",
      " #   Column           Non-Null Count  Dtype \n",
      "---  ------           --------------  ----- \n",
      " 0   A1_Score         704 non-null    int64 \n",
      " 1   A2_Score         704 non-null    int64 \n",
      " 2   A3_Score         704 non-null    int64 \n",
      " 3   A4_Score         704 non-null    int64 \n",
      " 4   A5_Score         704 non-null    int64 \n",
      " 5   A6_Score         704 non-null    int64 \n",
      " 6   A7_Score         704 non-null    int64 \n",
      " 7   A8_Score         704 non-null    int64 \n",
      " 8   A9_Score         704 non-null    int64 \n",
      " 9   A10_Score        704 non-null    int64 \n",
      " 10  age              704 non-null    object\n",
      " 11  gender           704 non-null    object\n",
      " 12  ethnicity        704 non-null    object\n",
      " 13  jaundice         704 non-null    object\n",
      " 14  relat_autism     704 non-null    object\n",
      " 15  country_of_res   704 non-null    object\n",
      " 16  used_app_before  704 non-null    object\n",
      " 17  result           704 non-null    int64 \n",
      " 18  age_desc         704 non-null    object\n",
      " 19  relation         704 non-null    object\n",
      " 20  ASD              704 non-null    object\n",
      "dtypes: int64(11), object(10)\n",
      "memory usage: 115.6+ KB\n"
     ]
    }
   ],
   "source": [
    "data.info()"
   ]
  },
  {
   "cell_type": "markdown",
   "id": "9cb73e9f",
   "metadata": {},
   "source": [
    "Посчитаем среднее, исключив непонятные значения"
   ]
  },
  {
   "cell_type": "code",
   "execution_count": 6,
   "id": "d72db461",
   "metadata": {},
   "outputs": [
    {
     "data": {
      "text/plain": [
       "29.698005698005698"
      ]
     },
     "execution_count": 6,
     "metadata": {},
     "output_type": "execute_result"
    }
   ],
   "source": [
    "temp=data.loc[(data['age']!=383)&(data['age']!='?')]\n",
    "temp = temp.astype({'age': 'int64'})\n",
    "temp['age'].mean()"
   ]
  },
  {
   "cell_type": "markdown",
   "id": "08375b1a",
   "metadata": {},
   "source": [
    "Заменим непонятные значения на среднее"
   ]
  },
  {
   "cell_type": "code",
   "execution_count": 7,
   "id": "a82c2f37",
   "metadata": {},
   "outputs": [],
   "source": [
    "data['age'] = data['age'].replace('?', 30)"
   ]
  },
  {
   "cell_type": "code",
   "execution_count": 8,
   "id": "d609570f",
   "metadata": {},
   "outputs": [],
   "source": [
    "data = data.astype({'age': 'int64'})\n",
    "data['age'] = data['age'].replace(383, 30)"
   ]
  },
  {
   "cell_type": "markdown",
   "id": "0676c3a7",
   "metadata": {},
   "source": [
    "Проверим, есть ли какая зависимость между возрастом и ASD"
   ]
  },
  {
   "cell_type": "code",
   "execution_count": 21,
   "id": "698c6c98",
   "metadata": {},
   "outputs": [
    {
     "data": {
      "text/html": [
       "<div>\n",
       "<style scoped>\n",
       "    .dataframe tbody tr th:only-of-type {\n",
       "        vertical-align: middle;\n",
       "    }\n",
       "\n",
       "    .dataframe tbody tr th {\n",
       "        vertical-align: top;\n",
       "    }\n",
       "\n",
       "    .dataframe thead th {\n",
       "        text-align: right;\n",
       "    }\n",
       "</style>\n",
       "<table border=\"1\" class=\"dataframe\">\n",
       "  <thead>\n",
       "    <tr style=\"text-align: right;\">\n",
       "      <th>ASD</th>\n",
       "      <th>NO</th>\n",
       "      <th>YES</th>\n",
       "    </tr>\n",
       "    <tr>\n",
       "      <th>age</th>\n",
       "      <th></th>\n",
       "      <th></th>\n",
       "    </tr>\n",
       "  </thead>\n",
       "  <tbody>\n",
       "    <tr>\n",
       "      <th>17</th>\n",
       "      <td>13</td>\n",
       "      <td>5</td>\n",
       "    </tr>\n",
       "    <tr>\n",
       "      <th>18</th>\n",
       "      <td>25</td>\n",
       "      <td>6</td>\n",
       "    </tr>\n",
       "    <tr>\n",
       "      <th>19</th>\n",
       "      <td>27</td>\n",
       "      <td>8</td>\n",
       "    </tr>\n",
       "    <tr>\n",
       "      <th>20</th>\n",
       "      <td>33</td>\n",
       "      <td>13</td>\n",
       "    </tr>\n",
       "    <tr>\n",
       "      <th>21</th>\n",
       "      <td>39</td>\n",
       "      <td>10</td>\n",
       "    </tr>\n",
       "    <tr>\n",
       "      <th>22</th>\n",
       "      <td>28</td>\n",
       "      <td>9</td>\n",
       "    </tr>\n",
       "    <tr>\n",
       "      <th>23</th>\n",
       "      <td>33</td>\n",
       "      <td>4</td>\n",
       "    </tr>\n",
       "    <tr>\n",
       "      <th>24</th>\n",
       "      <td>28</td>\n",
       "      <td>6</td>\n",
       "    </tr>\n",
       "    <tr>\n",
       "      <th>25</th>\n",
       "      <td>21</td>\n",
       "      <td>6</td>\n",
       "    </tr>\n",
       "    <tr>\n",
       "      <th>26</th>\n",
       "      <td>24</td>\n",
       "      <td>4</td>\n",
       "    </tr>\n",
       "    <tr>\n",
       "      <th>27</th>\n",
       "      <td>23</td>\n",
       "      <td>8</td>\n",
       "    </tr>\n",
       "    <tr>\n",
       "      <th>28</th>\n",
       "      <td>15</td>\n",
       "      <td>9</td>\n",
       "    </tr>\n",
       "    <tr>\n",
       "      <th>29</th>\n",
       "      <td>22</td>\n",
       "      <td>5</td>\n",
       "    </tr>\n",
       "    <tr>\n",
       "      <th>30</th>\n",
       "      <td>20</td>\n",
       "      <td>13</td>\n",
       "    </tr>\n",
       "    <tr>\n",
       "      <th>31</th>\n",
       "      <td>16</td>\n",
       "      <td>5</td>\n",
       "    </tr>\n",
       "    <tr>\n",
       "      <th>32</th>\n",
       "      <td>15</td>\n",
       "      <td>3</td>\n",
       "    </tr>\n",
       "    <tr>\n",
       "      <th>33</th>\n",
       "      <td>8</td>\n",
       "      <td>8</td>\n",
       "    </tr>\n",
       "    <tr>\n",
       "      <th>34</th>\n",
       "      <td>11</td>\n",
       "      <td>1</td>\n",
       "    </tr>\n",
       "    <tr>\n",
       "      <th>35</th>\n",
       "      <td>9</td>\n",
       "      <td>8</td>\n",
       "    </tr>\n",
       "    <tr>\n",
       "      <th>36</th>\n",
       "      <td>9</td>\n",
       "      <td>4</td>\n",
       "    </tr>\n",
       "    <tr>\n",
       "      <th>37</th>\n",
       "      <td>12</td>\n",
       "      <td>5</td>\n",
       "    </tr>\n",
       "    <tr>\n",
       "      <th>38</th>\n",
       "      <td>6</td>\n",
       "      <td>6</td>\n",
       "    </tr>\n",
       "    <tr>\n",
       "      <th>39</th>\n",
       "      <td>5</td>\n",
       "      <td>2</td>\n",
       "    </tr>\n",
       "    <tr>\n",
       "      <th>40</th>\n",
       "      <td>12</td>\n",
       "      <td>4</td>\n",
       "    </tr>\n",
       "    <tr>\n",
       "      <th>41</th>\n",
       "      <td>3</td>\n",
       "      <td>0</td>\n",
       "    </tr>\n",
       "    <tr>\n",
       "      <th>42</th>\n",
       "      <td>10</td>\n",
       "      <td>5</td>\n",
       "    </tr>\n",
       "    <tr>\n",
       "      <th>43</th>\n",
       "      <td>6</td>\n",
       "      <td>5</td>\n",
       "    </tr>\n",
       "    <tr>\n",
       "      <th>44</th>\n",
       "      <td>5</td>\n",
       "      <td>5</td>\n",
       "    </tr>\n",
       "    <tr>\n",
       "      <th>45</th>\n",
       "      <td>3</td>\n",
       "      <td>1</td>\n",
       "    </tr>\n",
       "    <tr>\n",
       "      <th>46</th>\n",
       "      <td>3</td>\n",
       "      <td>3</td>\n",
       "    </tr>\n",
       "    <tr>\n",
       "      <th>47</th>\n",
       "      <td>5</td>\n",
       "      <td>3</td>\n",
       "    </tr>\n",
       "    <tr>\n",
       "      <th>48</th>\n",
       "      <td>4</td>\n",
       "      <td>0</td>\n",
       "    </tr>\n",
       "    <tr>\n",
       "      <th>49</th>\n",
       "      <td>1</td>\n",
       "      <td>2</td>\n",
       "    </tr>\n",
       "    <tr>\n",
       "      <th>50</th>\n",
       "      <td>5</td>\n",
       "      <td>0</td>\n",
       "    </tr>\n",
       "    <tr>\n",
       "      <th>51</th>\n",
       "      <td>0</td>\n",
       "      <td>1</td>\n",
       "    </tr>\n",
       "    <tr>\n",
       "      <th>52</th>\n",
       "      <td>5</td>\n",
       "      <td>0</td>\n",
       "    </tr>\n",
       "    <tr>\n",
       "      <th>53</th>\n",
       "      <td>1</td>\n",
       "      <td>5</td>\n",
       "    </tr>\n",
       "    <tr>\n",
       "      <th>54</th>\n",
       "      <td>2</td>\n",
       "      <td>0</td>\n",
       "    </tr>\n",
       "    <tr>\n",
       "      <th>55</th>\n",
       "      <td>4</td>\n",
       "      <td>2</td>\n",
       "    </tr>\n",
       "    <tr>\n",
       "      <th>56</th>\n",
       "      <td>1</td>\n",
       "      <td>1</td>\n",
       "    </tr>\n",
       "    <tr>\n",
       "      <th>58</th>\n",
       "      <td>1</td>\n",
       "      <td>1</td>\n",
       "    </tr>\n",
       "    <tr>\n",
       "      <th>59</th>\n",
       "      <td>0</td>\n",
       "      <td>1</td>\n",
       "    </tr>\n",
       "    <tr>\n",
       "      <th>60</th>\n",
       "      <td>0</td>\n",
       "      <td>1</td>\n",
       "    </tr>\n",
       "    <tr>\n",
       "      <th>61</th>\n",
       "      <td>1</td>\n",
       "      <td>1</td>\n",
       "    </tr>\n",
       "    <tr>\n",
       "      <th>64</th>\n",
       "      <td>1</td>\n",
       "      <td>0</td>\n",
       "    </tr>\n",
       "  </tbody>\n",
       "</table>\n",
       "</div>"
      ],
      "text/plain": [
       "ASD  NO  YES\n",
       "age         \n",
       "17   13    5\n",
       "18   25    6\n",
       "19   27    8\n",
       "20   33   13\n",
       "21   39   10\n",
       "22   28    9\n",
       "23   33    4\n",
       "24   28    6\n",
       "25   21    6\n",
       "26   24    4\n",
       "27   23    8\n",
       "28   15    9\n",
       "29   22    5\n",
       "30   20   13\n",
       "31   16    5\n",
       "32   15    3\n",
       "33    8    8\n",
       "34   11    1\n",
       "35    9    8\n",
       "36    9    4\n",
       "37   12    5\n",
       "38    6    6\n",
       "39    5    2\n",
       "40   12    4\n",
       "41    3    0\n",
       "42   10    5\n",
       "43    6    5\n",
       "44    5    5\n",
       "45    3    1\n",
       "46    3    3\n",
       "47    5    3\n",
       "48    4    0\n",
       "49    1    2\n",
       "50    5    0\n",
       "51    0    1\n",
       "52    5    0\n",
       "53    1    5\n",
       "54    2    0\n",
       "55    4    2\n",
       "56    1    1\n",
       "58    1    1\n",
       "59    0    1\n",
       "60    0    1\n",
       "61    1    1\n",
       "64    1    0"
      ]
     },
     "execution_count": 21,
     "metadata": {},
     "output_type": "execute_result"
    }
   ],
   "source": [
    "pd.crosstab(data['age'], data['ASD'])"
   ]
  },
  {
   "cell_type": "code",
   "execution_count": 22,
   "id": "4779d863",
   "metadata": {},
   "outputs": [
    {
     "data": {
      "image/png": "[encoded data removed]",
      "text/plain": [
       "<Figure size 1440x720 with 2 Axes>"
      ]
     },
     "metadata": {
      "needs_background": "light"
     },
     "output_type": "display_data"
    }
   ],
   "source": [
    "f,ax=plt.subplots(1,2,figsize=(20,10))\n",
    "data[data['ASD']=='NO'].age.plot.hist(ax=ax[0],bins=20,edgecolor='black',color='red')\n",
    "ax[0].set_title('ASD NO')\n",
    "x1=list(range(0,85,5))\n",
    "ax[0].set_xticks(x1)\n",
    "data[data['ASD']=='YES'].age.plot.hist(ax=ax[1],color='green',bins=20,edgecolor='black')\n",
    "ax[1].set_title('ASD YES')\n",
    "x2=list(range(0,85,5))\n",
    "ax[1].set_xticks(x2)\n",
    "plt.show()"
   ]
  },
  {
   "cell_type": "markdown",
   "id": "3b384d9f",
   "metadata": {},
   "source": [
    "Максимальный возраст в выборке 64 с отрицательным ASD, минимальный 17 с положительным.  \n",
    "Судя по данным и графикам не можем точно сказать, что есть какая-либо зависимость ASD от возраста"
   ]
  },
  {
   "cell_type": "markdown",
   "id": "00b2aa73",
   "metadata": {},
   "source": [
    "Посмотрим на статистику по другим полям, содержащим цифровые значения."
   ]
  },
  {
   "cell_type": "code",
   "execution_count": 82,
   "id": "11559b5b",
   "metadata": {},
   "outputs": [
    {
     "data": {
      "text/html": [
       "<div>\n",
       "<style scoped>\n",
       "    .dataframe tbody tr th:only-of-type {\n",
       "        vertical-align: middle;\n",
       "    }\n",
       "\n",
       "    .dataframe tbody tr th {\n",
       "        vertical-align: top;\n",
       "    }\n",
       "\n",
       "    .dataframe thead th {\n",
       "        text-align: right;\n",
       "    }\n",
       "</style>\n",
       "<table border=\"1\" class=\"dataframe\">\n",
       "  <thead>\n",
       "    <tr style=\"text-align: right;\">\n",
       "      <th></th>\n",
       "      <th>A1_Score</th>\n",
       "      <th>A2_Score</th>\n",
       "      <th>A3_Score</th>\n",
       "      <th>A4_Score</th>\n",
       "      <th>A5_Score</th>\n",
       "      <th>A6_Score</th>\n",
       "      <th>A7_Score</th>\n",
       "      <th>A8_Score</th>\n",
       "      <th>A9_Score</th>\n",
       "      <th>A10_Score</th>\n",
       "      <th>age</th>\n",
       "      <th>result</th>\n",
       "    </tr>\n",
       "  </thead>\n",
       "  <tbody>\n",
       "    <tr>\n",
       "      <th>count</th>\n",
       "      <td>704.000000</td>\n",
       "      <td>704.000000</td>\n",
       "      <td>704.000000</td>\n",
       "      <td>704.000000</td>\n",
       "      <td>704.000000</td>\n",
       "      <td>704.000000</td>\n",
       "      <td>704.000000</td>\n",
       "      <td>704.000000</td>\n",
       "      <td>704.000000</td>\n",
       "      <td>704.000000</td>\n",
       "      <td>704.000000</td>\n",
       "      <td>704.000000</td>\n",
       "    </tr>\n",
       "    <tr>\n",
       "      <th>mean</th>\n",
       "      <td>0.721591</td>\n",
       "      <td>0.453125</td>\n",
       "      <td>0.457386</td>\n",
       "      <td>0.495739</td>\n",
       "      <td>0.498580</td>\n",
       "      <td>0.284091</td>\n",
       "      <td>0.417614</td>\n",
       "      <td>0.649148</td>\n",
       "      <td>0.323864</td>\n",
       "      <td>0.573864</td>\n",
       "      <td>29.197443</td>\n",
       "      <td>4.875000</td>\n",
       "    </tr>\n",
       "    <tr>\n",
       "      <th>std</th>\n",
       "      <td>0.448535</td>\n",
       "      <td>0.498152</td>\n",
       "      <td>0.498535</td>\n",
       "      <td>0.500337</td>\n",
       "      <td>0.500353</td>\n",
       "      <td>0.451301</td>\n",
       "      <td>0.493516</td>\n",
       "      <td>0.477576</td>\n",
       "      <td>0.468281</td>\n",
       "      <td>0.494866</td>\n",
       "      <td>9.690925</td>\n",
       "      <td>2.501493</td>\n",
       "    </tr>\n",
       "    <tr>\n",
       "      <th>min</th>\n",
       "      <td>0.000000</td>\n",
       "      <td>0.000000</td>\n",
       "      <td>0.000000</td>\n",
       "      <td>0.000000</td>\n",
       "      <td>0.000000</td>\n",
       "      <td>0.000000</td>\n",
       "      <td>0.000000</td>\n",
       "      <td>0.000000</td>\n",
       "      <td>0.000000</td>\n",
       "      <td>0.000000</td>\n",
       "      <td>17.000000</td>\n",
       "      <td>0.000000</td>\n",
       "    </tr>\n",
       "    <tr>\n",
       "      <th>25%</th>\n",
       "      <td>0.000000</td>\n",
       "      <td>0.000000</td>\n",
       "      <td>0.000000</td>\n",
       "      <td>0.000000</td>\n",
       "      <td>0.000000</td>\n",
       "      <td>0.000000</td>\n",
       "      <td>0.000000</td>\n",
       "      <td>0.000000</td>\n",
       "      <td>0.000000</td>\n",
       "      <td>0.000000</td>\n",
       "      <td>21.000000</td>\n",
       "      <td>3.000000</td>\n",
       "    </tr>\n",
       "    <tr>\n",
       "      <th>50%</th>\n",
       "      <td>1.000000</td>\n",
       "      <td>0.000000</td>\n",
       "      <td>0.000000</td>\n",
       "      <td>0.000000</td>\n",
       "      <td>0.000000</td>\n",
       "      <td>0.000000</td>\n",
       "      <td>0.000000</td>\n",
       "      <td>1.000000</td>\n",
       "      <td>0.000000</td>\n",
       "      <td>1.000000</td>\n",
       "      <td>27.000000</td>\n",
       "      <td>4.000000</td>\n",
       "    </tr>\n",
       "    <tr>\n",
       "      <th>75%</th>\n",
       "      <td>1.000000</td>\n",
       "      <td>1.000000</td>\n",
       "      <td>1.000000</td>\n",
       "      <td>1.000000</td>\n",
       "      <td>1.000000</td>\n",
       "      <td>1.000000</td>\n",
       "      <td>1.000000</td>\n",
       "      <td>1.000000</td>\n",
       "      <td>1.000000</td>\n",
       "      <td>1.000000</td>\n",
       "      <td>35.000000</td>\n",
       "      <td>7.000000</td>\n",
       "    </tr>\n",
       "    <tr>\n",
       "      <th>max</th>\n",
       "      <td>1.000000</td>\n",
       "      <td>1.000000</td>\n",
       "      <td>1.000000</td>\n",
       "      <td>1.000000</td>\n",
       "      <td>1.000000</td>\n",
       "      <td>1.000000</td>\n",
       "      <td>1.000000</td>\n",
       "      <td>1.000000</td>\n",
       "      <td>1.000000</td>\n",
       "      <td>1.000000</td>\n",
       "      <td>64.000000</td>\n",
       "      <td>10.000000</td>\n",
       "    </tr>\n",
       "  </tbody>\n",
       "</table>\n",
       "</div>"
      ],
      "text/plain": [
       "         A1_Score    A2_Score    A3_Score    A4_Score    A5_Score    A6_Score  \\\n",
       "count  704.000000  704.000000  704.000000  704.000000  704.000000  704.000000   \n",
       "mean     0.721591    0.453125    0.457386    0.495739    0.498580    0.284091   \n",
       "std      0.448535    0.498152    0.498535    0.500337    0.500353    0.451301   \n",
       "min      0.000000    0.000000    0.000000    0.000000    0.000000    0.000000   \n",
       "25%      0.000000    0.000000    0.000000    0.000000    0.000000    0.000000   \n",
       "50%      1.000000    0.000000    0.000000    0.000000    0.000000    0.000000   \n",
       "75%      1.000000    1.000000    1.000000    1.000000    1.000000    1.000000   \n",
       "max      1.000000    1.000000    1.000000    1.000000    1.000000    1.000000   \n",
       "\n",
       "         A7_Score    A8_Score    A9_Score   A10_Score         age      result  \n",
       "count  704.000000  704.000000  704.000000  704.000000  704.000000  704.000000  \n",
       "mean     0.417614    0.649148    0.323864    0.573864   29.197443    4.875000  \n",
       "std      0.493516    0.477576    0.468281    0.494866    9.690925    2.501493  \n",
       "min      0.000000    0.000000    0.000000    0.000000   17.000000    0.000000  \n",
       "25%      0.000000    0.000000    0.000000    0.000000   21.000000    3.000000  \n",
       "50%      0.000000    1.000000    0.000000    1.000000   27.000000    4.000000  \n",
       "75%      1.000000    1.000000    1.000000    1.000000   35.000000    7.000000  \n",
       "max      1.000000    1.000000    1.000000    1.000000   64.000000   10.000000  "
      ]
     },
     "execution_count": 82,
     "metadata": {},
     "output_type": "execute_result"
    }
   ],
   "source": [
    "data.describe()"
   ]
  },
  {
   "cell_type": "markdown",
   "id": "d8373671",
   "metadata": {},
   "source": [
    "Значения всех полей находятся в пределах допустимых значений из описания к данным"
   ]
  },
  {
   "cell_type": "markdown",
   "id": "0ee2ea74",
   "metadata": {},
   "source": [
    "### Проведем анализ остальных признаков"
   ]
  },
  {
   "cell_type": "markdown",
   "id": "5467e593",
   "metadata": {},
   "source": [
    "Считаю, что признаки A1_Score - A10_Score хоть и содержат ответом цифровые значения, но являются категориальными, так как цифрами 1, 0 закодированы положительные/отрицательные ответы на вопросы с 1 по 10, данные признаки делят опрошенных условно на 2 категории по их ответу."
   ]
  },
  {
   "cell_type": "markdown",
   "id": "cb1806e1",
   "metadata": {},
   "source": [
    "Заменим значечения YES/NO в поле ASD на 1 и 0 соответственно"
   ]
  },
  {
   "cell_type": "code",
   "execution_count": 23,
   "id": "6eede3dd",
   "metadata": {},
   "outputs": [],
   "source": [
    "data['ASD'] = data['ASD'].replace('YES', 1)\n",
    "data['ASD'] = data['ASD'].replace('NO', 0)"
   ]
  },
  {
   "cell_type": "markdown",
   "id": "e3f4d57f",
   "metadata": {},
   "source": [
    "### Признак A1_Score"
   ]
  },
  {
   "cell_type": "code",
   "execution_count": 24,
   "id": "b4b575a3",
   "metadata": {},
   "outputs": [
    {
     "data": {
      "text/plain": [
       "1    508\n",
       "0    196\n",
       "Name: A1_Score, dtype: int64"
      ]
     },
     "execution_count": 24,
     "metadata": {},
     "output_type": "execute_result"
    }
   ],
   "source": [
    "data.A1_Score.value_counts()"
   ]
  },
  {
   "cell_type": "code",
   "execution_count": 25,
   "id": "36806a02",
   "metadata": {},
   "outputs": [
    {
     "data": {
      "text/plain": [
       "A1_Score  ASD\n",
       "0         0      185\n",
       "          1       11\n",
       "1         0      330\n",
       "          1      178\n",
       "Name: A1_Score, dtype: int64"
      ]
     },
     "execution_count": 25,
     "metadata": {},
     "output_type": "execute_result"
    }
   ],
   "source": [
    "data.groupby(['A1_Score','ASD'])['A1_Score'].count()"
   ]
  },
  {
   "cell_type": "code",
   "execution_count": 126,
   "id": "7da43138",
   "metadata": {},
   "outputs": [
    {
     "data": {
      "image/png": "[encoded data removed]",
      "text/plain": [
       "<Figure size 1440x720 with 2 Axes>"
      ]
     },
     "metadata": {
      "needs_background": "light"
     },
     "output_type": "display_data"
    }
   ],
   "source": [
    "f,ax=plt.subplots(1,2,figsize=(20,10))\n",
    "data[['A1_Score','ASD']].groupby(['A1_Score']).mean().plot.bar(ax=ax[0])\n",
    "ax[0].set_title('A1_Score vs ASD')\n",
    "sns.countplot('A1_Score',hue='ASD',data=data,ax=ax[1])\n",
    "ax[1].set_title('A1_Score:ASD yes or no')\n",
    "plt.show()"
   ]
  },
  {
   "cell_type": "markdown",
   "id": "0b9bdf66",
   "metadata": {},
   "source": [
    "Данный признак скорее всего будет довольно важен при моделировании, так как существует зависимость между положительным ответом на вопрос и уровнем заболеваемости ASD, при положительном ответе риск заболевания возрастает "
   ]
  },
  {
   "cell_type": "markdown",
   "id": "bda72dff",
   "metadata": {},
   "source": [
    "### Признак A2_Score"
   ]
  },
  {
   "cell_type": "code",
   "execution_count": 127,
   "id": "4e0508c8",
   "metadata": {},
   "outputs": [
    {
     "data": {
      "text/plain": [
       "0    385\n",
       "1    319\n",
       "Name: A2_Score, dtype: int64"
      ]
     },
     "execution_count": 127,
     "metadata": {},
     "output_type": "execute_result"
    }
   ],
   "source": [
    "data.A2_Score.value_counts()"
   ]
  },
  {
   "cell_type": "code",
   "execution_count": 128,
   "id": "aac1b1e3",
   "metadata": {},
   "outputs": [
    {
     "data": {
      "text/plain": [
       "A2_Score  ASD\n",
       "0         0      330\n",
       "          1       55\n",
       "1         0      185\n",
       "          1      134\n",
       "Name: A2_Score, dtype: int64"
      ]
     },
     "execution_count": 128,
     "metadata": {},
     "output_type": "execute_result"
    }
   ],
   "source": [
    "data.groupby(['A2_Score','ASD'])['A2_Score'].count()"
   ]
  },
  {
   "cell_type": "code",
   "execution_count": 129,
   "id": "2485ccac",
   "metadata": {},
   "outputs": [
    {
     "data": {
      "image/png": "[encoded data removed]",
      "text/plain": [
       "<Figure size 1440x720 with 2 Axes>"
      ]
     },
     "metadata": {
      "needs_background": "light"
     },
     "output_type": "display_data"
    }
   ],
   "source": [
    "f,ax=plt.subplots(1,2,figsize=(20,10))\n",
    "data[['A2_Score','ASD']].groupby(['A2_Score']).mean().plot.bar(ax=ax[0])\n",
    "ax[0].set_title('A2_Score vs ASD')\n",
    "sns.countplot('A2_Score',hue='ASD',data=data,ax=ax[1])\n",
    "ax[1].set_title('A2_Score:ASD yes or no')\n",
    "plt.show()"
   ]
  },
  {
   "cell_type": "markdown",
   "id": "e5005918",
   "metadata": {},
   "source": [
    "Признак довольно важен, при положительном ответе на вопрос процент заболеваемости больше."
   ]
  },
  {
   "cell_type": "markdown",
   "id": "800ed99f",
   "metadata": {},
   "source": [
    "### Признак A3_Score"
   ]
  },
  {
   "cell_type": "code",
   "execution_count": 130,
   "id": "86f7f7a6",
   "metadata": {},
   "outputs": [
    {
     "data": {
      "text/plain": [
       "0    382\n",
       "1    322\n",
       "Name: A3_Score, dtype: int64"
      ]
     },
     "execution_count": 130,
     "metadata": {},
     "output_type": "execute_result"
    }
   ],
   "source": [
    "data.A3_Score.value_counts()"
   ]
  },
  {
   "cell_type": "code",
   "execution_count": 131,
   "id": "08999724",
   "metadata": {},
   "outputs": [
    {
     "data": {
      "text/plain": [
       "A3_Score  ASD\n",
       "0         0      348\n",
       "          1       34\n",
       "1         0      167\n",
       "          1      155\n",
       "Name: A3_Score, dtype: int64"
      ]
     },
     "execution_count": 131,
     "metadata": {},
     "output_type": "execute_result"
    }
   ],
   "source": [
    "data.groupby(['A3_Score','ASD'])['A3_Score'].count()"
   ]
  },
  {
   "cell_type": "code",
   "execution_count": 132,
   "id": "d5573ada",
   "metadata": {},
   "outputs": [
    {
     "data": {
      "image/png": "[encoded data removed]",
      "text/plain": [
       "<Figure size 1440x720 with 2 Axes>"
      ]
     },
     "metadata": {
      "needs_background": "light"
     },
     "output_type": "display_data"
    }
   ],
   "source": [
    "f,ax=plt.subplots(1,2,figsize=(20,10))\n",
    "data[['A3_Score','ASD']].groupby(['A3_Score']).mean().plot.bar(ax=ax[0])\n",
    "ax[0].set_title('A3_Score vs ASD')\n",
    "sns.countplot('A3_Score',hue='ASD',data=data,ax=ax[1])\n",
    "ax[1].set_title('A3_Score:ASD yes or no')\n",
    "plt.show()"
   ]
  },
  {
   "cell_type": "markdown",
   "id": "71ba315a",
   "metadata": {},
   "source": [
    "Признак довольно важен, при положительном ответе на вопрос процент заболеваемости больше, и составляет почти 50%"
   ]
  },
  {
   "cell_type": "markdown",
   "id": "537348d2",
   "metadata": {},
   "source": [
    "### Признак A4_Score"
   ]
  },
  {
   "cell_type": "code",
   "execution_count": 133,
   "id": "6d2f73e1",
   "metadata": {},
   "outputs": [
    {
     "data": {
      "text/plain": [
       "0    355\n",
       "1    349\n",
       "Name: A4_Score, dtype: int64"
      ]
     },
     "execution_count": 133,
     "metadata": {},
     "output_type": "execute_result"
    }
   ],
   "source": [
    "data.A4_Score.value_counts()"
   ]
  },
  {
   "cell_type": "code",
   "execution_count": 134,
   "id": "b3577f65",
   "metadata": {},
   "outputs": [
    {
     "data": {
      "text/plain": [
       "A4_Score  ASD\n",
       "0         0      333\n",
       "          1       22\n",
       "1         0      182\n",
       "          1      167\n",
       "Name: A4_Score, dtype: int64"
      ]
     },
     "execution_count": 134,
     "metadata": {},
     "output_type": "execute_result"
    }
   ],
   "source": [
    "data.groupby(['A4_Score','ASD'])['A4_Score'].count()"
   ]
  },
  {
   "cell_type": "code",
   "execution_count": 135,
   "id": "223f804d",
   "metadata": {},
   "outputs": [
    {
     "data": {
      "image/png": "[encoded data removed]",
      "text/plain": [
       "<Figure size 1440x720 with 2 Axes>"
      ]
     },
     "metadata": {
      "needs_background": "light"
     },
     "output_type": "display_data"
    }
   ],
   "source": [
    "f,ax=plt.subplots(1,2,figsize=(20,10))\n",
    "data[['A4_Score','ASD']].groupby(['A4_Score']).mean().plot.bar(ax=ax[0])\n",
    "ax[0].set_title('A4_Score vs ASD')\n",
    "sns.countplot('A4_Score',hue='ASD',data=data,ax=ax[1])\n",
    "ax[1].set_title('A4_Score:ASD yes or no')\n",
    "plt.show()"
   ]
  },
  {
   "cell_type": "markdown",
   "id": "e388f372",
   "metadata": {},
   "source": [
    "Признак довольно важен, при положительном ответе на вопрос процент заболеваемости больше."
   ]
  },
  {
   "cell_type": "markdown",
   "id": "e716e3f1",
   "metadata": {},
   "source": [
    "### Признак A5_Score"
   ]
  },
  {
   "cell_type": "code",
   "execution_count": 136,
   "id": "e93d917b",
   "metadata": {},
   "outputs": [
    {
     "data": {
      "text/plain": [
       "0    353\n",
       "1    351\n",
       "Name: A5_Score, dtype: int64"
      ]
     },
     "execution_count": 136,
     "metadata": {},
     "output_type": "execute_result"
    }
   ],
   "source": [
    "data.A5_Score.value_counts()"
   ]
  },
  {
   "cell_type": "code",
   "execution_count": 137,
   "id": "d1cc7315",
   "metadata": {},
   "outputs": [
    {
     "data": {
      "text/plain": [
       "A5_Score  ASD\n",
       "0         0      342\n",
       "          1       11\n",
       "1         0      173\n",
       "          1      178\n",
       "Name: A5_Score, dtype: int64"
      ]
     },
     "execution_count": 137,
     "metadata": {},
     "output_type": "execute_result"
    }
   ],
   "source": [
    "data.groupby(['A5_Score','ASD'])['A5_Score'].count()"
   ]
  },
  {
   "cell_type": "code",
   "execution_count": 138,
   "id": "2990e1e5",
   "metadata": {},
   "outputs": [
    {
     "data": {
      "image/png": "[encoded data removed]",
      "text/plain": [
       "<Figure size 1440x720 with 2 Axes>"
      ]
     },
     "metadata": {
      "needs_background": "light"
     },
     "output_type": "display_data"
    }
   ],
   "source": [
    "f,ax=plt.subplots(1,2,figsize=(20,10))\n",
    "data[['A5_Score','ASD']].groupby(['A5_Score']).mean().plot.bar(ax=ax[0])\n",
    "ax[0].set_title('A5_Score vs ASD')\n",
    "sns.countplot('A5_Score',hue='ASD',data=data,ax=ax[1])\n",
    "ax[1].set_title('A5_Score:ASD yes or no')\n",
    "plt.show()"
   ]
  },
  {
   "cell_type": "markdown",
   "id": "cc896b5b",
   "metadata": {},
   "source": [
    "Признак важен, при положительном ответе на вопрос у более 50% опрошенных ASD"
   ]
  },
  {
   "cell_type": "markdown",
   "id": "4001559f",
   "metadata": {},
   "source": [
    "### Признак A6_Score"
   ]
  },
  {
   "cell_type": "code",
   "execution_count": 139,
   "id": "3f595ab1",
   "metadata": {},
   "outputs": [
    {
     "data": {
      "text/plain": [
       "0    504\n",
       "1    200\n",
       "Name: A6_Score, dtype: int64"
      ]
     },
     "execution_count": 139,
     "metadata": {},
     "output_type": "execute_result"
    }
   ],
   "source": [
    "data.A6_Score.value_counts()"
   ]
  },
  {
   "cell_type": "code",
   "execution_count": 140,
   "id": "e5027375",
   "metadata": {},
   "outputs": [
    {
     "data": {
      "text/plain": [
       "A6_Score  ASD\n",
       "0         0      452\n",
       "          1       52\n",
       "1         0       63\n",
       "          1      137\n",
       "Name: A6_Score, dtype: int64"
      ]
     },
     "execution_count": 140,
     "metadata": {},
     "output_type": "execute_result"
    }
   ],
   "source": [
    "data.groupby(['A6_Score','ASD'])['A6_Score'].count()"
   ]
  },
  {
   "cell_type": "code",
   "execution_count": 141,
   "id": "adf07e33",
   "metadata": {},
   "outputs": [
    {
     "data": {
      "image/png": "[encoded data removed]",
      "text/plain": [
       "<Figure size 1440x720 with 2 Axes>"
      ]
     },
     "metadata": {
      "needs_background": "light"
     },
     "output_type": "display_data"
    }
   ],
   "source": [
    "f,ax=plt.subplots(1,2,figsize=(20,10))\n",
    "data[['A6_Score','ASD']].groupby(['A6_Score']).mean().plot.bar(ax=ax[0])\n",
    "ax[0].set_title('A6_Score vs ASD')\n",
    "sns.countplot('A6_Score',hue='ASD',data=data,ax=ax[1])\n",
    "ax[1].set_title('A6_Score:ASD yes or no')\n",
    "plt.show()"
   ]
  },
  {
   "cell_type": "markdown",
   "id": "a54b9b67",
   "metadata": {},
   "source": [
    "Признак важен, при положительном ответе на вопрос у более 68% опрошенных ASD"
   ]
  },
  {
   "cell_type": "markdown",
   "id": "a3ca1b50",
   "metadata": {},
   "source": [
    "### Признак A7_Score"
   ]
  },
  {
   "cell_type": "code",
   "execution_count": 142,
   "id": "fc597061",
   "metadata": {},
   "outputs": [
    {
     "data": {
      "text/plain": [
       "0    410\n",
       "1    294\n",
       "Name: A7_Score, dtype: int64"
      ]
     },
     "execution_count": 142,
     "metadata": {},
     "output_type": "execute_result"
    }
   ],
   "source": [
    "data.A7_Score.value_counts()"
   ]
  },
  {
   "cell_type": "code",
   "execution_count": 143,
   "id": "7e46b013",
   "metadata": {},
   "outputs": [
    {
     "data": {
      "text/plain": [
       "A7_Score  ASD\n",
       "0         0      354\n",
       "          1       56\n",
       "1         0      161\n",
       "          1      133\n",
       "Name: A7_Score, dtype: int64"
      ]
     },
     "execution_count": 143,
     "metadata": {},
     "output_type": "execute_result"
    }
   ],
   "source": [
    "data.groupby(['A7_Score','ASD'])['A7_Score'].count()"
   ]
  },
  {
   "cell_type": "code",
   "execution_count": 144,
   "id": "36f3ecbd",
   "metadata": {},
   "outputs": [
    {
     "data": {
      "image/png": "[encoded data removed]",
      "text/plain": [
       "<Figure size 1440x720 with 2 Axes>"
      ]
     },
     "metadata": {
      "needs_background": "light"
     },
     "output_type": "display_data"
    }
   ],
   "source": [
    "f,ax=plt.subplots(1,2,figsize=(20,10))\n",
    "data[['A7_Score','ASD']].groupby(['A7_Score']).mean().plot.bar(ax=ax[0])\n",
    "ax[0].set_title('A7_Score vs ASD')\n",
    "sns.countplot('A7_Score',hue='ASD',data=data,ax=ax[1])\n",
    "ax[1].set_title('A7_Score:ASD yes or no')\n",
    "plt.show()"
   ]
  },
  {
   "cell_type": "markdown",
   "id": "8be67946",
   "metadata": {},
   "source": [
    "Признак довольно важен, при положительном ответе на вопрос процент заболеваемости больше."
   ]
  },
  {
   "cell_type": "markdown",
   "id": "df9db3ef",
   "metadata": {},
   "source": [
    "### Признак A8_Score"
   ]
  },
  {
   "cell_type": "code",
   "execution_count": 145,
   "id": "14514b0a",
   "metadata": {},
   "outputs": [
    {
     "data": {
      "text/plain": [
       "1    457\n",
       "0    247\n",
       "Name: A8_Score, dtype: int64"
      ]
     },
     "execution_count": 145,
     "metadata": {},
     "output_type": "execute_result"
    }
   ],
   "source": [
    "data.A8_Score.value_counts()"
   ]
  },
  {
   "cell_type": "code",
   "execution_count": 146,
   "id": "e4739967",
   "metadata": {},
   "outputs": [
    {
     "data": {
      "text/plain": [
       "A8_Score  ASD\n",
       "0         0      216\n",
       "          1       31\n",
       "1         0      299\n",
       "          1      158\n",
       "Name: A8_Score, dtype: int64"
      ]
     },
     "execution_count": 146,
     "metadata": {},
     "output_type": "execute_result"
    }
   ],
   "source": [
    "data.groupby(['A8_Score','ASD'])['A8_Score'].count()"
   ]
  },
  {
   "cell_type": "code",
   "execution_count": 147,
   "id": "4afa80d5",
   "metadata": {},
   "outputs": [
    {
     "data": {
      "image/png": "[encoded data removed]",
      "text/plain": [
       "<Figure size 1440x720 with 2 Axes>"
      ]
     },
     "metadata": {
      "needs_background": "light"
     },
     "output_type": "display_data"
    }
   ],
   "source": [
    "f,ax=plt.subplots(1,2,figsize=(20,10))\n",
    "data[['A8_Score','ASD']].groupby(['A8_Score']).mean().plot.bar(ax=ax[0])\n",
    "ax[0].set_title('A8_Score vs ASD')\n",
    "sns.countplot('A8_Score',hue='ASD',data=data,ax=ax[1])\n",
    "ax[1].set_title('A8_Score:ASD yes or no')\n",
    "plt.show()"
   ]
  },
  {
   "cell_type": "markdown",
   "id": "2fffb84e",
   "metadata": {},
   "source": [
    "Признак довольно важен, при положительном ответе на вопрос процент заболеваемости больше."
   ]
  },
  {
   "cell_type": "markdown",
   "id": "c9c40a4e",
   "metadata": {},
   "source": [
    "### Признак A9_Score"
   ]
  },
  {
   "cell_type": "code",
   "execution_count": 148,
   "id": "8df68799",
   "metadata": {},
   "outputs": [
    {
     "data": {
      "text/plain": [
       "0    476\n",
       "1    228\n",
       "Name: A9_Score, dtype: int64"
      ]
     },
     "execution_count": 148,
     "metadata": {},
     "output_type": "execute_result"
    }
   ],
   "source": [
    "data.A9_Score.value_counts()"
   ]
  },
  {
   "cell_type": "code",
   "execution_count": 149,
   "id": "8f83c85f",
   "metadata": {},
   "outputs": [
    {
     "data": {
      "text/plain": [
       "A9_Score  ASD\n",
       "0         0      441\n",
       "          1       35\n",
       "1         0       74\n",
       "          1      154\n",
       "Name: A9_Score, dtype: int64"
      ]
     },
     "execution_count": 149,
     "metadata": {},
     "output_type": "execute_result"
    }
   ],
   "source": [
    "data.groupby(['A9_Score','ASD'])['A9_Score'].count()"
   ]
  },
  {
   "cell_type": "code",
   "execution_count": 150,
   "id": "01a18cf4",
   "metadata": {},
   "outputs": [
    {
     "data": {
      "image/png": "[encoded data removed]",
      "text/plain": [
       "<Figure size 1440x720 with 2 Axes>"
      ]
     },
     "metadata": {
      "needs_background": "light"
     },
     "output_type": "display_data"
    }
   ],
   "source": [
    "f,ax=plt.subplots(1,2,figsize=(20,10))\n",
    "data[['A9_Score','ASD']].groupby(['A9_Score']).mean().plot.bar(ax=ax[0])\n",
    "ax[0].set_title('A9_Score vs ASD')\n",
    "sns.countplot('A9_Score',hue='ASD',data=data,ax=ax[1])\n",
    "ax[1].set_title('A9_Score:ASD yes or no')\n",
    "plt.show()"
   ]
  },
  {
   "cell_type": "markdown",
   "id": "d732c7d6",
   "metadata": {},
   "source": [
    "Признак важен, при положительном ответе на вопрос у более 67% опрошенных ASD"
   ]
  },
  {
   "cell_type": "markdown",
   "id": "cae58b9b",
   "metadata": {},
   "source": [
    "### Признак A10_Score"
   ]
  },
  {
   "cell_type": "code",
   "execution_count": 151,
   "id": "0da1bd91",
   "metadata": {},
   "outputs": [
    {
     "data": {
      "text/plain": [
       "1    404\n",
       "0    300\n",
       "Name: A10_Score, dtype: int64"
      ]
     },
     "execution_count": 151,
     "metadata": {},
     "output_type": "execute_result"
    }
   ],
   "source": [
    "data.A10_Score.value_counts()"
   ]
  },
  {
   "cell_type": "code",
   "execution_count": 152,
   "id": "dbfada92",
   "metadata": {},
   "outputs": [
    {
     "data": {
      "text/plain": [
       "A10_Score  ASD\n",
       "0          0      279\n",
       "           1       21\n",
       "1          0      236\n",
       "           1      168\n",
       "Name: A10_Score, dtype: int64"
      ]
     },
     "execution_count": 152,
     "metadata": {},
     "output_type": "execute_result"
    }
   ],
   "source": [
    "data.groupby(['A10_Score','ASD'])['A10_Score'].count()"
   ]
  },
  {
   "cell_type": "code",
   "execution_count": 153,
   "id": "8f6888ae",
   "metadata": {},
   "outputs": [
    {
     "data": {
      "image/png": "[encoded data removed]",
      "text/plain": [
       "<Figure size 1440x720 with 2 Axes>"
      ]
     },
     "metadata": {
      "needs_background": "light"
     },
     "output_type": "display_data"
    }
   ],
   "source": [
    "f,ax=plt.subplots(1,2,figsize=(20,10))\n",
    "data[['A10_Score','ASD']].groupby(['A10_Score']).mean().plot.bar(ax=ax[0])\n",
    "ax[0].set_title('A10_Score vs ASD')\n",
    "sns.countplot('A10_Score',hue='ASD',data=data,ax=ax[1])\n",
    "ax[1].set_title('A10_Score:ASD yes or no')\n",
    "plt.show()"
   ]
  },
  {
   "cell_type": "markdown",
   "id": "15223fa3",
   "metadata": {},
   "source": [
    "Признак довольно важен, при положительном ответе на вопрос процент заболеваемости больше."
   ]
  },
  {
   "cell_type": "markdown",
   "id": "06fdf64a",
   "metadata": {},
   "source": [
    "### Признак result"
   ]
  },
  {
   "cell_type": "markdown",
   "id": "5d93ace1",
   "metadata": {},
   "source": [
    "Признак result является порядковым признаком"
   ]
  },
  {
   "cell_type": "code",
   "execution_count": 154,
   "id": "d8be8a17",
   "metadata": {},
   "outputs": [
    {
     "data": {
      "text/plain": [
       "4     131\n",
       "3     110\n",
       "5      83\n",
       "2      74\n",
       "6      70\n",
       "7      57\n",
       "8      55\n",
       "9      47\n",
       "1      33\n",
       "10     30\n",
       "0      14\n",
       "Name: result, dtype: int64"
      ]
     },
     "execution_count": 154,
     "metadata": {},
     "output_type": "execute_result"
    }
   ],
   "source": [
    "data.result.value_counts()"
   ]
  },
  {
   "cell_type": "code",
   "execution_count": 26,
   "id": "f4d6bc53",
   "metadata": {},
   "outputs": [
    {
     "data": {
      "text/plain": [
       "result  ASD\n",
       "0       0       14\n",
       "1       0       33\n",
       "2       0       74\n",
       "3       0      110\n",
       "4       0      131\n",
       "5       0       83\n",
       "6       0       70\n",
       "7       1       57\n",
       "8       1       55\n",
       "9       1       47\n",
       "10      1       30\n",
       "Name: result, dtype: int64"
      ]
     },
     "execution_count": 26,
     "metadata": {},
     "output_type": "execute_result"
    }
   ],
   "source": [
    "data.groupby(['result','ASD'])['result'].count()"
   ]
  },
  {
   "cell_type": "code",
   "execution_count": 156,
   "id": "6b2ff33e",
   "metadata": {},
   "outputs": [
    {
     "data": {
      "image/png": "[encoded data removed]",
      "text/plain": [
       "<Figure size 1440x720 with 2 Axes>"
      ]
     },
     "metadata": {
      "needs_background": "light"
     },
     "output_type": "display_data"
    }
   ],
   "source": [
    "f,ax=plt.subplots(1,2,figsize=(20,10))\n",
    "data[['result','ASD']].groupby(['result']).mean().plot.bar(ax=ax[0])\n",
    "ax[0].set_title('result vs ASD')\n",
    "sns.countplot('result',hue='ASD',data=data,ax=ax[1])\n",
    "ax[1].set_title('result:ASD yes or no')\n",
    "plt.show()"
   ]
  },
  {
   "cell_type": "markdown",
   "id": "744b6a55",
   "metadata": {},
   "source": [
    "Данный признак важен, для result<=6 случаев ASD не зафиксировано, а при значении данного признака от 7 до 10 100% наблюдается ASD"
   ]
  },
  {
   "cell_type": "markdown",
   "id": "6c90948b",
   "metadata": {},
   "source": [
    "##### Признак \"ПОЛ\""
   ]
  },
  {
   "cell_type": "code",
   "execution_count": 27,
   "id": "09b39084",
   "metadata": {},
   "outputs": [
    {
     "data": {
      "text/plain": [
       "array(['f', 'm'], dtype=object)"
      ]
     },
     "execution_count": 27,
     "metadata": {},
     "output_type": "execute_result"
    }
   ],
   "source": [
    "data.gender.unique()"
   ]
  },
  {
   "cell_type": "code",
   "execution_count": 50,
   "id": "0f7b71a5",
   "metadata": {},
   "outputs": [
    {
     "data": {
      "text/plain": [
       "m    367\n",
       "f    337\n",
       "Name: gender, dtype: int64"
      ]
     },
     "execution_count": 50,
     "metadata": {},
     "output_type": "execute_result"
    }
   ],
   "source": [
    "data.gender.value_counts()"
   ]
  },
  {
   "cell_type": "code",
   "execution_count": 49,
   "id": "6c99fd4c",
   "metadata": {},
   "outputs": [
    {
     "data": {
      "text/plain": [
       "gender  ASD\n",
       "f       NO     234\n",
       "        YES    103\n",
       "m       NO     281\n",
       "        YES     86\n",
       "Name: gender, dtype: int64"
      ]
     },
     "execution_count": 49,
     "metadata": {},
     "output_type": "execute_result"
    }
   ],
   "source": [
    "data.groupby(['gender','ASD'])['gender'].count()"
   ]
  },
  {
   "cell_type": "code",
   "execution_count": 79,
   "id": "5fe39ae2",
   "metadata": {},
   "outputs": [
    {
     "data": {
      "image/png": "[encoded data removed]",
      "text/plain": [
       "<Figure size 1440x720 with 2 Axes>"
      ]
     },
     "metadata": {
      "needs_background": "light"
     },
     "output_type": "display_data"
    }
   ],
   "source": [
    "f,ax=plt.subplots(1,2,figsize=(20,10))\n",
    "data[['gender','ASD']].groupby(['gender']).mean().plot.bar(ax=ax[0])\n",
    "ax[0].set_title('Gender vs ASD')\n",
    "sns.countplot('gender',hue='ASD',data=data,ax=ax[1])\n",
    "ax[1].set_title('Gender:ASD yes or no')\n",
    "plt.show()"
   ]
  },
  {
   "cell_type": "markdown",
   "id": "366be38d",
   "metadata": {},
   "source": [
    "В выборке мужчин и женщин примерно одинаково (мужчин немного больше), но при этом заболеваемость выше у женшин (не на много). Возможно данные в выборке не совсем корректны, так как по статистике, мужчины, или, скорее, мальчики, чаще страдают этим заболеванием, чем представители женского пола, в 4 раза. \n"
   ]
  },
  {
   "cell_type": "markdown",
   "id": "a954d3f7",
   "metadata": {},
   "source": [
    "Преобразуем значение данного признака в числовое значение:"
   ]
  },
  {
   "cell_type": "code",
   "execution_count": 27,
   "id": "c7c6b5c8",
   "metadata": {},
   "outputs": [],
   "source": [
    "data['gender'] = data['gender'].replace('f', 1)\n",
    "data['gender'] = data['gender'].replace('m', 0)"
   ]
  },
  {
   "cell_type": "markdown",
   "id": "04b2e11d",
   "metadata": {},
   "source": [
    "##### Признак \"Этническая принадлежность\""
   ]
  },
  {
   "cell_type": "code",
   "execution_count": 28,
   "id": "87383cf9",
   "metadata": {},
   "outputs": [
    {
     "data": {
      "text/plain": [
       "array(['White-European', 'Latino', '?', 'Others', 'Black', 'Asian',\n",
       "       \"'Middle Eastern '\", 'Pasifika', \"'South Asian'\", 'Hispanic',\n",
       "       'Turkish', 'others'], dtype=object)"
      ]
     },
     "execution_count": 28,
     "metadata": {},
     "output_type": "execute_result"
    }
   ],
   "source": [
    "data.ethnicity.unique()"
   ]
  },
  {
   "cell_type": "markdown",
   "id": "a6371e85",
   "metadata": {},
   "source": [
    "Заменим значения \"others\" в поле \"Этническая принадлежность\" на \"Others\", также тут есть значения \"?\", но с этим потом"
   ]
  },
  {
   "cell_type": "code",
   "execution_count": 29,
   "id": "9f7cb5fa",
   "metadata": {},
   "outputs": [
    {
     "data": {
      "text/plain": [
       "array(['White-European', 'Latino', '?', 'Others', 'Black', 'Asian',\n",
       "       \"'Middle Eastern '\", 'Pasifika', \"'South Asian'\", 'Hispanic',\n",
       "       'Turkish'], dtype=object)"
      ]
     },
     "execution_count": 29,
     "metadata": {},
     "output_type": "execute_result"
    }
   ],
   "source": [
    "data['ethnicity'] = data['ethnicity'].replace('others', 'Others')\n",
    "data.ethnicity.unique()"
   ]
  },
  {
   "cell_type": "code",
   "execution_count": 31,
   "id": "46cae530",
   "metadata": {},
   "outputs": [
    {
     "data": {
      "text/plain": [
       "White-European       233\n",
       "Asian                123\n",
       "?                     95\n",
       "'Middle Eastern '     92\n",
       "Black                 43\n",
       "'South Asian'         36\n",
       "Others                31\n",
       "Latino                20\n",
       "Hispanic              13\n",
       "Pasifika              12\n",
       "Turkish                6\n",
       "Name: ethnicity, dtype: int64"
      ]
     },
     "execution_count": 31,
     "metadata": {},
     "output_type": "execute_result"
    }
   ],
   "source": [
    "data.ethnicity.value_counts()"
   ]
  },
  {
   "cell_type": "code",
   "execution_count": 32,
   "id": "ca2f4b12",
   "metadata": {},
   "outputs": [
    {
     "data": {
      "text/plain": [
       "ethnicity          ASD\n",
       "'Middle Eastern '  0       84\n",
       "                   1        8\n",
       "'South Asian'      0       33\n",
       "                   1        3\n",
       "?                  0       86\n",
       "                   1        9\n",
       "Asian              0      107\n",
       "                   1       16\n",
       "Black              0       25\n",
       "                   1       18\n",
       "Hispanic           0        8\n",
       "                   1        5\n",
       "Latino             0       10\n",
       "                   1       10\n",
       "Others             0       22\n",
       "                   1        9\n",
       "Pasifika           0       11\n",
       "                   1        1\n",
       "Turkish            0        5\n",
       "                   1        1\n",
       "White-European     0      124\n",
       "                   1      109\n",
       "Name: ethnicity, dtype: int64"
      ]
     },
     "execution_count": 32,
     "metadata": {},
     "output_type": "execute_result"
    }
   ],
   "source": [
    "data.groupby(['ethnicity','ASD'])['ethnicity'].count()"
   ]
  },
  {
   "cell_type": "code",
   "execution_count": 89,
   "id": "b4736a7b",
   "metadata": {},
   "outputs": [
    {
     "data": {
      "image/png": "[encoded data removed]",
      "text/plain": [
       "<Figure size 1440x720 with 2 Axes>"
      ]
     },
     "metadata": {
      "needs_background": "light"
     },
     "output_type": "display_data"
    }
   ],
   "source": [
    "f,ax=plt.subplots(1,2,figsize=(20,10))\n",
    "data[['ethnicity','ASD']].groupby(['ethnicity']).mean().plot.bar(ax=ax[0])\n",
    "ax[0].set_title('ethnicity')\n",
    "sns.countplot('ethnicity',hue='ASD',data=data,ax=ax[1])\n",
    "ax[1].set_title('ethnicity:ASD yes or no')\n",
    "plt.show()"
   ]
  },
  {
   "cell_type": "markdown",
   "id": "255e2fe1",
   "metadata": {},
   "source": [
    "Попытаемся определить этническую принадлежность по стране проживания. Хотя возможно такой подход будет не совсем правильным, ведь в одной стране могут проживать люди различных этнических групп.  \n",
    "Будем заменять наиболее частым значением этнической группы по стране или той, которую предполагаем логически."
   ]
  },
  {
   "cell_type": "code",
   "execution_count": 89,
   "id": "ba39e19e",
   "metadata": {},
   "outputs": [
    {
     "data": {
      "text/plain": [
       "country_of_res\n",
       "'Hong Kong'                1\n",
       "'New Zealand'              5\n",
       "'Saudi Arabia'             2\n",
       "'United Arab Emirates'    15\n",
       "'United Kingdom'           1\n",
       "'United States'            1\n",
       "Afghanistan                3\n",
       "Argentina                  2\n",
       "Austria                    1\n",
       "Azerbaijan                 1\n",
       "Bahamas                    1\n",
       "Brazil                     1\n",
       "Egypt                      1\n",
       "Iran                       5\n",
       "Iraq                       1\n",
       "Japan                      1\n",
       "Jordan                    42\n",
       "Kazakhstan                 3\n",
       "Lebanon                    1\n",
       "Pakistan                   1\n",
       "Russia                     5\n",
       "Ukraine                    1\n",
       "Name: ethnicity, dtype: int64"
      ]
     },
     "execution_count": 89,
     "metadata": {},
     "output_type": "execute_result"
    }
   ],
   "source": [
    "d = data[data.ethnicity=='?']\n",
    "d.groupby('country_of_res')['ethnicity'].count()"
   ]
  },
  {
   "cell_type": "code",
   "execution_count": 30,
   "id": "3ee2c1e2",
   "metadata": {},
   "outputs": [],
   "source": [
    "data.loc[((data.ethnicity=='?')&(data.country_of_res==\"'Hong Kong'\")), 'ethnicity'] = 'Asian'"
   ]
  },
  {
   "cell_type": "code",
   "execution_count": 99,
   "id": "c012fea6",
   "metadata": {},
   "outputs": [
    {
     "data": {
      "text/plain": [
       "ethnicity\n",
       "'Middle Eastern '     7\n",
       "'South Asian'         9\n",
       "?                     5\n",
       "Asian                26\n",
       "Black                 3\n",
       "Others                5\n",
       "Pasifika              7\n",
       "White-European       19\n",
       "Name: ethnicity, dtype: int64"
      ]
     },
     "execution_count": 99,
     "metadata": {},
     "output_type": "execute_result"
    }
   ],
   "source": [
    "data[data.country_of_res==\"'New Zealand'\"].groupby('ethnicity')['ethnicity'].count()"
   ]
  },
  {
   "cell_type": "code",
   "execution_count": 31,
   "id": "da4cbdbc",
   "metadata": {},
   "outputs": [],
   "source": [
    "data.loc[((data.ethnicity=='?')&(data.country_of_res==\"'New Zealand'\")), 'ethnicity'] = 'Asian'"
   ]
  },
  {
   "cell_type": "code",
   "execution_count": 101,
   "id": "455e73e1",
   "metadata": {},
   "outputs": [
    {
     "data": {
      "text/plain": [
       "ethnicity\n",
       "'Middle Eastern '    2\n",
       "?                    2\n",
       "Name: ethnicity, dtype: int64"
      ]
     },
     "execution_count": 101,
     "metadata": {},
     "output_type": "execute_result"
    }
   ],
   "source": [
    "data[data.country_of_res==\"'Saudi Arabia'\"].groupby('ethnicity')['ethnicity'].count()"
   ]
  },
  {
   "cell_type": "code",
   "execution_count": 32,
   "id": "697bbf5a",
   "metadata": {},
   "outputs": [],
   "source": [
    "data.loc[((data.ethnicity=='?')&(data.country_of_res==\"'Saudi Arabia'\")), 'ethnicity'] = \"'Middle Eastern '\""
   ]
  },
  {
   "cell_type": "code",
   "execution_count": 103,
   "id": "661f2b04",
   "metadata": {},
   "outputs": [
    {
     "data": {
      "text/plain": [
       "ethnicity\n",
       "'Middle Eastern '    53\n",
       "'South Asian'         1\n",
       "?                    15\n",
       "Asian                 2\n",
       "Black                 5\n",
       "Others                3\n",
       "Pasifika              1\n",
       "Turkish               2\n",
       "Name: ethnicity, dtype: int64"
      ]
     },
     "execution_count": 103,
     "metadata": {},
     "output_type": "execute_result"
    }
   ],
   "source": [
    "data[data.country_of_res==\"'United Arab Emirates'\"].groupby('ethnicity')['ethnicity'].count()"
   ]
  },
  {
   "cell_type": "code",
   "execution_count": 33,
   "id": "4c148ff4",
   "metadata": {},
   "outputs": [],
   "source": [
    "data.loc[((data.ethnicity=='?')&(data.country_of_res==\"'United Arab Emirates'\")), 'ethnicity'] = \"'Middle Eastern '\""
   ]
  },
  {
   "cell_type": "code",
   "execution_count": 105,
   "id": "a2f8dccd",
   "metadata": {},
   "outputs": [
    {
     "data": {
      "text/plain": [
       "ethnicity\n",
       "'Middle Eastern '     2\n",
       "?                     1\n",
       "Asian                 2\n",
       "Black                 4\n",
       "Latino                1\n",
       "Others                2\n",
       "White-European       65\n",
       "Name: ethnicity, dtype: int64"
      ]
     },
     "execution_count": 105,
     "metadata": {},
     "output_type": "execute_result"
    }
   ],
   "source": [
    "data[data.country_of_res==\"'United Kingdom'\"].groupby('ethnicity')['ethnicity'].count()"
   ]
  },
  {
   "cell_type": "code",
   "execution_count": 34,
   "id": "551ab4f2",
   "metadata": {},
   "outputs": [],
   "source": [
    "data.loc[((data.ethnicity=='?')&(data.country_of_res==\"'United Kingdom'\")), 'ethnicity'] = 'White-European'"
   ]
  },
  {
   "cell_type": "code",
   "execution_count": 107,
   "id": "a613758a",
   "metadata": {},
   "outputs": [
    {
     "data": {
      "text/plain": [
       "ethnicity\n",
       "'Middle Eastern '     5\n",
       "'South Asian'         1\n",
       "?                     1\n",
       "Asian                 4\n",
       "Black                10\n",
       "Hispanic             11\n",
       "Latino                1\n",
       "Others                8\n",
       "Pasifika              1\n",
       "Turkish               1\n",
       "White-European       70\n",
       "Name: ethnicity, dtype: int64"
      ]
     },
     "execution_count": 107,
     "metadata": {},
     "output_type": "execute_result"
    }
   ],
   "source": [
    "data[data.country_of_res==\"'United States'\"].groupby('ethnicity')['ethnicity'].count()"
   ]
  },
  {
   "cell_type": "code",
   "execution_count": 35,
   "id": "4383f2af",
   "metadata": {},
   "outputs": [],
   "source": [
    "data.loc[((data.ethnicity=='?')&(data.country_of_res==\"'United States'\")), 'ethnicity'] = 'White-European'"
   ]
  },
  {
   "cell_type": "code",
   "execution_count": 109,
   "id": "a4ab5383",
   "metadata": {},
   "outputs": [
    {
     "data": {
      "text/plain": [
       "ethnicity\n",
       "'Middle Eastern '    6\n",
       "?                    3\n",
       "Asian                2\n",
       "Others               1\n",
       "White-European       1\n",
       "Name: ethnicity, dtype: int64"
      ]
     },
     "execution_count": 109,
     "metadata": {},
     "output_type": "execute_result"
    }
   ],
   "source": [
    "data[data.country_of_res==\"Afghanistan\"].groupby('ethnicity')['ethnicity'].count()"
   ]
  },
  {
   "cell_type": "code",
   "execution_count": 36,
   "id": "42579315",
   "metadata": {},
   "outputs": [],
   "source": [
    "data.loc[((data.ethnicity=='?')&(data.country_of_res==\"Afghanistan\")), 'ethnicity'] = \"'Middle Eastern '\""
   ]
  },
  {
   "cell_type": "code",
   "execution_count": 112,
   "id": "89bc6f8b",
   "metadata": {},
   "outputs": [
    {
     "data": {
      "text/plain": [
       "ethnicity\n",
       "?    2\n",
       "Name: ethnicity, dtype: int64"
      ]
     },
     "execution_count": 112,
     "metadata": {},
     "output_type": "execute_result"
    }
   ],
   "source": [
    "data[data.country_of_res==\"Argentina\"].groupby('ethnicity')['ethnicity'].count()"
   ]
  },
  {
   "cell_type": "code",
   "execution_count": 37,
   "id": "44857298",
   "metadata": {},
   "outputs": [],
   "source": [
    "data.loc[((data.ethnicity=='?')&(data.country_of_res==\"Argentina\")), 'ethnicity'] = 'Hispanic'"
   ]
  },
  {
   "cell_type": "code",
   "execution_count": 114,
   "id": "fd042f4f",
   "metadata": {},
   "outputs": [
    {
     "data": {
      "text/plain": [
       "ethnicity\n",
       "?                 1\n",
       "White-European    3\n",
       "Name: ethnicity, dtype: int64"
      ]
     },
     "execution_count": 114,
     "metadata": {},
     "output_type": "execute_result"
    }
   ],
   "source": [
    "data[data.country_of_res==\"Austria\"].groupby('ethnicity')['ethnicity'].count()"
   ]
  },
  {
   "cell_type": "code",
   "execution_count": 38,
   "id": "a0a07dfe",
   "metadata": {},
   "outputs": [],
   "source": [
    "data.loc[((data.ethnicity=='?')&(data.country_of_res==\"Austria\")), 'ethnicity'] = 'White-European'"
   ]
  },
  {
   "cell_type": "code",
   "execution_count": 116,
   "id": "9b7def5c",
   "metadata": {},
   "outputs": [
    {
     "data": {
      "text/plain": [
       "ethnicity\n",
       "?    1\n",
       "Name: ethnicity, dtype: int64"
      ]
     },
     "execution_count": 116,
     "metadata": {},
     "output_type": "execute_result"
    }
   ],
   "source": [
    "data[data.country_of_res==\"Azerbaijan\"].groupby('ethnicity')['ethnicity'].count()"
   ]
  },
  {
   "cell_type": "code",
   "execution_count": 39,
   "id": "1ae46272",
   "metadata": {},
   "outputs": [],
   "source": [
    "data.loc[((data.ethnicity=='?')&(data.country_of_res==\"Azerbaijan\")), 'ethnicity'] = 'Others'"
   ]
  },
  {
   "cell_type": "code",
   "execution_count": 118,
   "id": "f4597872",
   "metadata": {},
   "outputs": [
    {
     "data": {
      "text/plain": [
       "ethnicity\n",
       "?        1\n",
       "Asian    1\n",
       "Name: ethnicity, dtype: int64"
      ]
     },
     "execution_count": 118,
     "metadata": {},
     "output_type": "execute_result"
    }
   ],
   "source": [
    "data[data.country_of_res==\"Bahamas\"].groupby('ethnicity')['ethnicity'].count()"
   ]
  },
  {
   "cell_type": "code",
   "execution_count": 40,
   "id": "48a6b123",
   "metadata": {},
   "outputs": [],
   "source": [
    "data.loc[((data.ethnicity=='?')&(data.country_of_res==\"Bahamas\")), 'ethnicity'] = 'Asian'"
   ]
  },
  {
   "cell_type": "code",
   "execution_count": 120,
   "id": "f6acedf8",
   "metadata": {},
   "outputs": [
    {
     "data": {
      "text/plain": [
       "ethnicity\n",
       "?         1\n",
       "Black     2\n",
       "Latino    6\n",
       "Name: ethnicity, dtype: int64"
      ]
     },
     "execution_count": 120,
     "metadata": {},
     "output_type": "execute_result"
    }
   ],
   "source": [
    "data[data.country_of_res==\"Brazil\"].groupby('ethnicity')['ethnicity'].count()"
   ]
  },
  {
   "cell_type": "code",
   "execution_count": 41,
   "id": "eed236a9",
   "metadata": {},
   "outputs": [],
   "source": [
    "data.loc[((data.ethnicity=='?')&(data.country_of_res==\"Brazil\")), 'ethnicity'] = 'Latino'"
   ]
  },
  {
   "cell_type": "code",
   "execution_count": 123,
   "id": "d57d8c31",
   "metadata": {},
   "outputs": [
    {
     "data": {
      "text/plain": [
       "ethnicity\n",
       "'Middle Eastern '    2\n",
       "?                    1\n",
       "Name: ethnicity, dtype: int64"
      ]
     },
     "execution_count": 123,
     "metadata": {},
     "output_type": "execute_result"
    }
   ],
   "source": [
    "data[data.country_of_res==\"Egypt\"].groupby('ethnicity')['ethnicity'].count()"
   ]
  },
  {
   "cell_type": "code",
   "execution_count": 42,
   "id": "f05d65c7",
   "metadata": {},
   "outputs": [],
   "source": [
    "data.loc[((data.ethnicity=='?')&(data.country_of_res==\"Egypt\")), 'ethnicity'] = \"'Middle Eastern '\""
   ]
  },
  {
   "cell_type": "code",
   "execution_count": 125,
   "id": "0080fa58",
   "metadata": {},
   "outputs": [
    {
     "data": {
      "text/plain": [
       "ethnicity\n",
       "'Middle Eastern '    2\n",
       "?                    5\n",
       "Name: ethnicity, dtype: int64"
      ]
     },
     "execution_count": 125,
     "metadata": {},
     "output_type": "execute_result"
    }
   ],
   "source": [
    "data[data.country_of_res==\"Iran\"].groupby('ethnicity')['ethnicity'].count()"
   ]
  },
  {
   "cell_type": "code",
   "execution_count": 43,
   "id": "4d907a1e",
   "metadata": {},
   "outputs": [],
   "source": [
    "data.loc[((data.ethnicity=='?')&(data.country_of_res==\"Iran\")), 'ethnicity'] = \"'Middle Eastern '\""
   ]
  },
  {
   "cell_type": "code",
   "execution_count": 127,
   "id": "5b815bd7",
   "metadata": {},
   "outputs": [
    {
     "data": {
      "text/plain": [
       "ethnicity\n",
       "?    1\n",
       "Name: ethnicity, dtype: int64"
      ]
     },
     "execution_count": 127,
     "metadata": {},
     "output_type": "execute_result"
    }
   ],
   "source": [
    "data[data.country_of_res==\"Iraq\"].groupby('ethnicity')['ethnicity'].count()"
   ]
  },
  {
   "cell_type": "code",
   "execution_count": 44,
   "id": "261ec8f7",
   "metadata": {},
   "outputs": [],
   "source": [
    "data.loc[((data.ethnicity=='?')&(data.country_of_res==\"Iraq\")), 'ethnicity'] = \"'Middle Eastern '\""
   ]
  },
  {
   "cell_type": "code",
   "execution_count": 129,
   "id": "8ee382b3",
   "metadata": {},
   "outputs": [
    {
     "data": {
      "text/plain": [
       "ethnicity\n",
       "?    1\n",
       "Name: ethnicity, dtype: int64"
      ]
     },
     "execution_count": 129,
     "metadata": {},
     "output_type": "execute_result"
    }
   ],
   "source": [
    "data[data.country_of_res==\"Japan\"].groupby('ethnicity')['ethnicity'].count()"
   ]
  },
  {
   "cell_type": "code",
   "execution_count": 45,
   "id": "e61f9072",
   "metadata": {},
   "outputs": [],
   "source": [
    "data.loc[((data.ethnicity=='?')&(data.country_of_res==\"Japan\")), 'ethnicity'] = 'Asian'"
   ]
  },
  {
   "cell_type": "code",
   "execution_count": 131,
   "id": "8757b4d5",
   "metadata": {},
   "outputs": [
    {
     "data": {
      "text/plain": [
       "ethnicity\n",
       "'Middle Eastern '     5\n",
       "?                    42\n",
       "Name: ethnicity, dtype: int64"
      ]
     },
     "execution_count": 131,
     "metadata": {},
     "output_type": "execute_result"
    }
   ],
   "source": [
    "data[data.country_of_res==\"Jordan\"].groupby('ethnicity')['ethnicity'].count()"
   ]
  },
  {
   "cell_type": "code",
   "execution_count": 46,
   "id": "62ae736c",
   "metadata": {},
   "outputs": [],
   "source": [
    "data.loc[((data.ethnicity=='?')&(data.country_of_res==\"Jordan\")), 'ethnicity'] = \"'Middle Eastern '\""
   ]
  },
  {
   "cell_type": "code",
   "execution_count": 133,
   "id": "3e74bd4a",
   "metadata": {},
   "outputs": [
    {
     "data": {
      "text/plain": [
       "ethnicity\n",
       "?    3\n",
       "Name: ethnicity, dtype: int64"
      ]
     },
     "execution_count": 133,
     "metadata": {},
     "output_type": "execute_result"
    }
   ],
   "source": [
    "data[data.country_of_res==\"Kazakhstan\"].groupby('ethnicity')['ethnicity'].count()"
   ]
  },
  {
   "cell_type": "code",
   "execution_count": 47,
   "id": "cb2e5275",
   "metadata": {},
   "outputs": [],
   "source": [
    "data.loc[((data.ethnicity=='?')&(data.country_of_res==\"Kazakhstan\")), 'ethnicity'] = 'Others'"
   ]
  },
  {
   "cell_type": "code",
   "execution_count": 135,
   "id": "4e98760c",
   "metadata": {},
   "outputs": [
    {
     "data": {
      "text/plain": [
       "ethnicity\n",
       "?    1\n",
       "Name: ethnicity, dtype: int64"
      ]
     },
     "execution_count": 135,
     "metadata": {},
     "output_type": "execute_result"
    }
   ],
   "source": [
    "data[data.country_of_res==\"Lebanon\"].groupby('ethnicity')['ethnicity'].count()"
   ]
  },
  {
   "cell_type": "code",
   "execution_count": 48,
   "id": "9a33c6e2",
   "metadata": {},
   "outputs": [],
   "source": [
    "data.loc[((data.ethnicity=='?')&(data.country_of_res==\"Lebanon\")), 'ethnicity'] = \"'Middle Eastern '\""
   ]
  },
  {
   "cell_type": "code",
   "execution_count": 137,
   "id": "655a5526",
   "metadata": {},
   "outputs": [
    {
     "data": {
      "text/plain": [
       "ethnicity\n",
       "'South Asian'    1\n",
       "?                1\n",
       "Asian            1\n",
       "Name: ethnicity, dtype: int64"
      ]
     },
     "execution_count": 137,
     "metadata": {},
     "output_type": "execute_result"
    }
   ],
   "source": [
    "data[data.country_of_res==\"Pakistan\"].groupby('ethnicity')['ethnicity'].count()"
   ]
  },
  {
   "cell_type": "code",
   "execution_count": 49,
   "id": "14870eec",
   "metadata": {},
   "outputs": [],
   "source": [
    "data.loc[((data.ethnicity=='?')&(data.country_of_res==\"Pakistan\")), 'ethnicity'] = \"'South Asian'\""
   ]
  },
  {
   "cell_type": "code",
   "execution_count": 139,
   "id": "1f939c52",
   "metadata": {},
   "outputs": [
    {
     "data": {
      "text/plain": [
       "ethnicity\n",
       "?                 5\n",
       "Others            1\n",
       "White-European    1\n",
       "Name: ethnicity, dtype: int64"
      ]
     },
     "execution_count": 139,
     "metadata": {},
     "output_type": "execute_result"
    }
   ],
   "source": [
    "data[data.country_of_res==\"Russia\"].groupby('ethnicity')['ethnicity'].count()"
   ]
  },
  {
   "cell_type": "code",
   "execution_count": 50,
   "id": "1db7b34c",
   "metadata": {},
   "outputs": [],
   "source": [
    "data.loc[((data.ethnicity=='?')&(data.country_of_res==\"Russia\")), 'ethnicity'] = 'White-European'"
   ]
  },
  {
   "cell_type": "code",
   "execution_count": 141,
   "id": "ec855a48",
   "metadata": {},
   "outputs": [
    {
     "data": {
      "text/plain": [
       "ethnicity\n",
       "?                 1\n",
       "White-European    1\n",
       "Name: ethnicity, dtype: int64"
      ]
     },
     "execution_count": 141,
     "metadata": {},
     "output_type": "execute_result"
    }
   ],
   "source": [
    "data[data.country_of_res==\"Ukraine\"].groupby('ethnicity')['ethnicity'].count()"
   ]
  },
  {
   "cell_type": "code",
   "execution_count": 51,
   "id": "c654e2ac",
   "metadata": {},
   "outputs": [],
   "source": [
    "data.loc[((data.ethnicity=='?')&(data.country_of_res==\"Ukraine\")), 'ethnicity'] = 'White-European'"
   ]
  },
  {
   "cell_type": "code",
   "execution_count": 52,
   "id": "473a9711",
   "metadata": {},
   "outputs": [
    {
     "data": {
      "image/png": "[encoded data removed]",
      "text/plain": [
       "<Figure size 1440x720 with 2 Axes>"
      ]
     },
     "metadata": {
      "needs_background": "light"
     },
     "output_type": "display_data"
    }
   ],
   "source": [
    "f,ax=plt.subplots(1,2,figsize=(20,10))\n",
    "data[['ethnicity','ASD']].groupby(['ethnicity']).mean().plot.bar(ax=ax[0])\n",
    "ax[0].set_title('ethnicity')\n",
    "sns.countplot('ethnicity',hue='ASD',data=data,ax=ax[1])\n",
    "ax[1].set_title('ethnicity:ASD yes or no')\n",
    "plt.show()"
   ]
  },
  {
   "cell_type": "markdown",
   "id": "36f796c0",
   "metadata": {},
   "source": [
    "По представленным данным нельзя сказать, что заболеваемость ASD как-то сильно зависит от определенной этнической группы, но в выборке есть группы, например \"Latino\", где показатель заболеваемости повышен."
   ]
  },
  {
   "cell_type": "markdown",
   "id": "b7907fc2",
   "metadata": {},
   "source": [
    "Преобразуем значения данного признака в числовые:"
   ]
  },
  {
   "cell_type": "code",
   "execution_count": 54,
   "id": "95e9bf18",
   "metadata": {},
   "outputs": [],
   "source": [
    "data['ethnicity'].replace(['White-European', 'Latino', \"'Middle Eastern '\", 'Others', 'Black',\n",
    "       'Asian', 'Hispanic', 'Pasifika', \"'South Asian'\", 'Turkish'],[0,1,2,3,4,5,6,7,8,9],inplace=True)"
   ]
  },
  {
   "cell_type": "markdown",
   "id": "28ed2b9b",
   "metadata": {},
   "source": [
    "##### Признак \"Желтуха\""
   ]
  },
  {
   "cell_type": "code",
   "execution_count": 144,
   "id": "1d582f3b",
   "metadata": {},
   "outputs": [
    {
     "data": {
      "text/plain": [
       "array(['no', 'yes'], dtype=object)"
      ]
     },
     "execution_count": 144,
     "metadata": {},
     "output_type": "execute_result"
    }
   ],
   "source": [
    "data.jaundice.unique()"
   ]
  },
  {
   "cell_type": "markdown",
   "id": "9df8ed6a",
   "metadata": {},
   "source": [
    "Заменим значечения yes/no в поле jaundice на 1 и 0 соответственно"
   ]
  },
  {
   "cell_type": "code",
   "execution_count": 56,
   "id": "6dcce70d",
   "metadata": {},
   "outputs": [],
   "source": [
    "data['jaundice'] = data['jaundice'].replace('yes', 1)\n",
    "data['jaundice'] = data['jaundice'].replace('no', 0)"
   ]
  },
  {
   "cell_type": "code",
   "execution_count": 57,
   "id": "3701c927",
   "metadata": {},
   "outputs": [
    {
     "data": {
      "text/plain": [
       "0    635\n",
       "1     69\n",
       "Name: jaundice, dtype: int64"
      ]
     },
     "execution_count": 57,
     "metadata": {},
     "output_type": "execute_result"
    }
   ],
   "source": [
    "data.jaundice.value_counts()"
   ]
  },
  {
   "cell_type": "code",
   "execution_count": 100,
   "id": "c5a85def",
   "metadata": {},
   "outputs": [
    {
     "data": {
      "text/plain": [
       "jaundice  ASD\n",
       "0         0      474\n",
       "          1      161\n",
       "1         0       41\n",
       "          1       28\n",
       "Name: jaundice, dtype: int64"
      ]
     },
     "execution_count": 100,
     "metadata": {},
     "output_type": "execute_result"
    }
   ],
   "source": [
    "data.groupby(['jaundice','ASD'])['jaundice'].count()"
   ]
  },
  {
   "cell_type": "code",
   "execution_count": 95,
   "id": "74771fd3",
   "metadata": {},
   "outputs": [
    {
     "data": {
      "image/png": "[encoded data removed]",
      "text/plain": [
       "<Figure size 1440x720 with 2 Axes>"
      ]
     },
     "metadata": {
      "needs_background": "light"
     },
     "output_type": "display_data"
    }
   ],
   "source": [
    "f,ax=plt.subplots(1,2,figsize=(20,10))\n",
    "data[['jaundice','ASD']].groupby(['jaundice']).mean().plot.bar(ax=ax[0])\n",
    "ax[0].set_title('Jaundice vs ASD')\n",
    "sns.countplot('jaundice',hue='ASD',data=data,ax=ax[1])\n",
    "ax[1].set_title('Jaundice:ASD yes or no')\n",
    "plt.show()"
   ]
  },
  {
   "cell_type": "markdown",
   "id": "6033314f",
   "metadata": {},
   "source": [
    "Данные выборки показывают, что процент заболеваемости аутизмом выше у переболевших желтухой.  \n",
    "Однако, я бы не стала утверждать, что заболеваемость желтухой явно указывает на аутизм и особую важность данного признака для моделирования, так как данная картина может быть обусловлена повышенным качеством медицинского обслуживания в целом (выявляемость заболеваний в целом)"
   ]
  },
  {
   "cell_type": "markdown",
   "id": "792817db",
   "metadata": {},
   "source": [
    "##### Признак \"Аутизм у родственников\""
   ]
  },
  {
   "cell_type": "code",
   "execution_count": 147,
   "id": "34d65a2d",
   "metadata": {},
   "outputs": [
    {
     "data": {
      "text/plain": [
       "array(['no', 'yes'], dtype=object)"
      ]
     },
     "execution_count": 147,
     "metadata": {},
     "output_type": "execute_result"
    }
   ],
   "source": [
    "data.relat_autism.unique()"
   ]
  },
  {
   "cell_type": "markdown",
   "id": "60693a92",
   "metadata": {},
   "source": [
    "Заменим значечения yes/no в поле relat_autism на 1 и 0 соответственно"
   ]
  },
  {
   "cell_type": "code",
   "execution_count": 58,
   "id": "84efc8e9",
   "metadata": {},
   "outputs": [],
   "source": [
    "data['relat_autism'] = data['relat_autism'].replace('yes', 1)\n",
    "data['relat_autism'] = data['relat_autism'].replace('no', 0)"
   ]
  },
  {
   "cell_type": "code",
   "execution_count": 101,
   "id": "72afe4ad",
   "metadata": {},
   "outputs": [
    {
     "data": {
      "text/plain": [
       "0    613\n",
       "1     91\n",
       "Name: relat_autism, dtype: int64"
      ]
     },
     "execution_count": 101,
     "metadata": {},
     "output_type": "execute_result"
    }
   ],
   "source": [
    "data.relat_autism.value_counts()"
   ]
  },
  {
   "cell_type": "code",
   "execution_count": 102,
   "id": "bae4193a",
   "metadata": {},
   "outputs": [
    {
     "data": {
      "text/plain": [
       "relat_autism  ASD\n",
       "0             0      467\n",
       "              1      146\n",
       "1             0       48\n",
       "              1       43\n",
       "Name: relat_autism, dtype: int64"
      ]
     },
     "execution_count": 102,
     "metadata": {},
     "output_type": "execute_result"
    }
   ],
   "source": [
    "data.groupby(['relat_autism','ASD'])['relat_autism'].count()"
   ]
  },
  {
   "cell_type": "code",
   "execution_count": 103,
   "id": "545da100",
   "metadata": {},
   "outputs": [
    {
     "data": {
      "image/png": "[encoded data removed]",
      "text/plain": [
       "<Figure size 1440x720 with 2 Axes>"
      ]
     },
     "metadata": {
      "needs_background": "light"
     },
     "output_type": "display_data"
    }
   ],
   "source": [
    "f,ax=plt.subplots(1,2,figsize=(20,10))\n",
    "data[['relat_autism','ASD']].groupby(['relat_autism']).mean().plot.bar(ax=ax[0])\n",
    "ax[0].set_title('relat_autism vs ASD')\n",
    "sns.countplot('relat_autism',hue='ASD',data=data,ax=ax[1])\n",
    "ax[1].set_title('relat_autism:ASD yes or no')\n",
    "plt.show()"
   ]
  },
  {
   "cell_type": "markdown",
   "id": "83180f93",
   "metadata": {},
   "source": [
    "Вот это важный признак для моделирования. Людей, у которых родственники не болеют аутизмом в выборке больше, чем тех, у которых болеют, но шанс диагностирования аутизма резко увеличивается при наличии аутизма у родственников, и составляет около 50%."
   ]
  },
  {
   "cell_type": "markdown",
   "id": "18c4b365",
   "metadata": {},
   "source": [
    "##### Признак \"Использование приложения для проверки\""
   ]
  },
  {
   "cell_type": "code",
   "execution_count": 149,
   "id": "86ce56ea",
   "metadata": {},
   "outputs": [
    {
     "data": {
      "text/plain": [
       "array(['no', 'yes'], dtype=object)"
      ]
     },
     "execution_count": 149,
     "metadata": {},
     "output_type": "execute_result"
    }
   ],
   "source": [
    "data.used_app_before.unique()"
   ]
  },
  {
   "cell_type": "code",
   "execution_count": 59,
   "id": "8e067ae8",
   "metadata": {},
   "outputs": [],
   "source": [
    "data['used_app_before'] = data['used_app_before'].replace('yes', 1)\n",
    "data['used_app_before'] = data['used_app_before'].replace('no', 0)"
   ]
  },
  {
   "cell_type": "code",
   "execution_count": 106,
   "id": "37f17002",
   "metadata": {},
   "outputs": [
    {
     "data": {
      "text/plain": [
       "0    692\n",
       "1     12\n",
       "Name: used_app_before, dtype: int64"
      ]
     },
     "execution_count": 106,
     "metadata": {},
     "output_type": "execute_result"
    }
   ],
   "source": [
    "data.used_app_before.value_counts()"
   ]
  },
  {
   "cell_type": "code",
   "execution_count": 107,
   "id": "d9b2ad65",
   "metadata": {},
   "outputs": [
    {
     "data": {
      "text/plain": [
       "used_app_before  ASD\n",
       "0                0      508\n",
       "                 1      184\n",
       "1                0        7\n",
       "                 1        5\n",
       "Name: used_app_before, dtype: int64"
      ]
     },
     "execution_count": 107,
     "metadata": {},
     "output_type": "execute_result"
    }
   ],
   "source": [
    "data.groupby(['used_app_before','ASD'])['used_app_before'].count()"
   ]
  },
  {
   "cell_type": "code",
   "execution_count": 108,
   "id": "c4ee835f",
   "metadata": {},
   "outputs": [
    {
     "data": {
      "image/png": "[encoded data removed]",
      "text/plain": [
       "<Figure size 1440x720 with 2 Axes>"
      ]
     },
     "metadata": {
      "needs_background": "light"
     },
     "output_type": "display_data"
    }
   ],
   "source": [
    "f,ax=plt.subplots(1,2,figsize=(20,10))\n",
    "data[['used_app_before','ASD']].groupby(['used_app_before']).mean().plot.bar(ax=ax[0])\n",
    "ax[0].set_title('used_app_before vs ASD')\n",
    "sns.countplot('used_app_before',hue='ASD',data=data,ax=ax[1])\n",
    "ax[1].set_title('used_app_before:ASD yes or no')\n",
    "plt.show()"
   ]
  },
  {
   "cell_type": "markdown",
   "id": "74f559f9",
   "metadata": {},
   "source": [
    "Данный признак также выглядит как довольно важный для моделирования. Людей, которые использовали приложение для диагностирования аутизма, намного меньше в выборке, но среди них заболеваемость аутизмом выявлена чаще."
   ]
  },
  {
   "cell_type": "markdown",
   "id": "4992b97e",
   "metadata": {},
   "source": [
    "##### Признак \"Описание возраста\""
   ]
  },
  {
   "cell_type": "code",
   "execution_count": 151,
   "id": "84b52349",
   "metadata": {},
   "outputs": [
    {
     "data": {
      "text/plain": [
       "array([\"'18 and more'\"], dtype=object)"
      ]
     },
     "execution_count": 151,
     "metadata": {},
     "output_type": "execute_result"
    }
   ],
   "source": [
    "data.age_desc.unique()"
   ]
  },
  {
   "cell_type": "markdown",
   "id": "4b4d2467",
   "metadata": {},
   "source": [
    "На всей выборке данный признак имеет только одно значение. Совсем не информативно. Надо его удалить."
   ]
  },
  {
   "cell_type": "code",
   "execution_count": 60,
   "id": "0bf881f1",
   "metadata": {},
   "outputs": [],
   "source": [
    "data.drop('age_desc', axis=1, inplace=True)"
   ]
  },
  {
   "cell_type": "code",
   "execution_count": 61,
   "id": "d32453ec",
   "metadata": {},
   "outputs": [
    {
     "data": {
      "text/html": [
       "<div>\n",
       "<style scoped>\n",
       "    .dataframe tbody tr th:only-of-type {\n",
       "        vertical-align: middle;\n",
       "    }\n",
       "\n",
       "    .dataframe tbody tr th {\n",
       "        vertical-align: top;\n",
       "    }\n",
       "\n",
       "    .dataframe thead th {\n",
       "        text-align: right;\n",
       "    }\n",
       "</style>\n",
       "<table border=\"1\" class=\"dataframe\">\n",
       "  <thead>\n",
       "    <tr style=\"text-align: right;\">\n",
       "      <th></th>\n",
       "      <th>A1_Score</th>\n",
       "      <th>A2_Score</th>\n",
       "      <th>A3_Score</th>\n",
       "      <th>A4_Score</th>\n",
       "      <th>A5_Score</th>\n",
       "      <th>A6_Score</th>\n",
       "      <th>A7_Score</th>\n",
       "      <th>A8_Score</th>\n",
       "      <th>A9_Score</th>\n",
       "      <th>A10_Score</th>\n",
       "      <th>age</th>\n",
       "      <th>gender</th>\n",
       "      <th>ethnicity</th>\n",
       "      <th>jaundice</th>\n",
       "      <th>relat_autism</th>\n",
       "      <th>country_of_res</th>\n",
       "      <th>used_app_before</th>\n",
       "      <th>result</th>\n",
       "      <th>relation</th>\n",
       "      <th>ASD</th>\n",
       "    </tr>\n",
       "  </thead>\n",
       "  <tbody>\n",
       "    <tr>\n",
       "      <th>0</th>\n",
       "      <td>1</td>\n",
       "      <td>1</td>\n",
       "      <td>1</td>\n",
       "      <td>1</td>\n",
       "      <td>0</td>\n",
       "      <td>0</td>\n",
       "      <td>1</td>\n",
       "      <td>1</td>\n",
       "      <td>0</td>\n",
       "      <td>0</td>\n",
       "      <td>26</td>\n",
       "      <td>1</td>\n",
       "      <td>0</td>\n",
       "      <td>0</td>\n",
       "      <td>0</td>\n",
       "      <td>'United States'</td>\n",
       "      <td>0</td>\n",
       "      <td>6</td>\n",
       "      <td>Self</td>\n",
       "      <td>0</td>\n",
       "    </tr>\n",
       "    <tr>\n",
       "      <th>1</th>\n",
       "      <td>1</td>\n",
       "      <td>1</td>\n",
       "      <td>0</td>\n",
       "      <td>1</td>\n",
       "      <td>0</td>\n",
       "      <td>0</td>\n",
       "      <td>0</td>\n",
       "      <td>1</td>\n",
       "      <td>0</td>\n",
       "      <td>1</td>\n",
       "      <td>24</td>\n",
       "      <td>0</td>\n",
       "      <td>1</td>\n",
       "      <td>0</td>\n",
       "      <td>1</td>\n",
       "      <td>Brazil</td>\n",
       "      <td>0</td>\n",
       "      <td>5</td>\n",
       "      <td>Self</td>\n",
       "      <td>0</td>\n",
       "    </tr>\n",
       "    <tr>\n",
       "      <th>2</th>\n",
       "      <td>1</td>\n",
       "      <td>1</td>\n",
       "      <td>0</td>\n",
       "      <td>1</td>\n",
       "      <td>1</td>\n",
       "      <td>0</td>\n",
       "      <td>1</td>\n",
       "      <td>1</td>\n",
       "      <td>1</td>\n",
       "      <td>1</td>\n",
       "      <td>27</td>\n",
       "      <td>0</td>\n",
       "      <td>1</td>\n",
       "      <td>1</td>\n",
       "      <td>1</td>\n",
       "      <td>Spain</td>\n",
       "      <td>0</td>\n",
       "      <td>8</td>\n",
       "      <td>Parent</td>\n",
       "      <td>1</td>\n",
       "    </tr>\n",
       "    <tr>\n",
       "      <th>3</th>\n",
       "      <td>1</td>\n",
       "      <td>1</td>\n",
       "      <td>0</td>\n",
       "      <td>1</td>\n",
       "      <td>0</td>\n",
       "      <td>0</td>\n",
       "      <td>1</td>\n",
       "      <td>1</td>\n",
       "      <td>0</td>\n",
       "      <td>1</td>\n",
       "      <td>35</td>\n",
       "      <td>1</td>\n",
       "      <td>0</td>\n",
       "      <td>0</td>\n",
       "      <td>1</td>\n",
       "      <td>'United States'</td>\n",
       "      <td>0</td>\n",
       "      <td>6</td>\n",
       "      <td>Self</td>\n",
       "      <td>0</td>\n",
       "    </tr>\n",
       "    <tr>\n",
       "      <th>4</th>\n",
       "      <td>1</td>\n",
       "      <td>0</td>\n",
       "      <td>0</td>\n",
       "      <td>0</td>\n",
       "      <td>0</td>\n",
       "      <td>0</td>\n",
       "      <td>0</td>\n",
       "      <td>1</td>\n",
       "      <td>0</td>\n",
       "      <td>0</td>\n",
       "      <td>40</td>\n",
       "      <td>1</td>\n",
       "      <td>2</td>\n",
       "      <td>0</td>\n",
       "      <td>0</td>\n",
       "      <td>Egypt</td>\n",
       "      <td>0</td>\n",
       "      <td>2</td>\n",
       "      <td>?</td>\n",
       "      <td>0</td>\n",
       "    </tr>\n",
       "    <tr>\n",
       "      <th>...</th>\n",
       "      <td>...</td>\n",
       "      <td>...</td>\n",
       "      <td>...</td>\n",
       "      <td>...</td>\n",
       "      <td>...</td>\n",
       "      <td>...</td>\n",
       "      <td>...</td>\n",
       "      <td>...</td>\n",
       "      <td>...</td>\n",
       "      <td>...</td>\n",
       "      <td>...</td>\n",
       "      <td>...</td>\n",
       "      <td>...</td>\n",
       "      <td>...</td>\n",
       "      <td>...</td>\n",
       "      <td>...</td>\n",
       "      <td>...</td>\n",
       "      <td>...</td>\n",
       "      <td>...</td>\n",
       "      <td>...</td>\n",
       "    </tr>\n",
       "    <tr>\n",
       "      <th>699</th>\n",
       "      <td>0</td>\n",
       "      <td>1</td>\n",
       "      <td>0</td>\n",
       "      <td>1</td>\n",
       "      <td>1</td>\n",
       "      <td>0</td>\n",
       "      <td>1</td>\n",
       "      <td>1</td>\n",
       "      <td>1</td>\n",
       "      <td>1</td>\n",
       "      <td>25</td>\n",
       "      <td>1</td>\n",
       "      <td>0</td>\n",
       "      <td>0</td>\n",
       "      <td>0</td>\n",
       "      <td>Russia</td>\n",
       "      <td>0</td>\n",
       "      <td>7</td>\n",
       "      <td>Self</td>\n",
       "      <td>1</td>\n",
       "    </tr>\n",
       "    <tr>\n",
       "      <th>700</th>\n",
       "      <td>1</td>\n",
       "      <td>0</td>\n",
       "      <td>0</td>\n",
       "      <td>0</td>\n",
       "      <td>0</td>\n",
       "      <td>0</td>\n",
       "      <td>0</td>\n",
       "      <td>1</td>\n",
       "      <td>0</td>\n",
       "      <td>1</td>\n",
       "      <td>34</td>\n",
       "      <td>0</td>\n",
       "      <td>6</td>\n",
       "      <td>0</td>\n",
       "      <td>0</td>\n",
       "      <td>Mexico</td>\n",
       "      <td>0</td>\n",
       "      <td>3</td>\n",
       "      <td>Parent</td>\n",
       "      <td>0</td>\n",
       "    </tr>\n",
       "    <tr>\n",
       "      <th>701</th>\n",
       "      <td>1</td>\n",
       "      <td>0</td>\n",
       "      <td>1</td>\n",
       "      <td>1</td>\n",
       "      <td>1</td>\n",
       "      <td>0</td>\n",
       "      <td>1</td>\n",
       "      <td>1</td>\n",
       "      <td>0</td>\n",
       "      <td>1</td>\n",
       "      <td>24</td>\n",
       "      <td>1</td>\n",
       "      <td>0</td>\n",
       "      <td>0</td>\n",
       "      <td>0</td>\n",
       "      <td>Russia</td>\n",
       "      <td>0</td>\n",
       "      <td>7</td>\n",
       "      <td>?</td>\n",
       "      <td>1</td>\n",
       "    </tr>\n",
       "    <tr>\n",
       "      <th>702</th>\n",
       "      <td>1</td>\n",
       "      <td>0</td>\n",
       "      <td>0</td>\n",
       "      <td>1</td>\n",
       "      <td>1</td>\n",
       "      <td>0</td>\n",
       "      <td>1</td>\n",
       "      <td>0</td>\n",
       "      <td>1</td>\n",
       "      <td>1</td>\n",
       "      <td>35</td>\n",
       "      <td>0</td>\n",
       "      <td>8</td>\n",
       "      <td>0</td>\n",
       "      <td>0</td>\n",
       "      <td>Pakistan</td>\n",
       "      <td>0</td>\n",
       "      <td>6</td>\n",
       "      <td>Self</td>\n",
       "      <td>0</td>\n",
       "    </tr>\n",
       "    <tr>\n",
       "      <th>703</th>\n",
       "      <td>1</td>\n",
       "      <td>0</td>\n",
       "      <td>1</td>\n",
       "      <td>1</td>\n",
       "      <td>1</td>\n",
       "      <td>0</td>\n",
       "      <td>1</td>\n",
       "      <td>1</td>\n",
       "      <td>1</td>\n",
       "      <td>1</td>\n",
       "      <td>26</td>\n",
       "      <td>1</td>\n",
       "      <td>0</td>\n",
       "      <td>0</td>\n",
       "      <td>0</td>\n",
       "      <td>Cyprus</td>\n",
       "      <td>0</td>\n",
       "      <td>8</td>\n",
       "      <td>Self</td>\n",
       "      <td>1</td>\n",
       "    </tr>\n",
       "  </tbody>\n",
       "</table>\n",
       "<p>704 rows × 20 columns</p>\n",
       "</div>"
      ],
      "text/plain": [
       "     A1_Score  A2_Score  A3_Score  A4_Score  A5_Score  A6_Score  A7_Score  \\\n",
       "0           1         1         1         1         0         0         1   \n",
       "1           1         1         0         1         0         0         0   \n",
       "2           1         1         0         1         1         0         1   \n",
       "3           1         1         0         1         0         0         1   \n",
       "4           1         0         0         0         0         0         0   \n",
       "..        ...       ...       ...       ...       ...       ...       ...   \n",
       "699         0         1         0         1         1         0         1   \n",
       "700         1         0         0         0         0         0         0   \n",
       "701         1         0         1         1         1         0         1   \n",
       "702         1         0         0         1         1         0         1   \n",
       "703         1         0         1         1         1         0         1   \n",
       "\n",
       "     A8_Score  A9_Score  A10_Score  age  gender  ethnicity  jaundice  \\\n",
       "0           1         0          0   26       1          0         0   \n",
       "1           1         0          1   24       0          1         0   \n",
       "2           1         1          1   27       0          1         1   \n",
       "3           1         0          1   35       1          0         0   \n",
       "4           1         0          0   40       1          2         0   \n",
       "..        ...       ...        ...  ...     ...        ...       ...   \n",
       "699         1         1          1   25       1          0         0   \n",
       "700         1         0          1   34       0          6         0   \n",
       "701         1         0          1   24       1          0         0   \n",
       "702         0         1          1   35       0          8         0   \n",
       "703         1         1          1   26       1          0         0   \n",
       "\n",
       "     relat_autism   country_of_res  used_app_before  result relation  ASD  \n",
       "0               0  'United States'                0       6     Self    0  \n",
       "1               1           Brazil                0       5     Self    0  \n",
       "2               1            Spain                0       8   Parent    1  \n",
       "3               1  'United States'                0       6     Self    0  \n",
       "4               0            Egypt                0       2        ?    0  \n",
       "..            ...              ...              ...     ...      ...  ...  \n",
       "699             0           Russia                0       7     Self    1  \n",
       "700             0           Mexico                0       3   Parent    0  \n",
       "701             0           Russia                0       7        ?    1  \n",
       "702             0         Pakistan                0       6     Self    0  \n",
       "703             0           Cyprus                0       8     Self    1  \n",
       "\n",
       "[704 rows x 20 columns]"
      ]
     },
     "execution_count": 61,
     "metadata": {},
     "output_type": "execute_result"
    }
   ],
   "source": [
    "data"
   ]
  },
  {
   "cell_type": "markdown",
   "id": "f494aba0",
   "metadata": {},
   "source": [
    "##### Признак  \"Кто проходит тест\""
   ]
  },
  {
   "cell_type": "code",
   "execution_count": 154,
   "id": "21fcaeb1",
   "metadata": {},
   "outputs": [
    {
     "data": {
      "text/plain": [
       "array(['Self', 'Parent', '?', \"'Health care professional'\", 'Relative',\n",
       "       'Others'], dtype=object)"
      ]
     },
     "execution_count": 154,
     "metadata": {},
     "output_type": "execute_result"
    }
   ],
   "source": [
    "data.relation.unique()"
   ]
  },
  {
   "cell_type": "code",
   "execution_count": 155,
   "id": "4c1a89d7",
   "metadata": {},
   "outputs": [
    {
     "data": {
      "text/plain": [
       "Self                          522\n",
       "?                              95\n",
       "Parent                         50\n",
       "Relative                       28\n",
       "Others                          5\n",
       "'Health care professional'      4\n",
       "Name: relation, dtype: int64"
      ]
     },
     "execution_count": 155,
     "metadata": {},
     "output_type": "execute_result"
    }
   ],
   "source": [
    "data.relation.value_counts()"
   ]
  },
  {
   "cell_type": "markdown",
   "id": "8db103db",
   "metadata": {},
   "source": [
    "Есть значения \"?\", надо их заполнить."
   ]
  },
  {
   "cell_type": "code",
   "execution_count": 114,
   "id": "02fc71ba",
   "metadata": {},
   "outputs": [
    {
     "data": {
      "text/plain": [
       "relation                    ASD\n",
       "'Health care professional'  0        3\n",
       "                            1        1\n",
       "?                           0       86\n",
       "                            1        9\n",
       "Others                      0        4\n",
       "                            1        1\n",
       "Parent                      0       38\n",
       "                            1       12\n",
       "Relative                    0       19\n",
       "                            1        9\n",
       "Self                        0      365\n",
       "                            1      157\n",
       "Name: relation, dtype: int64"
      ]
     },
     "execution_count": 114,
     "metadata": {},
     "output_type": "execute_result"
    }
   ],
   "source": [
    "data.groupby(['relation','ASD'])['relation'].count()"
   ]
  },
  {
   "cell_type": "code",
   "execution_count": 176,
   "id": "795d8c52",
   "metadata": {},
   "outputs": [
    {
     "data": {
      "image/png": "[encoded data removed]",
      "text/plain": [
       "<Figure size 720x360 with 1 Axes>"
      ]
     },
     "metadata": {
      "needs_background": "light"
     },
     "output_type": "display_data"
    }
   ],
   "source": [
    "sns.factorplot('relation','ASD',data=data)\n",
    "fig=plt.gcf()\n",
    "fig.set_size_inches(10,5)\n",
    "plt.show()"
   ]
  },
  {
   "cell_type": "markdown",
   "id": "620270ed",
   "metadata": {},
   "source": [
    "Так как у нас есть некое абстрактное значение Others и у него, согласно графику, самый наименьший уровень заболеваемости ASD после \"?\", то заменим значение \"?\" на значение Others"
   ]
  },
  {
   "cell_type": "code",
   "execution_count": 62,
   "id": "bf13c960",
   "metadata": {},
   "outputs": [],
   "source": [
    "data['relation'] = data['relation'].replace('?', 'Others')"
   ]
  },
  {
   "cell_type": "code",
   "execution_count": 178,
   "id": "4ea92c06",
   "metadata": {},
   "outputs": [
    {
     "data": {
      "image/png": "[encoded data removed]",
      "text/plain": [
       "<Figure size 720x360 with 1 Axes>"
      ]
     },
     "metadata": {
      "needs_background": "light"
     },
     "output_type": "display_data"
    }
   ],
   "source": [
    "sns.factorplot('relation','ASD',data=data)\n",
    "fig=plt.gcf()\n",
    "fig.set_size_inches(10,5)\n",
    "plt.show()"
   ]
  },
  {
   "cell_type": "markdown",
   "id": "e2eb8d9f",
   "metadata": {},
   "source": [
    "Заменим строковые данные на числовые:"
   ]
  },
  {
   "cell_type": "code",
   "execution_count": 64,
   "id": "1e0a3039",
   "metadata": {},
   "outputs": [],
   "source": [
    "data['relation'].replace(['Self', 'Parent', 'Others', \"'Health care professional'\",'Relative'],[0,1,2,3,4],inplace=True)"
   ]
  },
  {
   "cell_type": "markdown",
   "id": "2d059f71",
   "metadata": {},
   "source": [
    "### Признак \"Страна проживания\""
   ]
  },
  {
   "cell_type": "code",
   "execution_count": 67,
   "id": "f62e847f",
   "metadata": {},
   "outputs": [
    {
     "data": {
      "text/plain": [
       "array([\"'United States'\", 'Brazil', 'Spain', 'Egypt', \"'New Zealand'\",\n",
       "       'Bahamas', 'Burundi', 'Austria', 'Argentina', 'Jordan', 'Ireland',\n",
       "       \"'United Arab Emirates'\", 'Afghanistan', 'Lebanon',\n",
       "       \"'United Kingdom'\", \"'South Africa'\", 'Italy', 'Pakistan',\n",
       "       'Bangladesh', 'Chile', 'France', 'China', 'Australia', 'Canada',\n",
       "       \"'Saudi Arabia'\", 'Netherlands', 'Romania', 'Sweden', 'Tonga',\n",
       "       'Oman', 'India', 'Philippines', \"'Sri Lanka'\", \"'Sierra Leone'\",\n",
       "       'Ethiopia', \"'Viet Nam'\", 'Iran', \"'Costa Rica'\", 'Germany',\n",
       "       'Mexico', 'Russia', 'Armenia', 'Iceland', 'Nicaragua',\n",
       "       \"'Hong Kong'\", 'Japan', 'Ukraine', 'Kazakhstan', 'AmericanSamoa',\n",
       "       'Uruguay', 'Serbia', 'Portugal', 'Malaysia', 'Ecuador', 'Niger',\n",
       "       'Belgium', 'Bolivia', 'Aruba', 'Finland', 'Turkey', 'Nepal',\n",
       "       'Indonesia', 'Angola', 'Azerbaijan', 'Iraq', \"'Czech Republic'\",\n",
       "       'Cyprus'], dtype=object)"
      ]
     },
     "execution_count": 67,
     "metadata": {},
     "output_type": "execute_result"
    }
   ],
   "source": [
    "data.country_of_res.unique()"
   ]
  },
  {
   "cell_type": "code",
   "execution_count": 68,
   "id": "f4bcc877",
   "metadata": {},
   "outputs": [
    {
     "data": {
      "text/plain": [
       "'United States'           113\n",
       "'United Arab Emirates'     82\n",
       "'New Zealand'              81\n",
       "India                      81\n",
       "'United Kingdom'           77\n",
       "                         ... \n",
       "China                       1\n",
       "Chile                       1\n",
       "Lebanon                     1\n",
       "Burundi                     1\n",
       "Cyprus                      1\n",
       "Name: country_of_res, Length: 67, dtype: int64"
      ]
     },
     "execution_count": 68,
     "metadata": {},
     "output_type": "execute_result"
    }
   ],
   "source": [
    "data.country_of_res.value_counts()"
   ]
  },
  {
   "cell_type": "code",
   "execution_count": 79,
   "id": "b398c3ae",
   "metadata": {},
   "outputs": [],
   "source": [
    "asd_country= pd.DataFrame(data[data['ASD'] == 1]['country_of_res'].value_counts()).rename({\"country_of_res\":\"ASD_Patient_Counts\"}, axis = 1)"
   ]
  },
  {
   "cell_type": "code",
   "execution_count": 81,
   "id": "a57ddda8",
   "metadata": {},
   "outputs": [
    {
     "data": {
      "text/html": [
       "<style type=\"text/css\">\n",
       "#T_edff1_row0_col0 {\n",
       "  width: 10em;\n",
       "  background: linear-gradient(90deg, #556832 100.0%, transparent 100.0%);\n",
       "}\n",
       "#T_edff1_row1_col0 {\n",
       "  width: 10em;\n",
       "  background: linear-gradient(90deg, #556832 54.7%, transparent 54.7%);\n",
       "}\n",
       "#T_edff1_row2_col0 {\n",
       "  width: 10em;\n",
       "  background: linear-gradient(90deg, #556832 28.3%, transparent 28.3%);\n",
       "}\n",
       "#T_edff1_row3_col0 {\n",
       "  width: 10em;\n",
       "  background: linear-gradient(90deg, #556832 22.6%, transparent 22.6%);\n",
       "}\n",
       "#T_edff1_row4_col0 {\n",
       "  width: 10em;\n",
       "  background: linear-gradient(90deg, #556832 18.9%, transparent 18.9%);\n",
       "}\n",
       "#T_edff1_row5_col0 {\n",
       "  width: 10em;\n",
       "  background: linear-gradient(90deg, #556832 11.3%, transparent 11.3%);\n",
       "}\n",
       "#T_edff1_row6_col0, #T_edff1_row7_col0 {\n",
       "  width: 10em;\n",
       "  background: linear-gradient(90deg, #556832 9.4%, transparent 9.4%);\n",
       "}\n",
       "#T_edff1_row8_col0, #T_edff1_row9_col0, #T_edff1_row10_col0, #T_edff1_row11_col0 {\n",
       "  width: 10em;\n",
       "  background: linear-gradient(90deg, #556832 7.5%, transparent 7.5%);\n",
       "}\n",
       "#T_edff1_row12_col0, #T_edff1_row13_col0, #T_edff1_row14_col0 {\n",
       "  width: 10em;\n",
       "  background: linear-gradient(90deg, #556832 5.7%, transparent 5.7%);\n",
       "}\n",
       "#T_edff1_row15_col0, #T_edff1_row16_col0, #T_edff1_row17_col0, #T_edff1_row18_col0, #T_edff1_row19_col0, #T_edff1_row20_col0, #T_edff1_row21_col0 {\n",
       "  width: 10em;\n",
       "  background: linear-gradient(90deg, #556832 3.8%, transparent 3.8%);\n",
       "}\n",
       "#T_edff1_row22_col0, #T_edff1_row23_col0, #T_edff1_row24_col0, #T_edff1_row25_col0, #T_edff1_row26_col0, #T_edff1_row27_col0, #T_edff1_row28_col0, #T_edff1_row29_col0, #T_edff1_row30_col0, #T_edff1_row31_col0, #T_edff1_row32_col0, #T_edff1_row33_col0, #T_edff1_row34_col0, #T_edff1_row35_col0, #T_edff1_row36_col0 {\n",
       "  width: 10em;\n",
       "  background: linear-gradient(90deg, #556832 1.9%, transparent 1.9%);\n",
       "}\n",
       "</style>\n",
       "<table id=\"T_edff1\">\n",
       "  <thead>\n",
       "    <tr>\n",
       "      <th class=\"blank level0\" >&nbsp;</th>\n",
       "      <th id=\"T_edff1_level0_col0\" class=\"col_heading level0 col0\" >ASD_Patient_Counts</th>\n",
       "    </tr>\n",
       "  </thead>\n",
       "  <tbody>\n",
       "    <tr>\n",
       "      <th id=\"T_edff1_level0_row0\" class=\"row_heading level0 row0\" >'United States'</th>\n",
       "      <td id=\"T_edff1_row0_col0\" class=\"data row0 col0\" >53</td>\n",
       "    </tr>\n",
       "    <tr>\n",
       "      <th id=\"T_edff1_level0_row1\" class=\"row_heading level0 row1\" >'United Kingdom'</th>\n",
       "      <td id=\"T_edff1_row1_col0\" class=\"data row1 col0\" >29</td>\n",
       "    </tr>\n",
       "    <tr>\n",
       "      <th id=\"T_edff1_level0_row2\" class=\"row_heading level0 row2\" >'New Zealand'</th>\n",
       "      <td id=\"T_edff1_row2_col0\" class=\"data row2 col0\" >15</td>\n",
       "    </tr>\n",
       "    <tr>\n",
       "      <th id=\"T_edff1_level0_row3\" class=\"row_heading level0 row3\" >Australia</th>\n",
       "      <td id=\"T_edff1_row3_col0\" class=\"data row3 col0\" >12</td>\n",
       "    </tr>\n",
       "    <tr>\n",
       "      <th id=\"T_edff1_level0_row4\" class=\"row_heading level0 row4\" >Canada</th>\n",
       "      <td id=\"T_edff1_row4_col0\" class=\"data row4 col0\" >10</td>\n",
       "    </tr>\n",
       "    <tr>\n",
       "      <th id=\"T_edff1_level0_row5\" class=\"row_heading level0 row5\" >India</th>\n",
       "      <td id=\"T_edff1_row5_col0\" class=\"data row5 col0\" >6</td>\n",
       "    </tr>\n",
       "    <tr>\n",
       "      <th id=\"T_edff1_level0_row6\" class=\"row_heading level0 row6\" >France</th>\n",
       "      <td id=\"T_edff1_row6_col0\" class=\"data row6 col0\" >5</td>\n",
       "    </tr>\n",
       "    <tr>\n",
       "      <th id=\"T_edff1_level0_row7\" class=\"row_heading level0 row7\" >Brazil</th>\n",
       "      <td id=\"T_edff1_row7_col0\" class=\"data row7 col0\" >5</td>\n",
       "    </tr>\n",
       "    <tr>\n",
       "      <th id=\"T_edff1_level0_row8\" class=\"row_heading level0 row8\" >Malaysia</th>\n",
       "      <td id=\"T_edff1_row8_col0\" class=\"data row8 col0\" >4</td>\n",
       "    </tr>\n",
       "    <tr>\n",
       "      <th id=\"T_edff1_level0_row9\" class=\"row_heading level0 row9\" >Mexico</th>\n",
       "      <td id=\"T_edff1_row9_col0\" class=\"data row9 col0\" >4</td>\n",
       "    </tr>\n",
       "    <tr>\n",
       "      <th id=\"T_edff1_level0_row10\" class=\"row_heading level0 row10\" >Italy</th>\n",
       "      <td id=\"T_edff1_row10_col0\" class=\"data row10 col0\" >4</td>\n",
       "    </tr>\n",
       "    <tr>\n",
       "      <th id=\"T_edff1_level0_row11\" class=\"row_heading level0 row11\" >Netherlands</th>\n",
       "      <td id=\"T_edff1_row11_col0\" class=\"data row11 col0\" >4</td>\n",
       "    </tr>\n",
       "    <tr>\n",
       "      <th id=\"T_edff1_level0_row12\" class=\"row_heading level0 row12\" >Austria</th>\n",
       "      <td id=\"T_edff1_row12_col0\" class=\"data row12 col0\" >3</td>\n",
       "    </tr>\n",
       "    <tr>\n",
       "      <th id=\"T_edff1_level0_row13\" class=\"row_heading level0 row13\" >Russia</th>\n",
       "      <td id=\"T_edff1_row13_col0\" class=\"data row13 col0\" >3</td>\n",
       "    </tr>\n",
       "    <tr>\n",
       "      <th id=\"T_edff1_level0_row14\" class=\"row_heading level0 row14\" >'United Arab Emirates'</th>\n",
       "      <td id=\"T_edff1_row14_col0\" class=\"data row14 col0\" >3</td>\n",
       "    </tr>\n",
       "    <tr>\n",
       "      <th id=\"T_edff1_level0_row15\" class=\"row_heading level0 row15\" >Sweden</th>\n",
       "      <td id=\"T_edff1_row15_col0\" class=\"data row15 col0\" >2</td>\n",
       "    </tr>\n",
       "    <tr>\n",
       "      <th id=\"T_edff1_level0_row16\" class=\"row_heading level0 row16\" >Afghanistan</th>\n",
       "      <td id=\"T_edff1_row16_col0\" class=\"data row16 col0\" >2</td>\n",
       "    </tr>\n",
       "    <tr>\n",
       "      <th id=\"T_edff1_level0_row17\" class=\"row_heading level0 row17\" >Germany</th>\n",
       "      <td id=\"T_edff1_row17_col0\" class=\"data row17 col0\" >2</td>\n",
       "    </tr>\n",
       "    <tr>\n",
       "      <th id=\"T_edff1_level0_row18\" class=\"row_heading level0 row18\" >Ireland</th>\n",
       "      <td id=\"T_edff1_row18_col0\" class=\"data row18 col0\" >2</td>\n",
       "    </tr>\n",
       "    <tr>\n",
       "      <th id=\"T_edff1_level0_row19\" class=\"row_heading level0 row19\" >'South Africa'</th>\n",
       "      <td id=\"T_edff1_row19_col0\" class=\"data row19 col0\" >2</td>\n",
       "    </tr>\n",
       "    <tr>\n",
       "      <th id=\"T_edff1_level0_row20\" class=\"row_heading level0 row20\" >Jordan</th>\n",
       "      <td id=\"T_edff1_row20_col0\" class=\"data row20 col0\" >2</td>\n",
       "    </tr>\n",
       "    <tr>\n",
       "      <th id=\"T_edff1_level0_row21\" class=\"row_heading level0 row21\" >Spain</th>\n",
       "      <td id=\"T_edff1_row21_col0\" class=\"data row21 col0\" >2</td>\n",
       "    </tr>\n",
       "    <tr>\n",
       "      <th id=\"T_edff1_level0_row22\" class=\"row_heading level0 row22\" >Uruguay</th>\n",
       "      <td id=\"T_edff1_row22_col0\" class=\"data row22 col0\" >1</td>\n",
       "    </tr>\n",
       "    <tr>\n",
       "      <th id=\"T_edff1_level0_row23\" class=\"row_heading level0 row23\" >Nepal</th>\n",
       "      <td id=\"T_edff1_row23_col0\" class=\"data row23 col0\" >1</td>\n",
       "    </tr>\n",
       "    <tr>\n",
       "      <th id=\"T_edff1_level0_row24\" class=\"row_heading level0 row24\" >Finland</th>\n",
       "      <td id=\"T_edff1_row24_col0\" class=\"data row24 col0\" >1</td>\n",
       "    </tr>\n",
       "    <tr>\n",
       "      <th id=\"T_edff1_level0_row25\" class=\"row_heading level0 row25\" >AmericanSamoa</th>\n",
       "      <td id=\"T_edff1_row25_col0\" class=\"data row25 col0\" >1</td>\n",
       "    </tr>\n",
       "    <tr>\n",
       "      <th id=\"T_edff1_level0_row26\" class=\"row_heading level0 row26\" >Pakistan</th>\n",
       "      <td id=\"T_edff1_row26_col0\" class=\"data row26 col0\" >1</td>\n",
       "    </tr>\n",
       "    <tr>\n",
       "      <th id=\"T_edff1_level0_row27\" class=\"row_heading level0 row27\" >Belgium</th>\n",
       "      <td id=\"T_edff1_row27_col0\" class=\"data row27 col0\" >1</td>\n",
       "    </tr>\n",
       "    <tr>\n",
       "      <th id=\"T_edff1_level0_row28\" class=\"row_heading level0 row28\" >'Viet Nam'</th>\n",
       "      <td id=\"T_edff1_row28_col0\" class=\"data row28 col0\" >1</td>\n",
       "    </tr>\n",
       "    <tr>\n",
       "      <th id=\"T_edff1_level0_row29\" class=\"row_heading level0 row29\" >Argentina</th>\n",
       "      <td id=\"T_edff1_row29_col0\" class=\"data row29 col0\" >1</td>\n",
       "    </tr>\n",
       "    <tr>\n",
       "      <th id=\"T_edff1_level0_row30\" class=\"row_heading level0 row30\" >'Saudi Arabia'</th>\n",
       "      <td id=\"T_edff1_row30_col0\" class=\"data row30 col0\" >1</td>\n",
       "    </tr>\n",
       "    <tr>\n",
       "      <th id=\"T_edff1_level0_row31\" class=\"row_heading level0 row31\" >Bangladesh</th>\n",
       "      <td id=\"T_edff1_row31_col0\" class=\"data row31 col0\" >1</td>\n",
       "    </tr>\n",
       "    <tr>\n",
       "      <th id=\"T_edff1_level0_row32\" class=\"row_heading level0 row32\" >Romania</th>\n",
       "      <td id=\"T_edff1_row32_col0\" class=\"data row32 col0\" >1</td>\n",
       "    </tr>\n",
       "    <tr>\n",
       "      <th id=\"T_edff1_level0_row33\" class=\"row_heading level0 row33\" >'Sierra Leone'</th>\n",
       "      <td id=\"T_edff1_row33_col0\" class=\"data row33 col0\" >1</td>\n",
       "    </tr>\n",
       "    <tr>\n",
       "      <th id=\"T_edff1_level0_row34\" class=\"row_heading level0 row34\" >China</th>\n",
       "      <td id=\"T_edff1_row34_col0\" class=\"data row34 col0\" >1</td>\n",
       "    </tr>\n",
       "    <tr>\n",
       "      <th id=\"T_edff1_level0_row35\" class=\"row_heading level0 row35\" >Bahamas</th>\n",
       "      <td id=\"T_edff1_row35_col0\" class=\"data row35 col0\" >1</td>\n",
       "    </tr>\n",
       "    <tr>\n",
       "      <th id=\"T_edff1_level0_row36\" class=\"row_heading level0 row36\" >Cyprus</th>\n",
       "      <td id=\"T_edff1_row36_col0\" class=\"data row36 col0\" >1</td>\n",
       "    </tr>\n",
       "  </tbody>\n",
       "</table>\n"
      ],
      "text/plain": [
       "<pandas.io.formats.style.Styler at 0x256160f3a60>"
      ]
     },
     "execution_count": 81,
     "metadata": {},
     "output_type": "execute_result"
    }
   ],
   "source": [
    "asd_country.style.bar(color=\"#556832\") "
   ]
  },
  {
   "cell_type": "markdown",
   "id": "87995425",
   "metadata": {},
   "source": [
    "Видим, что наибольшее количество заболевших наблюдается в United States, но и людей из United States в выборке в целом больше всего"
   ]
  },
  {
   "cell_type": "markdown",
   "id": "31a04417",
   "metadata": {},
   "source": [
    "Перекодируем строковые значения в числовые"
   ]
  },
  {
   "cell_type": "code",
   "execution_count": 82,
   "id": "c3ac3e12",
   "metadata": {},
   "outputs": [],
   "source": [
    "from sklearn import preprocessing\n",
    "le = preprocessing.LabelEncoder()"
   ]
  },
  {
   "cell_type": "code",
   "execution_count": 87,
   "id": "bd61fba0",
   "metadata": {},
   "outputs": [],
   "source": [
    "data['country_of_res'] = le.fit_transform(data['country_of_res'])"
   ]
  },
  {
   "cell_type": "code",
   "execution_count": 88,
   "id": "7bd77f33",
   "metadata": {},
   "outputs": [
    {
     "data": {
      "text/plain": [
       "array([10, 25, 61, 32,  3, 21, 26, 19, 15, 45, 42,  8, 12, 47,  9,  6, 43,\n",
       "       55, 22, 28, 35, 29, 18, 27,  4, 51, 58, 62, 63, 54, 38, 56,  7,  5,\n",
       "       33, 11, 40,  0, 36, 49, 59, 16, 37, 52,  2, 44, 65, 46, 13, 66, 60,\n",
       "       57, 48, 31, 53, 23, 24, 17, 34, 64, 50, 39, 14, 20, 41,  1, 30])"
      ]
     },
     "execution_count": 88,
     "metadata": {},
     "output_type": "execute_result"
    }
   ],
   "source": [
    "data.country_of_res.unique()"
   ]
  },
  {
   "cell_type": "markdown",
   "id": "5273364d",
   "metadata": {},
   "source": [
    "### Разделим признак возраст на группы"
   ]
  },
  {
   "cell_type": "code",
   "execution_count": 91,
   "id": "89dd72ff",
   "metadata": {},
   "outputs": [
    {
     "data": {
      "text/html": [
       "<div>\n",
       "<style scoped>\n",
       "    .dataframe tbody tr th:only-of-type {\n",
       "        vertical-align: middle;\n",
       "    }\n",
       "\n",
       "    .dataframe tbody tr th {\n",
       "        vertical-align: top;\n",
       "    }\n",
       "\n",
       "    .dataframe thead th {\n",
       "        text-align: right;\n",
       "    }\n",
       "</style>\n",
       "<table border=\"1\" class=\"dataframe\">\n",
       "  <thead>\n",
       "    <tr style=\"text-align: right;\">\n",
       "      <th></th>\n",
       "      <th>A1_Score</th>\n",
       "      <th>A2_Score</th>\n",
       "      <th>A3_Score</th>\n",
       "      <th>A4_Score</th>\n",
       "      <th>A5_Score</th>\n",
       "      <th>A6_Score</th>\n",
       "      <th>A7_Score</th>\n",
       "      <th>A8_Score</th>\n",
       "      <th>A9_Score</th>\n",
       "      <th>A10_Score</th>\n",
       "      <th>...</th>\n",
       "      <th>gender</th>\n",
       "      <th>ethnicity</th>\n",
       "      <th>jaundice</th>\n",
       "      <th>relat_autism</th>\n",
       "      <th>country_of_res</th>\n",
       "      <th>used_app_before</th>\n",
       "      <th>result</th>\n",
       "      <th>relation</th>\n",
       "      <th>ASD</th>\n",
       "      <th>Age_group</th>\n",
       "    </tr>\n",
       "  </thead>\n",
       "  <tbody>\n",
       "    <tr>\n",
       "      <th>0</th>\n",
       "      <td>1</td>\n",
       "      <td>1</td>\n",
       "      <td>1</td>\n",
       "      <td>1</td>\n",
       "      <td>0</td>\n",
       "      <td>0</td>\n",
       "      <td>1</td>\n",
       "      <td>1</td>\n",
       "      <td>0</td>\n",
       "      <td>0</td>\n",
       "      <td>...</td>\n",
       "      <td>1</td>\n",
       "      <td>0</td>\n",
       "      <td>0</td>\n",
       "      <td>0</td>\n",
       "      <td>10</td>\n",
       "      <td>0</td>\n",
       "      <td>6</td>\n",
       "      <td>0</td>\n",
       "      <td>0</td>\n",
       "      <td>1</td>\n",
       "    </tr>\n",
       "    <tr>\n",
       "      <th>1</th>\n",
       "      <td>1</td>\n",
       "      <td>1</td>\n",
       "      <td>0</td>\n",
       "      <td>1</td>\n",
       "      <td>0</td>\n",
       "      <td>0</td>\n",
       "      <td>0</td>\n",
       "      <td>1</td>\n",
       "      <td>0</td>\n",
       "      <td>1</td>\n",
       "      <td>...</td>\n",
       "      <td>0</td>\n",
       "      <td>1</td>\n",
       "      <td>0</td>\n",
       "      <td>1</td>\n",
       "      <td>25</td>\n",
       "      <td>0</td>\n",
       "      <td>5</td>\n",
       "      <td>0</td>\n",
       "      <td>0</td>\n",
       "      <td>1</td>\n",
       "    </tr>\n",
       "    <tr>\n",
       "      <th>2</th>\n",
       "      <td>1</td>\n",
       "      <td>1</td>\n",
       "      <td>0</td>\n",
       "      <td>1</td>\n",
       "      <td>1</td>\n",
       "      <td>0</td>\n",
       "      <td>1</td>\n",
       "      <td>1</td>\n",
       "      <td>1</td>\n",
       "      <td>1</td>\n",
       "      <td>...</td>\n",
       "      <td>0</td>\n",
       "      <td>1</td>\n",
       "      <td>1</td>\n",
       "      <td>1</td>\n",
       "      <td>61</td>\n",
       "      <td>0</td>\n",
       "      <td>8</td>\n",
       "      <td>1</td>\n",
       "      <td>1</td>\n",
       "      <td>1</td>\n",
       "    </tr>\n",
       "    <tr>\n",
       "      <th>3</th>\n",
       "      <td>1</td>\n",
       "      <td>1</td>\n",
       "      <td>0</td>\n",
       "      <td>1</td>\n",
       "      <td>0</td>\n",
       "      <td>0</td>\n",
       "      <td>1</td>\n",
       "      <td>1</td>\n",
       "      <td>0</td>\n",
       "      <td>1</td>\n",
       "      <td>...</td>\n",
       "      <td>1</td>\n",
       "      <td>0</td>\n",
       "      <td>0</td>\n",
       "      <td>1</td>\n",
       "      <td>10</td>\n",
       "      <td>0</td>\n",
       "      <td>6</td>\n",
       "      <td>0</td>\n",
       "      <td>0</td>\n",
       "      <td>2</td>\n",
       "    </tr>\n",
       "    <tr>\n",
       "      <th>4</th>\n",
       "      <td>1</td>\n",
       "      <td>0</td>\n",
       "      <td>0</td>\n",
       "      <td>0</td>\n",
       "      <td>0</td>\n",
       "      <td>0</td>\n",
       "      <td>0</td>\n",
       "      <td>1</td>\n",
       "      <td>0</td>\n",
       "      <td>0</td>\n",
       "      <td>...</td>\n",
       "      <td>1</td>\n",
       "      <td>2</td>\n",
       "      <td>0</td>\n",
       "      <td>0</td>\n",
       "      <td>32</td>\n",
       "      <td>0</td>\n",
       "      <td>2</td>\n",
       "      <td>2</td>\n",
       "      <td>0</td>\n",
       "      <td>2</td>\n",
       "    </tr>\n",
       "  </tbody>\n",
       "</table>\n",
       "<p>5 rows × 21 columns</p>\n",
       "</div>"
      ],
      "text/plain": [
       "   A1_Score  A2_Score  A3_Score  A4_Score  A5_Score  A6_Score  A7_Score  \\\n",
       "0         1         1         1         1         0         0         1   \n",
       "1         1         1         0         1         0         0         0   \n",
       "2         1         1         0         1         1         0         1   \n",
       "3         1         1         0         1         0         0         1   \n",
       "4         1         0         0         0         0         0         0   \n",
       "\n",
       "   A8_Score  A9_Score  A10_Score  ...  gender  ethnicity  jaundice  \\\n",
       "0         1         0          0  ...       1          0         0   \n",
       "1         1         0          1  ...       0          1         0   \n",
       "2         1         1          1  ...       0          1         1   \n",
       "3         1         0          1  ...       1          0         0   \n",
       "4         1         0          0  ...       1          2         0   \n",
       "\n",
       "   relat_autism  country_of_res  used_app_before  result  relation  ASD  \\\n",
       "0             0              10                0       6         0    0   \n",
       "1             1              25                0       5         0    0   \n",
       "2             1              61                0       8         1    1   \n",
       "3             1              10                0       6         0    0   \n",
       "4             0              32                0       2         2    0   \n",
       "\n",
       "   Age_group  \n",
       "0          1  \n",
       "1          1  \n",
       "2          1  \n",
       "3          2  \n",
       "4          2  \n",
       "\n",
       "[5 rows x 21 columns]"
      ]
     },
     "execution_count": 91,
     "metadata": {},
     "output_type": "execute_result"
    }
   ],
   "source": [
    "data['Age_group']=0\n",
    "data.loc[data['age']<=20,'Age_group']=0\n",
    "data.loc[(data['age']>21)&(data['age']<=30),'Age_group']=1\n",
    "data.loc[(data['age']>31)&(data['age']<=40),'Age_group']=2\n",
    "data.loc[(data['age']>41)&(data['age']<=50),'Age_group']=3\n",
    "data.loc[data['age']>51,'Age_group']=4\n",
    "data.head()"
   ]
  },
  {
   "cell_type": "markdown",
   "id": "ae87e951",
   "metadata": {},
   "source": [
    "Признак age нам уже не нужен, мы создали Age_group, удалим признак age:"
   ]
  },
  {
   "cell_type": "code",
   "execution_count": 92,
   "id": "7f34e367",
   "metadata": {},
   "outputs": [],
   "source": [
    "data.drop('age', axis=1, inplace=True)"
   ]
  },
  {
   "cell_type": "code",
   "execution_count": 93,
   "id": "b3029d26",
   "metadata": {},
   "outputs": [
    {
     "data": {
      "text/html": [
       "<div>\n",
       "<style scoped>\n",
       "    .dataframe tbody tr th:only-of-type {\n",
       "        vertical-align: middle;\n",
       "    }\n",
       "\n",
       "    .dataframe tbody tr th {\n",
       "        vertical-align: top;\n",
       "    }\n",
       "\n",
       "    .dataframe thead th {\n",
       "        text-align: right;\n",
       "    }\n",
       "</style>\n",
       "<table border=\"1\" class=\"dataframe\">\n",
       "  <thead>\n",
       "    <tr style=\"text-align: right;\">\n",
       "      <th></th>\n",
       "      <th>A1_Score</th>\n",
       "      <th>A2_Score</th>\n",
       "      <th>A3_Score</th>\n",
       "      <th>A4_Score</th>\n",
       "      <th>A5_Score</th>\n",
       "      <th>A6_Score</th>\n",
       "      <th>A7_Score</th>\n",
       "      <th>A8_Score</th>\n",
       "      <th>A9_Score</th>\n",
       "      <th>A10_Score</th>\n",
       "      <th>gender</th>\n",
       "      <th>ethnicity</th>\n",
       "      <th>jaundice</th>\n",
       "      <th>relat_autism</th>\n",
       "      <th>country_of_res</th>\n",
       "      <th>used_app_before</th>\n",
       "      <th>result</th>\n",
       "      <th>relation</th>\n",
       "      <th>ASD</th>\n",
       "      <th>Age_group</th>\n",
       "    </tr>\n",
       "  </thead>\n",
       "  <tbody>\n",
       "    <tr>\n",
       "      <th>0</th>\n",
       "      <td>1</td>\n",
       "      <td>1</td>\n",
       "      <td>1</td>\n",
       "      <td>1</td>\n",
       "      <td>0</td>\n",
       "      <td>0</td>\n",
       "      <td>1</td>\n",
       "      <td>1</td>\n",
       "      <td>0</td>\n",
       "      <td>0</td>\n",
       "      <td>1</td>\n",
       "      <td>0</td>\n",
       "      <td>0</td>\n",
       "      <td>0</td>\n",
       "      <td>10</td>\n",
       "      <td>0</td>\n",
       "      <td>6</td>\n",
       "      <td>0</td>\n",
       "      <td>0</td>\n",
       "      <td>1</td>\n",
       "    </tr>\n",
       "    <tr>\n",
       "      <th>1</th>\n",
       "      <td>1</td>\n",
       "      <td>1</td>\n",
       "      <td>0</td>\n",
       "      <td>1</td>\n",
       "      <td>0</td>\n",
       "      <td>0</td>\n",
       "      <td>0</td>\n",
       "      <td>1</td>\n",
       "      <td>0</td>\n",
       "      <td>1</td>\n",
       "      <td>0</td>\n",
       "      <td>1</td>\n",
       "      <td>0</td>\n",
       "      <td>1</td>\n",
       "      <td>25</td>\n",
       "      <td>0</td>\n",
       "      <td>5</td>\n",
       "      <td>0</td>\n",
       "      <td>0</td>\n",
       "      <td>1</td>\n",
       "    </tr>\n",
       "    <tr>\n",
       "      <th>2</th>\n",
       "      <td>1</td>\n",
       "      <td>1</td>\n",
       "      <td>0</td>\n",
       "      <td>1</td>\n",
       "      <td>1</td>\n",
       "      <td>0</td>\n",
       "      <td>1</td>\n",
       "      <td>1</td>\n",
       "      <td>1</td>\n",
       "      <td>1</td>\n",
       "      <td>0</td>\n",
       "      <td>1</td>\n",
       "      <td>1</td>\n",
       "      <td>1</td>\n",
       "      <td>61</td>\n",
       "      <td>0</td>\n",
       "      <td>8</td>\n",
       "      <td>1</td>\n",
       "      <td>1</td>\n",
       "      <td>1</td>\n",
       "    </tr>\n",
       "    <tr>\n",
       "      <th>3</th>\n",
       "      <td>1</td>\n",
       "      <td>1</td>\n",
       "      <td>0</td>\n",
       "      <td>1</td>\n",
       "      <td>0</td>\n",
       "      <td>0</td>\n",
       "      <td>1</td>\n",
       "      <td>1</td>\n",
       "      <td>0</td>\n",
       "      <td>1</td>\n",
       "      <td>1</td>\n",
       "      <td>0</td>\n",
       "      <td>0</td>\n",
       "      <td>1</td>\n",
       "      <td>10</td>\n",
       "      <td>0</td>\n",
       "      <td>6</td>\n",
       "      <td>0</td>\n",
       "      <td>0</td>\n",
       "      <td>2</td>\n",
       "    </tr>\n",
       "    <tr>\n",
       "      <th>4</th>\n",
       "      <td>1</td>\n",
       "      <td>0</td>\n",
       "      <td>0</td>\n",
       "      <td>0</td>\n",
       "      <td>0</td>\n",
       "      <td>0</td>\n",
       "      <td>0</td>\n",
       "      <td>1</td>\n",
       "      <td>0</td>\n",
       "      <td>0</td>\n",
       "      <td>1</td>\n",
       "      <td>2</td>\n",
       "      <td>0</td>\n",
       "      <td>0</td>\n",
       "      <td>32</td>\n",
       "      <td>0</td>\n",
       "      <td>2</td>\n",
       "      <td>2</td>\n",
       "      <td>0</td>\n",
       "      <td>2</td>\n",
       "    </tr>\n",
       "    <tr>\n",
       "      <th>...</th>\n",
       "      <td>...</td>\n",
       "      <td>...</td>\n",
       "      <td>...</td>\n",
       "      <td>...</td>\n",
       "      <td>...</td>\n",
       "      <td>...</td>\n",
       "      <td>...</td>\n",
       "      <td>...</td>\n",
       "      <td>...</td>\n",
       "      <td>...</td>\n",
       "      <td>...</td>\n",
       "      <td>...</td>\n",
       "      <td>...</td>\n",
       "      <td>...</td>\n",
       "      <td>...</td>\n",
       "      <td>...</td>\n",
       "      <td>...</td>\n",
       "      <td>...</td>\n",
       "      <td>...</td>\n",
       "      <td>...</td>\n",
       "    </tr>\n",
       "    <tr>\n",
       "      <th>699</th>\n",
       "      <td>0</td>\n",
       "      <td>1</td>\n",
       "      <td>0</td>\n",
       "      <td>1</td>\n",
       "      <td>1</td>\n",
       "      <td>0</td>\n",
       "      <td>1</td>\n",
       "      <td>1</td>\n",
       "      <td>1</td>\n",
       "      <td>1</td>\n",
       "      <td>1</td>\n",
       "      <td>0</td>\n",
       "      <td>0</td>\n",
       "      <td>0</td>\n",
       "      <td>59</td>\n",
       "      <td>0</td>\n",
       "      <td>7</td>\n",
       "      <td>0</td>\n",
       "      <td>1</td>\n",
       "      <td>1</td>\n",
       "    </tr>\n",
       "    <tr>\n",
       "      <th>700</th>\n",
       "      <td>1</td>\n",
       "      <td>0</td>\n",
       "      <td>0</td>\n",
       "      <td>0</td>\n",
       "      <td>0</td>\n",
       "      <td>0</td>\n",
       "      <td>0</td>\n",
       "      <td>1</td>\n",
       "      <td>0</td>\n",
       "      <td>1</td>\n",
       "      <td>0</td>\n",
       "      <td>6</td>\n",
       "      <td>0</td>\n",
       "      <td>0</td>\n",
       "      <td>49</td>\n",
       "      <td>0</td>\n",
       "      <td>3</td>\n",
       "      <td>1</td>\n",
       "      <td>0</td>\n",
       "      <td>2</td>\n",
       "    </tr>\n",
       "    <tr>\n",
       "      <th>701</th>\n",
       "      <td>1</td>\n",
       "      <td>0</td>\n",
       "      <td>1</td>\n",
       "      <td>1</td>\n",
       "      <td>1</td>\n",
       "      <td>0</td>\n",
       "      <td>1</td>\n",
       "      <td>1</td>\n",
       "      <td>0</td>\n",
       "      <td>1</td>\n",
       "      <td>1</td>\n",
       "      <td>0</td>\n",
       "      <td>0</td>\n",
       "      <td>0</td>\n",
       "      <td>59</td>\n",
       "      <td>0</td>\n",
       "      <td>7</td>\n",
       "      <td>2</td>\n",
       "      <td>1</td>\n",
       "      <td>1</td>\n",
       "    </tr>\n",
       "    <tr>\n",
       "      <th>702</th>\n",
       "      <td>1</td>\n",
       "      <td>0</td>\n",
       "      <td>0</td>\n",
       "      <td>1</td>\n",
       "      <td>1</td>\n",
       "      <td>0</td>\n",
       "      <td>1</td>\n",
       "      <td>0</td>\n",
       "      <td>1</td>\n",
       "      <td>1</td>\n",
       "      <td>0</td>\n",
       "      <td>8</td>\n",
       "      <td>0</td>\n",
       "      <td>0</td>\n",
       "      <td>55</td>\n",
       "      <td>0</td>\n",
       "      <td>6</td>\n",
       "      <td>0</td>\n",
       "      <td>0</td>\n",
       "      <td>2</td>\n",
       "    </tr>\n",
       "    <tr>\n",
       "      <th>703</th>\n",
       "      <td>1</td>\n",
       "      <td>0</td>\n",
       "      <td>1</td>\n",
       "      <td>1</td>\n",
       "      <td>1</td>\n",
       "      <td>0</td>\n",
       "      <td>1</td>\n",
       "      <td>1</td>\n",
       "      <td>1</td>\n",
       "      <td>1</td>\n",
       "      <td>1</td>\n",
       "      <td>0</td>\n",
       "      <td>0</td>\n",
       "      <td>0</td>\n",
       "      <td>30</td>\n",
       "      <td>0</td>\n",
       "      <td>8</td>\n",
       "      <td>0</td>\n",
       "      <td>1</td>\n",
       "      <td>1</td>\n",
       "    </tr>\n",
       "  </tbody>\n",
       "</table>\n",
       "<p>704 rows × 20 columns</p>\n",
       "</div>"
      ],
      "text/plain": [
       "     A1_Score  A2_Score  A3_Score  A4_Score  A5_Score  A6_Score  A7_Score  \\\n",
       "0           1         1         1         1         0         0         1   \n",
       "1           1         1         0         1         0         0         0   \n",
       "2           1         1         0         1         1         0         1   \n",
       "3           1         1         0         1         0         0         1   \n",
       "4           1         0         0         0         0         0         0   \n",
       "..        ...       ...       ...       ...       ...       ...       ...   \n",
       "699         0         1         0         1         1         0         1   \n",
       "700         1         0         0         0         0         0         0   \n",
       "701         1         0         1         1         1         0         1   \n",
       "702         1         0         0         1         1         0         1   \n",
       "703         1         0         1         1         1         0         1   \n",
       "\n",
       "     A8_Score  A9_Score  A10_Score  gender  ethnicity  jaundice  relat_autism  \\\n",
       "0           1         0          0       1          0         0             0   \n",
       "1           1         0          1       0          1         0             1   \n",
       "2           1         1          1       0          1         1             1   \n",
       "3           1         0          1       1          0         0             1   \n",
       "4           1         0          0       1          2         0             0   \n",
       "..        ...       ...        ...     ...        ...       ...           ...   \n",
       "699         1         1          1       1          0         0             0   \n",
       "700         1         0          1       0          6         0             0   \n",
       "701         1         0          1       1          0         0             0   \n",
       "702         0         1          1       0          8         0             0   \n",
       "703         1         1          1       1          0         0             0   \n",
       "\n",
       "     country_of_res  used_app_before  result  relation  ASD  Age_group  \n",
       "0                10                0       6         0    0          1  \n",
       "1                25                0       5         0    0          1  \n",
       "2                61                0       8         1    1          1  \n",
       "3                10                0       6         0    0          2  \n",
       "4                32                0       2         2    0          2  \n",
       "..              ...              ...     ...       ...  ...        ...  \n",
       "699              59                0       7         0    1          1  \n",
       "700              49                0       3         1    0          2  \n",
       "701              59                0       7         2    1          1  \n",
       "702              55                0       6         0    0          2  \n",
       "703              30                0       8         0    1          1  \n",
       "\n",
       "[704 rows x 20 columns]"
      ]
     },
     "execution_count": 93,
     "metadata": {},
     "output_type": "execute_result"
    }
   ],
   "source": [
    "data"
   ]
  },
  {
   "cell_type": "markdown",
   "id": "fc1c9773",
   "metadata": {},
   "source": [
    "## Корреляция признаков "
   ]
  },
  {
   "cell_type": "code",
   "execution_count": 94,
   "id": "90c391c7",
   "metadata": {},
   "outputs": [
    {
     "data": {
      "image/png": "[encoded data removed]",
      "text/plain": [
       "<Figure size 1296x576 with 2 Axes>"
      ]
     },
     "metadata": {
      "needs_background": "light"
     },
     "output_type": "display_data"
    }
   ],
   "source": [
    "sns.heatmap(data.corr(),annot=True,cmap='RdYlGn',linewidths=0.2) \n",
    "fig=plt.gcf()\n",
    "fig.set_size_inches(18,8)\n",
    "plt.show()"
   ]
  },
  {
   "cell_type": "markdown",
   "id": "3ea7f5ca",
   "metadata": {},
   "source": [
    "На матрице корреляции мы видим как положительно коррелированные признаки: result и A9_Score.  \n",
    "Так и некоторые отрицательные, такие как ethnicity и result, ethnicity и A4_Score.  \n",
    "Значения result и ASD очень сильно положительно коррелированы между собой , и это мы видели ранее при анализе признака result(при повышении значения result резко возрастала вероятность ASD). Возможно признак result нужно удалить? Но это тренинговая выборка (тут есть ASD), а в тестовой поля ASD не будет, так как это то, что мы будем пытаться предугадывать."
   ]
  },
  {
   "cell_type": "code",
   "execution_count": null,
   "id": "b4ae6145",
   "metadata": {},
   "outputs": [],
   "source": []
  }
 ],
 "metadata": {
  "kernelspec": {
   "display_name": "Python 3 (ipykernel)",
   "language": "python",
   "name": "python3"
  },
  "language_info": {
   "codemirror_mode": {
    "name": "ipython",
    "version": 3
   },
   "file_extension": ".py",
   "mimetype": "text/x-python",
   "name": "python",
   "nbconvert_exporter": "python",
   "pygments_lexer": "ipython3",
   "version": "3.9.12"
  }
 },
 "nbformat": 4,
 "nbformat_minor": 5
}
