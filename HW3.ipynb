{
 "cells": [
  {
   "cell_type": "markdown",
   "metadata": {},
   "source": [
    "## Задание 1\n",
    "Создайте numpy array с элементами от числа N до 0 (например, для N = 10 это будет array([9, 8, 7, 6, 5, 4, 3, 2, 1, 0]))."
   ]
  },
  {
   "cell_type": "code",
   "execution_count": 1,
   "metadata": {
    "scrolled": true
   },
   "outputs": [],
   "source": [
    "import numpy as np"
   ]
  },
  {
   "cell_type": "code",
   "execution_count": 2,
   "metadata": {},
   "outputs": [
    {
     "name": "stdout",
     "output_type": "stream",
     "text": [
      "Введите число N: 20\n"
     ]
    },
    {
     "data": {
      "text/plain": [
       "array([19, 18, 17, 16, 15, 14, 13, 12, 11, 10,  9,  8,  7,  6,  5,  4,  3,\n",
       "        2,  1,  0])"
      ]
     },
     "execution_count": 2,
     "metadata": {},
     "output_type": "execute_result"
    }
   ],
   "source": [
    "N = int(input(\"Введите число N: \"))\n",
    "\n",
    "x = np.arange(N-1,-1,-1)\n",
    "\n",
    "#x = np.array([n for n in range(N)])[::-1]\n",
    "\n",
    "x"
   ]
  },
  {
   "cell_type": "markdown",
   "metadata": {},
   "source": [
    "## Задание 2\n",
    "Создайте диагональную матрицу с элементами от N до 0. Посчитайте сумму ее значений на диагонали."
   ]
  },
  {
   "cell_type": "code",
   "execution_count": 48,
   "metadata": {},
   "outputs": [
    {
     "name": "stdout",
     "output_type": "stream",
     "text": [
      "Введите число N: 15\n",
      "[[15  0  0  0  0  0  0  0  0  0  0  0  0  0  0  0]\n",
      " [ 0 14  0  0  0  0  0  0  0  0  0  0  0  0  0  0]\n",
      " [ 0  0 13  0  0  0  0  0  0  0  0  0  0  0  0  0]\n",
      " [ 0  0  0 12  0  0  0  0  0  0  0  0  0  0  0  0]\n",
      " [ 0  0  0  0 11  0  0  0  0  0  0  0  0  0  0  0]\n",
      " [ 0  0  0  0  0 10  0  0  0  0  0  0  0  0  0  0]\n",
      " [ 0  0  0  0  0  0  9  0  0  0  0  0  0  0  0  0]\n",
      " [ 0  0  0  0  0  0  0  8  0  0  0  0  0  0  0  0]\n",
      " [ 0  0  0  0  0  0  0  0  7  0  0  0  0  0  0  0]\n",
      " [ 0  0  0  0  0  0  0  0  0  6  0  0  0  0  0  0]\n",
      " [ 0  0  0  0  0  0  0  0  0  0  5  0  0  0  0  0]\n",
      " [ 0  0  0  0  0  0  0  0  0  0  0  4  0  0  0  0]\n",
      " [ 0  0  0  0  0  0  0  0  0  0  0  0  3  0  0  0]\n",
      " [ 0  0  0  0  0  0  0  0  0  0  0  0  0  2  0  0]\n",
      " [ 0  0  0  0  0  0  0  0  0  0  0  0  0  0  1  0]\n",
      " [ 0  0  0  0  0  0  0  0  0  0  0  0  0  0  0  0]]\n",
      "120\n"
     ]
    },
    {
     "data": {
      "text/plain": [
       "120"
      ]
     },
     "execution_count": 48,
     "metadata": {},
     "output_type": "execute_result"
    }
   ],
   "source": [
    "N = int(input(\"Введите число N: \"))\n",
    "\n",
    "d = np.diag(np.arange(N,-1,-1))\n",
    "\n",
    "print(d)\n",
    "\n",
    "print(sum(sum(d)))\n",
    "\n",
    "sum(np.diag(d))"
   ]
  },
  {
   "cell_type": "markdown",
   "metadata": {},
   "source": [
    "## Задание 3\n",
    "Решите систему уравнений:\n",
    "* 4x + 2y + z = 4\n",
    "* x + 3y = 12\n",
    "* 5y + 4z = -3"
   ]
  },
  {
   "cell_type": "code",
   "execution_count": 41,
   "metadata": {},
   "outputs": [
    {
     "name": "stdout",
     "output_type": "stream",
     "text": [
      "[[4 2 1]\n",
      " [1 3 0]\n",
      " [0 5 4]]\n",
      "\n",
      "\n",
      "[ 4 12 -3]\n"
     ]
    },
    {
     "data": {
      "text/plain": [
       "array([ 0.46666667,  3.84444444, -5.55555556])"
      ]
     },
     "execution_count": 41,
     "metadata": {},
     "output_type": "execute_result"
    }
   ],
   "source": [
    "from numpy import linalg\n",
    "\n",
    "m = np.array([[4,2,1],[1,3,0],[0,5,4]]) #left part\n",
    "print(m)\n",
    "v = np.array([4,12,-3])#right part\n",
    "print(\"\\n\")\n",
    "print(v)\n",
    "np.linalg.solve(m,v)"
   ]
  },
  {
   "cell_type": "markdown",
   "metadata": {},
   "source": [
    "## Задание 4\n",
    "Вам подаются на вход два вектора a и b в трехмерном пространстве.Заполните их случайными числами. Реализуйте их скалярное произведение с помощью NumPy."
   ]
  },
  {
   "cell_type": "code",
   "execution_count": 58,
   "metadata": {},
   "outputs": [
    {
     "data": {
      "text/plain": [
       "array([[[[0.45138045, 0.45718116, 0.94488684],\n",
       "         [0.82423112, 0.76700749, 0.19967983],\n",
       "         [0.20674134, 0.62233751, 0.53870002]],\n",
       "\n",
       "        [[0.80164945, 0.64798553, 0.19541331],\n",
       "         [0.58644344, 0.59846057, 0.20431959],\n",
       "         [0.42579022, 0.57681468, 0.63051383]],\n",
       "\n",
       "        [[0.66898909, 0.66700909, 0.68488226],\n",
       "         [0.90506367, 0.59924593, 0.27579622],\n",
       "         [0.35464355, 0.53377345, 0.6729275 ]]],\n",
       "\n",
       "\n",
       "       [[[0.92309938, 0.91928248, 0.97299016],\n",
       "         [1.25887791, 0.85156249, 0.38019766],\n",
       "         [0.48703147, 0.75462705, 0.93273881]],\n",
       "\n",
       "        [[0.52812727, 0.53669571, 0.60861521],\n",
       "         [0.75878079, 0.50161252, 0.22661335],\n",
       "         [0.27804578, 0.4404963 , 0.54740467]],\n",
       "\n",
       "        [[1.31495959, 1.23511934, 1.66657371],\n",
       "         [1.79489987, 1.61741943, 0.4894615 ],\n",
       "         [0.6520136 , 1.38037795, 1.34127851]]],\n",
       "\n",
       "\n",
       "       [[[0.790774  , 0.64085606, 0.67506943],\n",
       "         [0.78331689, 0.96614657, 0.21094974],\n",
       "         [0.38591106, 0.84157544, 0.70399028]],\n",
       "\n",
       "        [[0.29010173, 0.34408208, 1.06874032],\n",
       "         [0.80158774, 0.73257497, 0.17452   ],\n",
       "         [0.11440184, 0.56596476, 0.44738698]],\n",
       "\n",
       "        [[1.04625375, 0.86400672, 0.67533191],\n",
       "         [0.97015863, 1.06700452, 0.28773819],\n",
       "         [0.53089635, 0.95751035, 0.90223911]]]])"
      ]
     },
     "execution_count": 58,
     "metadata": {},
     "output_type": "execute_result"
    }
   ],
   "source": [
    "a = np.random.rand(3,3,3)\n",
    "b = np.random.rand(3,3,3)\n",
    "#print(a)\n",
    "#print(b)\n",
    "np.dot(a,b)"
   ]
  }
 ],
 "metadata": {
  "kernelspec": {
   "display_name": "Python 3 (ipykernel)",
   "language": "python",
   "name": "python3"
  },
  "language_info": {
   "codemirror_mode": {
    "name": "ipython",
    "version": 3
   },
   "file_extension": ".py",
   "mimetype": "text/x-python",
   "name": "python",
   "nbconvert_exporter": "python",
   "pygments_lexer": "ipython3",
   "version": "3.10.4"
  }
 },
 "nbformat": 4,
 "nbformat_minor": 4
}
