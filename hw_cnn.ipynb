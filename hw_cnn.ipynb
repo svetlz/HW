{
 "cells": [
  {
   "cell_type": "markdown",
   "metadata": {
    "id": "O9Adfkybw7a_"
   },
   "source": [
    "# Домашнее задание. Полносвязные и сверточные нейронные сети\n",
    "В этом домашнем задании вы потренируетесь в построении полносвязных и сверточных нейронных сетей. Мы сравним качество нейросетей на датасете MNIST с рукописными цифрами. Наша цель --- построить нейронную сеть для решения задачи классификации цифр на 10 классов."
   ]
  },
  {
   "cell_type": "code",
   "execution_count": 1,
   "metadata": {
    "id": "JgIDz7-fMTo5"
   },
   "outputs": [],
   "source": [
    "import numpy as np\n",
    "\n",
    "import seaborn as sns\n",
    "from matplotlib import pyplot as plt\n",
    "\n",
    "from sklearn.datasets import make_moons\n",
    "from sklearn.model_selection import train_test_split\n",
    "\n",
    "import torch\n",
    "from torch import nn\n",
    "from torch.nn import functional as F\n",
    "from torchvision import  transforms\n",
    "from torch.utils.data import TensorDataset, DataLoader\n",
    "\n",
    "sns.set(style=\"darkgrid\", font_scale=1.4)"
   ]
  },
  {
   "cell_type": "markdown",
   "metadata": {
    "id": "cyivMZBZC0Ha"
   },
   "source": [
    "## Датасет MNIST\n",
    "Датасет MNIST содержит рукописные цифры. Загрузим датасет и создадим DataLoader-ы. Пример можно найти в семинаре по полносвязным нейронным сетям."
   ]
  },
  {
   "cell_type": "code",
   "execution_count": 2,
   "metadata": {
    "colab": {
     "base_uri": "https://localhost:8080/",
     "height": 423,
     "referenced_widgets": [
      "87b948517a90490693a53403ab9753c3",
      "34881b47604a4065b03df808ddcee63f",
      "a7c494c857d64cb48bf8eb70a66782fe",
      "46f9bb29013e480e8e9d41e84ebc9026",
      "1ab53d1eccc34724a27356b996781e80",
      "022d59b423424b6ab66c1564794c5279",
      "e5bf414ff69444b5b7bf340e4c516b0d",
      "e9bc922fd6fa4b1aa33b43f769d6fac0",
      "f82e6a4fc0f347b69a286bbcca771a80",
      "a0c6d406c70a4bbc95214037e0e4d0e8",
      "56a76952c89e4e009cff40a5f88568b0",
      "157971c18b0b41228553b118519ef60e",
      "fe26ed3c47cc4c50aed9cf5a8d5b5f98",
      "ae900562ee1041e8b02e12f197d4dc33",
      "59bcc3a55ba24946ae4c91b761b0ca38",
      "76a89c94f3024a818838f6eaa807d8f0",
      "5b23b1fd1f4e45f199e343accccf650e",
      "137bc089f39741c59a7227cb5b3d31bc",
      "b11525b7ab694960868e460f8cebb89e",
      "5b5049f5ffe24f7ba5dc0a51e8289edb",
      "fe96a052990a44abb9ed1f20a55539a5",
      "6018100e00f843d19c6651eeb27fcac9",
      "0212323724f5491eb42f3b486e19cae3",
      "c24e4ed088e1453fa12b2965d898d31a",
      "d3d64d9ae2764cef8dc2cb630a25081f",
      "3c9b4effda0943cc9cb2ae3130029d9f",
      "2aa0404141454010819bf97f8844e16b",
      "dae29d159b1043ea929a28b0e64ab1c8",
      "c0460cf2fcea48b290bd2d89a1eeac2e",
      "0fc2708fc18545d19d7f4b93cb420bab",
      "656c377c091c4936ba7c5dfcd490e5dc",
      "98b5d06b8cb84d0e8684ec05fecf5b9d",
      "ddc52d8ae7fd417cbccc77c645405454",
      "ecda5cb4a9924381b9a89c19d0f0b35a",
      "d756ffd421854fd789a4e0f2f6a7245e",
      "cecbcd3021474b2190e46cd14ae95ffe",
      "28ea3fffa5b540148286e65b13f5571b",
      "331b493d8efe421aaf49c07e698ad236",
      "0d9cc3a4bb7647fda72d4314aa82470b",
      "4dd4694e03334cd0be36bdf20f0c8030",
      "62fe378c0b0841f88446946c7e30889e",
      "d96f47073b154266bb946dcbe7e553ff",
      "a2d6b3c4f0394529b44ee3be5cc413a3",
      "3fb994663190400a9d1d893a8e3e225a"
     ]
    },
    "id": "LuUE2wihC4GW",
    "outputId": "944bf014-3599-4600-f07c-77e85963b271"
   },
   "outputs": [
    {
     "name": "stdout",
     "output_type": "stream",
     "text": [
      "Downloading http://yann.lecun.com/exdb/mnist/train-images-idx3-ubyte.gz\n",
      "Downloading http://yann.lecun.com/exdb/mnist/train-images-idx3-ubyte.gz to ./MNIST/raw/train-images-idx3-ubyte.gz\n"
     ]
    },
    {
     "data": {
      "application/vnd.jupyter.widget-view+json": {
       "model_id": "87b948517a90490693a53403ab9753c3",
       "version_major": 2,
       "version_minor": 0
      },
      "text/plain": [
       "  0%|          | 0/9912422 [00:00<?, ?it/s]"
      ]
     },
     "metadata": {},
     "output_type": "display_data"
    },
    {
     "name": "stdout",
     "output_type": "stream",
     "text": [
      "Extracting ./MNIST/raw/train-images-idx3-ubyte.gz to ./MNIST/raw\n",
      "\n",
      "Downloading http://yann.lecun.com/exdb/mnist/train-labels-idx1-ubyte.gz\n",
      "Downloading http://yann.lecun.com/exdb/mnist/train-labels-idx1-ubyte.gz to ./MNIST/raw/train-labels-idx1-ubyte.gz\n"
     ]
    },
    {
     "data": {
      "application/vnd.jupyter.widget-view+json": {
       "model_id": "157971c18b0b41228553b118519ef60e",
       "version_major": 2,
       "version_minor": 0
      },
      "text/plain": [
       "  0%|          | 0/28881 [00:00<?, ?it/s]"
      ]
     },
     "metadata": {},
     "output_type": "display_data"
    },
    {
     "name": "stdout",
     "output_type": "stream",
     "text": [
      "Extracting ./MNIST/raw/train-labels-idx1-ubyte.gz to ./MNIST/raw\n",
      "\n",
      "Downloading http://yann.lecun.com/exdb/mnist/t10k-images-idx3-ubyte.gz\n",
      "Downloading http://yann.lecun.com/exdb/mnist/t10k-images-idx3-ubyte.gz to ./MNIST/raw/t10k-images-idx3-ubyte.gz\n"
     ]
    },
    {
     "data": {
      "application/vnd.jupyter.widget-view+json": {
       "model_id": "0212323724f5491eb42f3b486e19cae3",
       "version_major": 2,
       "version_minor": 0
      },
      "text/plain": [
       "  0%|          | 0/1648877 [00:00<?, ?it/s]"
      ]
     },
     "metadata": {},
     "output_type": "display_data"
    },
    {
     "name": "stdout",
     "output_type": "stream",
     "text": [
      "Extracting ./MNIST/raw/t10k-images-idx3-ubyte.gz to ./MNIST/raw\n",
      "\n",
      "Downloading http://yann.lecun.com/exdb/mnist/t10k-labels-idx1-ubyte.gz\n",
      "Downloading http://yann.lecun.com/exdb/mnist/t10k-labels-idx1-ubyte.gz to ./MNIST/raw/t10k-labels-idx1-ubyte.gz\n"
     ]
    },
    {
     "data": {
      "application/vnd.jupyter.widget-view+json": {
       "model_id": "ecda5cb4a9924381b9a89c19d0f0b35a",
       "version_major": 2,
       "version_minor": 0
      },
      "text/plain": [
       "  0%|          | 0/4542 [00:00<?, ?it/s]"
      ]
     },
     "metadata": {},
     "output_type": "display_data"
    },
    {
     "name": "stdout",
     "output_type": "stream",
     "text": [
      "Extracting ./MNIST/raw/t10k-labels-idx1-ubyte.gz to ./MNIST/raw\n",
      "\n"
     ]
    }
   ],
   "source": [
    "import os\n",
    "from torchvision.datasets import MNIST\n",
    "\n",
    "data_tfs = transforms.Compose([\n",
    "    transforms.ToTensor(),\n",
    "    transforms.Normalize((0.5), (0.5))\n",
    "])\n",
    "\n",
    "# install for train and test\n",
    "root = './'\n",
    "train_dataset = MNIST(root, train=True,  transform=data_tfs, download=True)\n",
    "val_dataset  = MNIST(root, train=False, transform=data_tfs, download=True)\n",
    "\n",
    "train_dataloader =  torch.utils.data.DataLoader(train_dataset, batch_size=32, shuffle = True)\n",
    "valid_dataloader =  torch.utils.data.DataLoader(val_dataset, batch_size=32, shuffle = False)\n"
   ]
  },
  {
   "cell_type": "code",
   "execution_count": 3,
   "metadata": {
    "id": "qAZb6l0FZxy2"
   },
   "outputs": [],
   "source": [
    "dataiter = iter(train_dataloader)\n",
    "\n",
    "images, labels = next(dataiter)"
   ]
  },
  {
   "cell_type": "code",
   "execution_count": 4,
   "metadata": {
    "colab": {
     "base_uri": "https://localhost:8080/"
    },
    "id": "_perqCgNaFAQ",
    "outputId": "5a424a4c-2f53-4668-8fa3-7866ed5888fe"
   },
   "outputs": [
    {
     "data": {
      "text/plain": [
       "(torch.Size([32, 1, 28, 28]), torch.Size([32]))"
      ]
     },
     "execution_count": 4,
     "metadata": {},
     "output_type": "execute_result"
    }
   ],
   "source": [
    "images.shape, labels.shape"
   ]
  },
  {
   "cell_type": "markdown",
   "metadata": {
    "id": "4t2w2XtSB1Hd"
   },
   "source": [
    "## Часть 1. Полносвязные нейронные сети\n",
    "Сначала решим MNIST с помощью полносвязной нейронной сети."
   ]
  },
  {
   "cell_type": "markdown",
   "metadata": {
    "id": "gFKJYf7PJ3La"
   },
   "source": []
  },
  {
   "cell_type": "code",
   "execution_count": 10,
   "metadata": {
    "id": "Zvcy_wYFh1Lv"
   },
   "outputs": [],
   "source": [
    "class Flatten(nn.Module):\n",
    "    def forward(self, input):\n",
    "        return input.view(input.size(0), -1)\n",
    "\n",
    "class Identical(nn.Module):\n",
    "    def __init__(self):\n",
    "        super().__init__()\n",
    "        self.flatten = Flatten()\n",
    "        self.fc_in = nn.Linear(784, 128)\n",
    "        self.fc_h1 = nn.Linear(128, 128)\n",
    "        self.fc_h2 = nn.Linear(128, 128) \n",
    "        self.out = nn.Linear(128, 10)\n",
    "        self.ELU = nn.ELU(inplace=True)\n",
    "    \n",
    "    def forward(self, x):\n",
    "        x = self.flatten(x)\n",
    "        x = F.ELU(self.fc_in(x))\n",
    "        x = F.ELU(self.fc_h1(x))\n",
    "        x = F.ELU(self.fc_h2(x))\n",
    "        x = self.out(x)\n",
    "        return x\n",
    "    \n"
   ]
  },
  {
   "cell_type": "markdown",
   "metadata": {
    "id": "HMtCBdCA-4bj"
   },
   "source": [
    "### Задание. Простая полносвязная нейронная сеть \n",
    "\n",
    "Создайте полносвязную нейронную сеть с помощью класса Sequential. Сеть состоит из:\n",
    "* Уплощения матрицы в вектор (nn.Flatten);\n",
    "* Двух скрытых слоёв из 128 нейронов с активацией nn.ELU;\n",
    "* Выходного слоя с 10 нейронами.\n",
    "\n",
    "Задайте лосс для обучения (кросс-энтропия).\n"
   ]
  },
  {
   "cell_type": "code",
   "execution_count": 11,
   "metadata": {
    "id": "I89Kjsa7hlOL"
   },
   "outputs": [],
   "source": [
    "device = torch.device('cuda')"
   ]
  },
  {
   "cell_type": "code",
   "execution_count": 12,
   "metadata": {
    "id": "ulxWHddEiQCr"
   },
   "outputs": [],
   "source": [
    "activation = nn.ELU\n",
    "\n",
    "model = nn.Sequential(\n",
    "    nn.Flatten(),\n",
    "    nn.Linear(784, 128),\n",
    "    nn.ELU(),\n",
    "    nn.Linear(128, 128),\n",
    "    nn.ELU(),\n",
    "    nn.Linear(128, 128),\n",
    "    nn.ELU(),\n",
    "    nn.Linear(128, 10),\n",
    "    nn.ELU(),\n",
    "\n",
    ").to(device)"
   ]
  },
  {
   "cell_type": "code",
   "execution_count": 13,
   "metadata": {
    "id": "FIl6z-AfivcK"
   },
   "outputs": [],
   "source": [
    "criterion = nn.CrossEntropyLoss()\n",
    "optimizer = torch.optim.Adam(model.parameters())\n",
    "\n",
    "loaders = {\"train\": train_dataloader, \"valid\": valid_dataloader}"
   ]
  },
  {
   "cell_type": "code",
   "execution_count": 14,
   "metadata": {
    "id": "whvqhLjYmpKc"
   },
   "outputs": [],
   "source": [
    "device = \"cuda\" if torch.cuda.is_available() else \"cpu\""
   ]
  },
  {
   "cell_type": "markdown",
   "metadata": {
    "id": "4Xl_HawRGRAe"
   },
   "source": [
    "### Train loop (seriously)\n",
    "\n",
    "Давайте разберемся с кодом ниже, который подойдет для 90% задач в будущем.\n",
    "\n",
    "\n",
    "```python\n",
    "for epoch in range(max_epochs):  # <--------------- итерируемся по датасету несколько раз\n",
    "    for k, dataloader in loaders.items():  # <----- несколько dataloader для train / valid / test\n",
    "        for x_batch, y_batch in dataloader:  # <--- итерируемся по датасету. Так как мы используем SGD а не GD, то берем батчи заданного размера\n",
    "            if k == \"train\":\n",
    "                model.train()  # <------------------ переводим модель в режим train\n",
    "                optimizer.zero_grad()  # <--------- обнуляем градиенты модели\n",
    "                outp = model(x_batch)\n",
    "                loss = criterion(outp, y_batch) # <-считаем \"лосс\" для логистической регрессии\n",
    "                loss.backward()  # <--------------- считаем градиенты\n",
    "                optimizer.step()  # <-------------- делаем шаг градиентного спуска\n",
    "            else:  # <----------------------------- test/eval\n",
    "                model.eval()  # <------------------ переводим модель в режим eval\n",
    "                with torch.no_grad():  # <--------- НЕ считаем градиенты\n",
    "                    outp = model(x_batch)  # <------------- получаем \"логиты\" из модели\n",
    "            count_metrics(outp, y_batch)  # <-------------- считаем метрики\n",
    "```"
   ]
  },
  {
   "cell_type": "markdown",
   "metadata": {
    "id": "raKQWwQm_9Ff"
   },
   "source": [
    "### Задание. Дополните цикл обучения."
   ]
  },
  {
   "cell_type": "code",
   "execution_count": null,
   "metadata": {
    "id": "3Tmo1lsHjBE6"
   },
   "outputs": [],
   "source": [
    "max_epochs = 10\n",
    "accuracy = {\"train\": [], \"valid\": []}\n",
    "for epoch in range(max_epochs):\n",
    "    for k, dataloader in loaders.items():\n",
    "        epoch_correct = 0\n",
    "        epoch_all = 0\n",
    "        for x_batch, y_batch in dataloader:\n",
    "            if k == \"train\":\n",
    "              model.train()\n",
    "              optimizer.zero_grad()\n",
    "              outp = model(x_batch)               \n",
    "                                               # YOUR CODE. Set model to ``train`` mode and calculate outputs. Don't forget zero_grad!\n",
    "            else:\n",
    "              model.eval()  \n",
    "              with torch.no_grad():\n",
    "                    outp = model(x_batch) \n",
    "                                               # YOUR CODE. Set model to ``eval`` mode and calculate outputs\n",
    "            preds = outp.argmax(-1)\n",
    "            correct =          #? что-то из criterion(outp, y_batch)     # YOUR CODE GOES HERE \n",
    "            all =               #?                               # YOUR CODE GOES HERE \n",
    "            if(outp==correct):                      #? надо условие\n",
    "              epoch_correct += correct.item() \n",
    "            epoch_all += all\n",
    "            if k == \"train\":\n",
    "                loss = criterion(outp, y_batch)\n",
    "                loss.backward()\n",
    "                optimizer.step()\n",
    "                                               # YOUR CODE. Calculate gradients and make a step of your optimizer\n",
    "        if k == \"train\":\n",
    "            print(f\"Epoch: {epoch+1}\")\n",
    "        print(f\"Loader: {k}. Accuracy: {epoch_correct/epoch_all}\")\n",
    "        accuracy[k].append(epoch_correct/epoch_all)\n"
   ]
  },
  {
   "cell_type": "markdown",
   "metadata": {
    "id": "fFRxO1-FK9U9"
   },
   "source": [
    "### Задание. Протестируйте разные функции активации.\n",
    "Попробуйте разные функции активации. Для каждой функции активации посчитайте массив validation accuracy. Лучше реализовать это в виде функции, берущей на вход активацию и получающей массив из accuracies."
   ]
  },
  {
   "cell_type": "code",
   "execution_count": null,
   "metadata": {
    "id": "SezseDhEqhm2"
   },
   "outputs": [],
   "source": [
    "elu_accuracy = accuracy[\"valid\"]"
   ]
  },
  {
   "cell_type": "code",
   "execution_count": null,
   "metadata": {
    "id": "lSVBlHtuAUAh"
   },
   "outputs": [],
   "source": [
    "# YOUR CODE. Do the same thing with other activations (it's better to wrap into a function that returns a list of accuracies)\n",
    "\n",
    "def test_activation_function(activation):\n",
    "    #YOUR CODE"
   ]
  },
  {
   "cell_type": "code",
   "execution_count": null,
   "metadata": {
    "id": "a1iXow0Tqsri"
   },
   "outputs": [],
   "source": [
    "plain_accuracy = test_activation_function(Identical)\n",
    "relu_accuracy = #YOUR CODE\n",
    "leaky_relu_accuracy = #YOUR CODE"
   ]
  },
  {
   "cell_type": "markdown",
   "metadata": {
    "id": "FK07mms3FwNd"
   },
   "source": [
    "### Accuracy\n",
    "Построим график accuracy/epoch для каждой функции активации."
   ]
  },
  {
   "cell_type": "code",
   "execution_count": null,
   "metadata": {
    "id": "cvKclpM5r-P3"
   },
   "outputs": [],
   "source": [
    "sns.set(style=\"darkgrid\", font_scale=1.4)\n",
    "\n",
    "plt.figure(figsize=(16, 10))\n",
    "plt.title(\"Valid accuracy\")\n",
    "plt.plot(range(max_epochs), plain_accuracy, label=\"No activation\", linewidth=2)\n",
    "plt.plot(range(max_epochs), relu_accuracy, label=\"ReLU activation\", linewidth=2)\n",
    "plt.plot(range(max_epochs), leaky_relu_accuracy, label=\"LeakyReLU activation\", linewidth=2)\n",
    "plt.plot(range(max_epochs), elu_accuracy, label=\"ELU activation\", linewidth=2)\n",
    "plt.legend()\n",
    "plt.xlabel(\"Epoch\")\n",
    "plt.show()"
   ]
  },
  {
   "cell_type": "code",
   "execution_count": null,
   "metadata": {
    "id": "4R8L1JCts_qz"
   },
   "outputs": [],
   "source": [
    "plt.figure(figsize=(16, 10))\n",
    "plt.title(\"Valid accuracy\")\n",
    "plt.plot(range(max_epochs), relu_accuracy, label=\"ReLU activation\", linewidth=2)\n",
    "plt.plot(range(max_epochs), leaky_relu_accuracy, label=\"LeakyReLU activation\", linewidth=2)\n",
    "plt.plot(range(max_epochs), elu_accuracy, label=\"ELU activation\", linewidth=2)\n",
    "plt.legend()\n",
    "plt.xlabel(\"Epoch\")\n",
    "plt.show()"
   ]
  },
  {
   "cell_type": "markdown",
   "metadata": {
    "id": "bl8qYSSa7c-r"
   },
   "source": [
    "**Вопрос 1.** Какая из активаций показала наивысший `accuracy` к концу обучения?\n",
    "\n",
    "**Ответ:**"
   ]
  },
  {
   "cell_type": "markdown",
   "metadata": {
    "id": "ebq7icV8CbrU"
   },
   "source": [
    "## Часть 2 Сверточные нейронные сети"
   ]
  },
  {
   "cell_type": "markdown",
   "metadata": {
    "id": "9bXylTAuCqu-"
   },
   "source": [
    "### Ядра\n",
    "Сначала немного поработам с самим понятием ядра свёртки."
   ]
  },
  {
   "cell_type": "code",
   "execution_count": null,
   "metadata": {
    "id": "G7P75exc0acy"
   },
   "outputs": [],
   "source": [
    "!wget https://img.the-village.kz/the-village.com.kz/post-cover/5x5-I6oiwjmq79dMCZMEbA-default.jpg -O sample_photo.jpg"
   ]
  },
  {
   "cell_type": "code",
   "execution_count": null,
   "metadata": {
    "id": "88YOXq0CCyUM"
   },
   "outputs": [],
   "source": [
    "import cv2\n",
    "sns.set(style=\"white\")\n",
    "img = cv2.imread(\"sample_photo.jpg\")\n",
    "RGB_img = cv2.cvtColor(img, cv2.COLOR_BGR2RGB)\n",
    "plt.figure(figsize=(12, 8))\n",
    "plt.imshow(RGB_img)\n",
    "plt.show()"
   ]
  },
  {
   "cell_type": "markdown",
   "metadata": {
    "id": "Iu9oxwbL-6xE"
   },
   "source": [
    "Попробуйте посмотреть как различные свертки влияют на фото. Например, попробуйте \n",
    "A)\n",
    "```\n",
    "[0, 0, 0],\n",
    "[0, 1, 0],\n",
    "[0, 0, 0]\n",
    "```\n",
    "Б)\n",
    "```\n",
    "[0, 1, 0],\n",
    "[0, -2, 0],\n",
    "[0, 1, 0]\n",
    "```\n",
    "В)\n",
    "```\n",
    "[0, 0, 0],\n",
    "[1, -2, 1],\n",
    "[0, 0, 0]\n",
    "```\n",
    "Г)\n",
    "```\n",
    "[0, 1, 0],\n",
    "[1, -4, 1],\n",
    "[0, 1, 0]\n",
    "```\n",
    "Д)\n",
    "```\n",
    "[0, -1, 0],\n",
    "[-1, 5, -1],\n",
    "[0, -1, 0]\n",
    "```\n",
    "Е)\n",
    "```\n",
    "[0.0625, 0.125, 0.0625],\n",
    "[0.125, 0.25, 0.125],\n",
    "[0.0625, 0.125, 0.0625]\n",
    "```\n",
    "\n",
    "Не стесняйтесь пробовать свои варианты!"
   ]
  },
  {
   "cell_type": "code",
   "execution_count": null,
   "metadata": {
    "id": "-0WNZro01pZE"
   },
   "outputs": [],
   "source": [
    "img_t = torch.from_numpy(RGB_img).type(torch.float32).unsqueeze(0)\n",
    "kernel = torch.tensor([\n",
    "    [0, 0, 0],\n",
    "    [1, -2, 1],\n",
    "    [0, 0, 0]\n",
    "]).reshape(1, 1, 3, 3).type(torch.float32)\n",
    "\n",
    "kernel = kernel.repeat(3, 3, 1, 1)\n",
    "img_t = img_t.permute(0, 3, 1, 2)  # [BS, H, W, C] -> [BS, C, H, W]\n",
    "img_t = nn.ReflectionPad2d(1)(img_t)  # Pad Image for same output size\n",
    "\n",
    "result = F.conv2d(img_t, kernel)[0]  #"
   ]
  },
  {
   "cell_type": "code",
   "execution_count": null,
   "metadata": {
    "id": "C-SAfc7x28ko"
   },
   "outputs": [],
   "source": [
    "plt.figure(figsize=(12, 8))\n",
    "result_np = result.permute(1, 2, 0).numpy() / 256 / 3\n",
    "\n",
    "plt.imshow(result_np)\n",
    "plt.show()"
   ]
  },
  {
   "cell_type": "markdown",
   "metadata": {
    "id": "oDapwqTXGC4e"
   },
   "source": [
    "**Вопрос 2.** Как можно описать действия ядер, приведенных выше? Сопоставьте для каждой буквы число.\n",
    "\n",
    "1) Размытие\n",
    "\n",
    "2) Увеличение резкости\n",
    "\n",
    "3) Тождественное преобразование\n",
    "\n",
    "4) Выделение вертикальных границ\n",
    "\n",
    "5) Выделение горизонтальных границ\n",
    "\n",
    "6) Выделение границ\n",
    "\n",
    "**Ответ:**"
   ]
  },
  {
   "cell_type": "markdown",
   "metadata": {
    "id": "4b9ib9saC9Vb"
   },
   "source": [
    "### Задание. Реализуйте LeNet\n",
    "\n",
    "Если мы сделаем параметры сверток обучаемыми, то можем добиться хороших результатов для задач компьютерного зрения. Реализуйте архитектуру LeNet, предложенную еще в 1998 году!\n",
    "На этот раз используйте модульную структуру (без помощи класса Sequential). \n",
    "\n",
    "Наша нейронная сеть будет состоять из\n",
    "* Свёртки 3x3 (1 карта на входе, 6 на выходе) с активацией ReLU;\n",
    "* MaxPooling-а 2x2;\n",
    "* Свёртки 3x3 (6 карт на входе, 16 на выходе) с активацией ReLU;\n",
    "* MaxPooling-а 2x2;\n",
    "* Уплощения (nn.Flatten);\n",
    "* Полносвязного слоя со 120 нейронами и активацией ReLU;\n",
    "* Полносвязного слоя с 84 нейронами и активацией ReLU;\n",
    "* Выходного слоя из 10 нейронов.\n",
    "\n",
    "\n"
   ]
  },
  {
   "cell_type": "code",
   "execution_count": null,
   "metadata": {
    "id": "lE8qJByKC-u0"
   },
   "outputs": [],
   "source": [
    "class LeNet(nn.Module):\n",
    "    def __init__(self):\n",
    "        super(LeNet, self).__init__()\n",
    "        # 1 input image channel, 6 output channels, 3x3 square conv kernel\n",
    "        self.conv1 = nn.Conv2d(1, 6, 3)\n",
    "        self.pool1 = #YOUR CODE\n",
    "        self.conv2 = #YOUR CODE\n",
    "        self.pool2 = #YOUR CODE\n",
    "        self.fc1 = #YOUR CODE  \n",
    "        self.fc2 = #YOUR CODE\n",
    "        self.fc3 = #YOUR CODE\n",
    "\n",
    "    def forward(self, x):\n",
    "        x = #YOUR CODE. Apply layers created in __init__. \n",
    "        ...\n",
    "        return x"
   ]
  },
  {
   "cell_type": "code",
   "execution_count": null,
   "metadata": {
    "id": "dgfBX_HPyd_z"
   },
   "outputs": [],
   "source": [
    "model = LeNet().to(device)\n",
    "\n",
    "criterion = nn.CrossEntropyLoss()\n",
    "optimizer = torch.optim.Adam(model.parameters())\n",
    "\n",
    "loaders = {\"train\": train_dataloader, \"valid\": valid_dataloader}"
   ]
  },
  {
   "cell_type": "markdown",
   "metadata": {
    "id": "J21MIKtjRNWA"
   },
   "source": [
    "### Задание. Обучите CNN\n",
    "Используйте код обучения, который вы написали для полносвязной нейронной сети."
   ]
  },
  {
   "cell_type": "code",
   "execution_count": null,
   "metadata": {
    "id": "X06XkVKiFQLi"
   },
   "outputs": [],
   "source": [
    "<YOUR CODE>"
   ]
  },
  {
   "cell_type": "code",
   "execution_count": null,
   "metadata": {
    "id": "uFT5XKS1ytA2"
   },
   "outputs": [],
   "source": [
    "lenet_accuracy = accuracy[\"valid\"]"
   ]
  },
  {
   "cell_type": "markdown",
   "metadata": {
    "id": "q-PwAI5SPMBx"
   },
   "source": [
    "Сравним с предыдущем пунктом"
   ]
  },
  {
   "cell_type": "code",
   "execution_count": null,
   "metadata": {
    "id": "VDq6pSi_yytp"
   },
   "outputs": [],
   "source": [
    "plt.figure(figsize=(16, 10))\n",
    "plt.title(\"Valid accuracy\")\n",
    "plt.plot(range(max_epochs), relu_accuracy, label=\"ReLU activation\", linewidth=2)\n",
    "plt.plot(range(max_epochs), leaky_relu_accuracy, label=\"LeakyReLU activation\", linewidth=2)\n",
    "plt.plot(range(max_epochs), elu_accuracy, label=\"ELU activation\", linewidth=2)\n",
    "plt.plot(range(max_epochs), lenet_accuracy, label=\"LeNet\", linewidth=2)\n",
    "plt.legend()\n",
    "plt.xlabel(\"Epoch\")\n",
    "plt.show()"
   ]
  },
  {
   "cell_type": "markdown",
   "metadata": {
    "id": "A3NCpTE3726m"
   },
   "source": [
    "**Вопрос 3.** Какое `accuracy` получается после обучения с точностью до двух знаков после запятой?\n",
    "\n",
    "**Ответ:**"
   ]
  }
 ],
 "metadata": {
  "accelerator": "GPU",
  "colab": {
   "provenance": [],
   "toc_visible": true
  },
  "gpuClass": "standard",
  "kernelspec": {
   "display_name": "Python 3 (ipykernel)",
   "language": "python",
   "name": "python3"
  },
  "language_info": {
   "codemirror_mode": {
    "name": "ipython",
    "version": 3
   },
   "file_extension": ".py",
   "mimetype": "text/x-python",
   "name": "python",
   "nbconvert_exporter": "python",
   "pygments_lexer": "ipython3",
   "version": "3.9.12"
  },
  "widgets": {
   "application/vnd.jupyter.widget-state+json": {
    "0212323724f5491eb42f3b486e19cae3": {
     "model_module": "@jupyter-widgets/controls",
     "model_module_version": "1.5.0",
     "model_name": "HBoxModel",
     "state": {
      "_dom_classes": [],
      "_model_module": "@jupyter-widgets/controls",
      "_model_module_version": "1.5.0",
      "_model_name": "HBoxModel",
      "_view_count": null,
      "_view_module": "@jupyter-widgets/controls",
      "_view_module_version": "1.5.0",
      "_view_name": "HBoxView",
      "box_style": "",
      "children": [
       "IPY_MODEL_c24e4ed088e1453fa12b2965d898d31a",
       "IPY_MODEL_d3d64d9ae2764cef8dc2cb630a25081f",
       "IPY_MODEL_3c9b4effda0943cc9cb2ae3130029d9f"
      ],
      "layout": "IPY_MODEL_2aa0404141454010819bf97f8844e16b"
     }
    },
    "022d59b423424b6ab66c1564794c5279": {
     "model_module": "@jupyter-widgets/base",
     "model_module_version": "1.2.0",
     "model_name": "LayoutModel",
     "state": {
      "_model_module": "@jupyter-widgets/base",
      "_model_module_version": "1.2.0",
      "_model_name": "LayoutModel",
      "_view_count": null,
      "_view_module": "@jupyter-widgets/base",
      "_view_module_version": "1.2.0",
      "_view_name": "LayoutView",
      "align_content": null,
      "align_items": null,
      "align_self": null,
      "border": null,
      "bottom": null,
      "display": null,
      "flex": null,
      "flex_flow": null,
      "grid_area": null,
      "grid_auto_columns": null,
      "grid_auto_flow": null,
      "grid_auto_rows": null,
      "grid_column": null,
      "grid_gap": null,
      "grid_row": null,
      "grid_template_areas": null,
      "grid_template_columns": null,
      "grid_template_rows": null,
      "height": null,
      "justify_content": null,
      "justify_items": null,
      "left": null,
      "margin": null,
      "max_height": null,
      "max_width": null,
      "min_height": null,
      "min_width": null,
      "object_fit": null,
      "object_position": null,
      "order": null,
      "overflow": null,
      "overflow_x": null,
      "overflow_y": null,
      "padding": null,
      "right": null,
      "top": null,
      "visibility": null,
      "width": null
     }
    },
    "0d9cc3a4bb7647fda72d4314aa82470b": {
     "model_module": "@jupyter-widgets/base",
     "model_module_version": "1.2.0",
     "model_name": "LayoutModel",
     "state": {
      "_model_module": "@jupyter-widgets/base",
      "_model_module_version": "1.2.0",
      "_model_name": "LayoutModel",
      "_view_count": null,
      "_view_module": "@jupyter-widgets/base",
      "_view_module_version": "1.2.0",
      "_view_name": "LayoutView",
      "align_content": null,
      "align_items": null,
      "align_self": null,
      "border": null,
      "bottom": null,
      "display": null,
      "flex": null,
      "flex_flow": null,
      "grid_area": null,
      "grid_auto_columns": null,
      "grid_auto_flow": null,
      "grid_auto_rows": null,
      "grid_column": null,
      "grid_gap": null,
      "grid_row": null,
      "grid_template_areas": null,
      "grid_template_columns": null,
      "grid_template_rows": null,
      "height": null,
      "justify_content": null,
      "justify_items": null,
      "left": null,
      "margin": null,
      "max_height": null,
      "max_width": null,
      "min_height": null,
      "min_width": null,
      "object_fit": null,
      "object_position": null,
      "order": null,
      "overflow": null,
      "overflow_x": null,
      "overflow_y": null,
      "padding": null,
      "right": null,
      "top": null,
      "visibility": null,
      "width": null
     }
    },
    "0fc2708fc18545d19d7f4b93cb420bab": {
     "model_module": "@jupyter-widgets/base",
     "model_module_version": "1.2.0",
     "model_name": "LayoutModel",
     "state": {
      "_model_module": "@jupyter-widgets/base",
      "_model_module_version": "1.2.0",
      "_model_name": "LayoutModel",
      "_view_count": null,
      "_view_module": "@jupyter-widgets/base",
      "_view_module_version": "1.2.0",
      "_view_name": "LayoutView",
      "align_content": null,
      "align_items": null,
      "align_self": null,
      "border": null,
      "bottom": null,
      "display": null,
      "flex": null,
      "flex_flow": null,
      "grid_area": null,
      "grid_auto_columns": null,
      "grid_auto_flow": null,
      "grid_auto_rows": null,
      "grid_column": null,
      "grid_gap": null,
      "grid_row": null,
      "grid_template_areas": null,
      "grid_template_columns": null,
      "grid_template_rows": null,
      "height": null,
      "justify_content": null,
      "justify_items": null,
      "left": null,
      "margin": null,
      "max_height": null,
      "max_width": null,
      "min_height": null,
      "min_width": null,
      "object_fit": null,
      "object_position": null,
      "order": null,
      "overflow": null,
      "overflow_x": null,
      "overflow_y": null,
      "padding": null,
      "right": null,
      "top": null,
      "visibility": null,
      "width": null
     }
    },
    "137bc089f39741c59a7227cb5b3d31bc": {
     "model_module": "@jupyter-widgets/controls",
     "model_module_version": "1.5.0",
     "model_name": "DescriptionStyleModel",
     "state": {
      "_model_module": "@jupyter-widgets/controls",
      "_model_module_version": "1.5.0",
      "_model_name": "DescriptionStyleModel",
      "_view_count": null,
      "_view_module": "@jupyter-widgets/base",
      "_view_module_version": "1.2.0",
      "_view_name": "StyleView",
      "description_width": ""
     }
    },
    "157971c18b0b41228553b118519ef60e": {
     "model_module": "@jupyter-widgets/controls",
     "model_module_version": "1.5.0",
     "model_name": "HBoxModel",
     "state": {
      "_dom_classes": [],
      "_model_module": "@jupyter-widgets/controls",
      "_model_module_version": "1.5.0",
      "_model_name": "HBoxModel",
      "_view_count": null,
      "_view_module": "@jupyter-widgets/controls",
      "_view_module_version": "1.5.0",
      "_view_name": "HBoxView",
      "box_style": "",
      "children": [
       "IPY_MODEL_fe26ed3c47cc4c50aed9cf5a8d5b5f98",
       "IPY_MODEL_ae900562ee1041e8b02e12f197d4dc33",
       "IPY_MODEL_59bcc3a55ba24946ae4c91b761b0ca38"
      ],
      "layout": "IPY_MODEL_76a89c94f3024a818838f6eaa807d8f0"
     }
    },
    "1ab53d1eccc34724a27356b996781e80": {
     "model_module": "@jupyter-widgets/base",
     "model_module_version": "1.2.0",
     "model_name": "LayoutModel",
     "state": {
      "_model_module": "@jupyter-widgets/base",
      "_model_module_version": "1.2.0",
      "_model_name": "LayoutModel",
      "_view_count": null,
      "_view_module": "@jupyter-widgets/base",
      "_view_module_version": "1.2.0",
      "_view_name": "LayoutView",
      "align_content": null,
      "align_items": null,
      "align_self": null,
      "border": null,
      "bottom": null,
      "display": null,
      "flex": null,
      "flex_flow": null,
      "grid_area": null,
      "grid_auto_columns": null,
      "grid_auto_flow": null,
      "grid_auto_rows": null,
      "grid_column": null,
      "grid_gap": null,
      "grid_row": null,
      "grid_template_areas": null,
      "grid_template_columns": null,
      "grid_template_rows": null,
      "height": null,
      "justify_content": null,
      "justify_items": null,
      "left": null,
      "margin": null,
      "max_height": null,
      "max_width": null,
      "min_height": null,
      "min_width": null,
      "object_fit": null,
      "object_position": null,
      "order": null,
      "overflow": null,
      "overflow_x": null,
      "overflow_y": null,
      "padding": null,
      "right": null,
      "top": null,
      "visibility": null,
      "width": null
     }
    },
    "28ea3fffa5b540148286e65b13f5571b": {
     "model_module": "@jupyter-widgets/controls",
     "model_module_version": "1.5.0",
     "model_name": "HTMLModel",
     "state": {
      "_dom_classes": [],
      "_model_module": "@jupyter-widgets/controls",
      "_model_module_version": "1.5.0",
      "_model_name": "HTMLModel",
      "_view_count": null,
      "_view_module": "@jupyter-widgets/controls",
      "_view_module_version": "1.5.0",
      "_view_name": "HTMLView",
      "description": "",
      "description_tooltip": null,
      "layout": "IPY_MODEL_a2d6b3c4f0394529b44ee3be5cc413a3",
      "placeholder": "​",
      "style": "IPY_MODEL_3fb994663190400a9d1d893a8e3e225a",
      "value": " 4542/4542 [00:00&lt;00:00, 266634.88it/s]"
     }
    },
    "2aa0404141454010819bf97f8844e16b": {
     "model_module": "@jupyter-widgets/base",
     "model_module_version": "1.2.0",
     "model_name": "LayoutModel",
     "state": {
      "_model_module": "@jupyter-widgets/base",
      "_model_module_version": "1.2.0",
      "_model_name": "LayoutModel",
      "_view_count": null,
      "_view_module": "@jupyter-widgets/base",
      "_view_module_version": "1.2.0",
      "_view_name": "LayoutView",
      "align_content": null,
      "align_items": null,
      "align_self": null,
      "border": null,
      "bottom": null,
      "display": null,
      "flex": null,
      "flex_flow": null,
      "grid_area": null,
      "grid_auto_columns": null,
      "grid_auto_flow": null,
      "grid_auto_rows": null,
      "grid_column": null,
      "grid_gap": null,
      "grid_row": null,
      "grid_template_areas": null,
      "grid_template_columns": null,
      "grid_template_rows": null,
      "height": null,
      "justify_content": null,
      "justify_items": null,
      "left": null,
      "margin": null,
      "max_height": null,
      "max_width": null,
      "min_height": null,
      "min_width": null,
      "object_fit": null,
      "object_position": null,
      "order": null,
      "overflow": null,
      "overflow_x": null,
      "overflow_y": null,
      "padding": null,
      "right": null,
      "top": null,
      "visibility": null,
      "width": null
     }
    },
    "331b493d8efe421aaf49c07e698ad236": {
     "model_module": "@jupyter-widgets/base",
     "model_module_version": "1.2.0",
     "model_name": "LayoutModel",
     "state": {
      "_model_module": "@jupyter-widgets/base",
      "_model_module_version": "1.2.0",
      "_model_name": "LayoutModel",
      "_view_count": null,
      "_view_module": "@jupyter-widgets/base",
      "_view_module_version": "1.2.0",
      "_view_name": "LayoutView",
      "align_content": null,
      "align_items": null,
      "align_self": null,
      "border": null,
      "bottom": null,
      "display": null,
      "flex": null,
      "flex_flow": null,
      "grid_area": null,
      "grid_auto_columns": null,
      "grid_auto_flow": null,
      "grid_auto_rows": null,
      "grid_column": null,
      "grid_gap": null,
      "grid_row": null,
      "grid_template_areas": null,
      "grid_template_columns": null,
      "grid_template_rows": null,
      "height": null,
      "justify_content": null,
      "justify_items": null,
      "left": null,
      "margin": null,
      "max_height": null,
      "max_width": null,
      "min_height": null,
      "min_width": null,
      "object_fit": null,
      "object_position": null,
      "order": null,
      "overflow": null,
      "overflow_x": null,
      "overflow_y": null,
      "padding": null,
      "right": null,
      "top": null,
      "visibility": null,
      "width": null
     }
    },
    "34881b47604a4065b03df808ddcee63f": {
     "model_module": "@jupyter-widgets/controls",
     "model_module_version": "1.5.0",
     "model_name": "HTMLModel",
     "state": {
      "_dom_classes": [],
      "_model_module": "@jupyter-widgets/controls",
      "_model_module_version": "1.5.0",
      "_model_name": "HTMLModel",
      "_view_count": null,
      "_view_module": "@jupyter-widgets/controls",
      "_view_module_version": "1.5.0",
      "_view_name": "HTMLView",
      "description": "",
      "description_tooltip": null,
      "layout": "IPY_MODEL_022d59b423424b6ab66c1564794c5279",
      "placeholder": "​",
      "style": "IPY_MODEL_e5bf414ff69444b5b7bf340e4c516b0d",
      "value": "100%"
     }
    },
    "3c9b4effda0943cc9cb2ae3130029d9f": {
     "model_module": "@jupyter-widgets/controls",
     "model_module_version": "1.5.0",
     "model_name": "HTMLModel",
     "state": {
      "_dom_classes": [],
      "_model_module": "@jupyter-widgets/controls",
      "_model_module_version": "1.5.0",
      "_model_name": "HTMLModel",
      "_view_count": null,
      "_view_module": "@jupyter-widgets/controls",
      "_view_module_version": "1.5.0",
      "_view_name": "HTMLView",
      "description": "",
      "description_tooltip": null,
      "layout": "IPY_MODEL_98b5d06b8cb84d0e8684ec05fecf5b9d",
      "placeholder": "​",
      "style": "IPY_MODEL_ddc52d8ae7fd417cbccc77c645405454",
      "value": " 1648877/1648877 [00:00&lt;00:00, 54268249.10it/s]"
     }
    },
    "3fb994663190400a9d1d893a8e3e225a": {
     "model_module": "@jupyter-widgets/controls",
     "model_module_version": "1.5.0",
     "model_name": "DescriptionStyleModel",
     "state": {
      "_model_module": "@jupyter-widgets/controls",
      "_model_module_version": "1.5.0",
      "_model_name": "DescriptionStyleModel",
      "_view_count": null,
      "_view_module": "@jupyter-widgets/base",
      "_view_module_version": "1.2.0",
      "_view_name": "StyleView",
      "description_width": ""
     }
    },
    "46f9bb29013e480e8e9d41e84ebc9026": {
     "model_module": "@jupyter-widgets/controls",
     "model_module_version": "1.5.0",
     "model_name": "HTMLModel",
     "state": {
      "_dom_classes": [],
      "_model_module": "@jupyter-widgets/controls",
      "_model_module_version": "1.5.0",
      "_model_name": "HTMLModel",
      "_view_count": null,
      "_view_module": "@jupyter-widgets/controls",
      "_view_module_version": "1.5.0",
      "_view_name": "HTMLView",
      "description": "",
      "description_tooltip": null,
      "layout": "IPY_MODEL_a0c6d406c70a4bbc95214037e0e4d0e8",
      "placeholder": "​",
      "style": "IPY_MODEL_56a76952c89e4e009cff40a5f88568b0",
      "value": " 9912422/9912422 [00:00&lt;00:00, 32702770.73it/s]"
     }
    },
    "4dd4694e03334cd0be36bdf20f0c8030": {
     "model_module": "@jupyter-widgets/controls",
     "model_module_version": "1.5.0",
     "model_name": "DescriptionStyleModel",
     "state": {
      "_model_module": "@jupyter-widgets/controls",
      "_model_module_version": "1.5.0",
      "_model_name": "DescriptionStyleModel",
      "_view_count": null,
      "_view_module": "@jupyter-widgets/base",
      "_view_module_version": "1.2.0",
      "_view_name": "StyleView",
      "description_width": ""
     }
    },
    "56a76952c89e4e009cff40a5f88568b0": {
     "model_module": "@jupyter-widgets/controls",
     "model_module_version": "1.5.0",
     "model_name": "DescriptionStyleModel",
     "state": {
      "_model_module": "@jupyter-widgets/controls",
      "_model_module_version": "1.5.0",
      "_model_name": "DescriptionStyleModel",
      "_view_count": null,
      "_view_module": "@jupyter-widgets/base",
      "_view_module_version": "1.2.0",
      "_view_name": "StyleView",
      "description_width": ""
     }
    },
    "59bcc3a55ba24946ae4c91b761b0ca38": {
     "model_module": "@jupyter-widgets/controls",
     "model_module_version": "1.5.0",
     "model_name": "HTMLModel",
     "state": {
      "_dom_classes": [],
      "_model_module": "@jupyter-widgets/controls",
      "_model_module_version": "1.5.0",
      "_model_name": "HTMLModel",
      "_view_count": null,
      "_view_module": "@jupyter-widgets/controls",
      "_view_module_version": "1.5.0",
      "_view_name": "HTMLView",
      "description": "",
      "description_tooltip": null,
      "layout": "IPY_MODEL_fe96a052990a44abb9ed1f20a55539a5",
      "placeholder": "​",
      "style": "IPY_MODEL_6018100e00f843d19c6651eeb27fcac9",
      "value": " 28881/28881 [00:00&lt;00:00, 2065611.04it/s]"
     }
    },
    "5b23b1fd1f4e45f199e343accccf650e": {
     "model_module": "@jupyter-widgets/base",
     "model_module_version": "1.2.0",
     "model_name": "LayoutModel",
     "state": {
      "_model_module": "@jupyter-widgets/base",
      "_model_module_version": "1.2.0",
      "_model_name": "LayoutModel",
      "_view_count": null,
      "_view_module": "@jupyter-widgets/base",
      "_view_module_version": "1.2.0",
      "_view_name": "LayoutView",
      "align_content": null,
      "align_items": null,
      "align_self": null,
      "border": null,
      "bottom": null,
      "display": null,
      "flex": null,
      "flex_flow": null,
      "grid_area": null,
      "grid_auto_columns": null,
      "grid_auto_flow": null,
      "grid_auto_rows": null,
      "grid_column": null,
      "grid_gap": null,
      "grid_row": null,
      "grid_template_areas": null,
      "grid_template_columns": null,
      "grid_template_rows": null,
      "height": null,
      "justify_content": null,
      "justify_items": null,
      "left": null,
      "margin": null,
      "max_height": null,
      "max_width": null,
      "min_height": null,
      "min_width": null,
      "object_fit": null,
      "object_position": null,
      "order": null,
      "overflow": null,
      "overflow_x": null,
      "overflow_y": null,
      "padding": null,
      "right": null,
      "top": null,
      "visibility": null,
      "width": null
     }
    },
    "5b5049f5ffe24f7ba5dc0a51e8289edb": {
     "model_module": "@jupyter-widgets/controls",
     "model_module_version": "1.5.0",
     "model_name": "ProgressStyleModel",
     "state": {
      "_model_module": "@jupyter-widgets/controls",
      "_model_module_version": "1.5.0",
      "_model_name": "ProgressStyleModel",
      "_view_count": null,
      "_view_module": "@jupyter-widgets/base",
      "_view_module_version": "1.2.0",
      "_view_name": "StyleView",
      "bar_color": null,
      "description_width": ""
     }
    },
    "6018100e00f843d19c6651eeb27fcac9": {
     "model_module": "@jupyter-widgets/controls",
     "model_module_version": "1.5.0",
     "model_name": "DescriptionStyleModel",
     "state": {
      "_model_module": "@jupyter-widgets/controls",
      "_model_module_version": "1.5.0",
      "_model_name": "DescriptionStyleModel",
      "_view_count": null,
      "_view_module": "@jupyter-widgets/base",
      "_view_module_version": "1.2.0",
      "_view_name": "StyleView",
      "description_width": ""
     }
    },
    "62fe378c0b0841f88446946c7e30889e": {
     "model_module": "@jupyter-widgets/base",
     "model_module_version": "1.2.0",
     "model_name": "LayoutModel",
     "state": {
      "_model_module": "@jupyter-widgets/base",
      "_model_module_version": "1.2.0",
      "_model_name": "LayoutModel",
      "_view_count": null,
      "_view_module": "@jupyter-widgets/base",
      "_view_module_version": "1.2.0",
      "_view_name": "LayoutView",
      "align_content": null,
      "align_items": null,
      "align_self": null,
      "border": null,
      "bottom": null,
      "display": null,
      "flex": null,
      "flex_flow": null,
      "grid_area": null,
      "grid_auto_columns": null,
      "grid_auto_flow": null,
      "grid_auto_rows": null,
      "grid_column": null,
      "grid_gap": null,
      "grid_row": null,
      "grid_template_areas": null,
      "grid_template_columns": null,
      "grid_template_rows": null,
      "height": null,
      "justify_content": null,
      "justify_items": null,
      "left": null,
      "margin": null,
      "max_height": null,
      "max_width": null,
      "min_height": null,
      "min_width": null,
      "object_fit": null,
      "object_position": null,
      "order": null,
      "overflow": null,
      "overflow_x": null,
      "overflow_y": null,
      "padding": null,
      "right": null,
      "top": null,
      "visibility": null,
      "width": null
     }
    },
    "656c377c091c4936ba7c5dfcd490e5dc": {
     "model_module": "@jupyter-widgets/controls",
     "model_module_version": "1.5.0",
     "model_name": "ProgressStyleModel",
     "state": {
      "_model_module": "@jupyter-widgets/controls",
      "_model_module_version": "1.5.0",
      "_model_name": "ProgressStyleModel",
      "_view_count": null,
      "_view_module": "@jupyter-widgets/base",
      "_view_module_version": "1.2.0",
      "_view_name": "StyleView",
      "bar_color": null,
      "description_width": ""
     }
    },
    "76a89c94f3024a818838f6eaa807d8f0": {
     "model_module": "@jupyter-widgets/base",
     "model_module_version": "1.2.0",
     "model_name": "LayoutModel",
     "state": {
      "_model_module": "@jupyter-widgets/base",
      "_model_module_version": "1.2.0",
      "_model_name": "LayoutModel",
      "_view_count": null,
      "_view_module": "@jupyter-widgets/base",
      "_view_module_version": "1.2.0",
      "_view_name": "LayoutView",
      "align_content": null,
      "align_items": null,
      "align_self": null,
      "border": null,
      "bottom": null,
      "display": null,
      "flex": null,
      "flex_flow": null,
      "grid_area": null,
      "grid_auto_columns": null,
      "grid_auto_flow": null,
      "grid_auto_rows": null,
      "grid_column": null,
      "grid_gap": null,
      "grid_row": null,
      "grid_template_areas": null,
      "grid_template_columns": null,
      "grid_template_rows": null,
      "height": null,
      "justify_content": null,
      "justify_items": null,
      "left": null,
      "margin": null,
      "max_height": null,
      "max_width": null,
      "min_height": null,
      "min_width": null,
      "object_fit": null,
      "object_position": null,
      "order": null,
      "overflow": null,
      "overflow_x": null,
      "overflow_y": null,
      "padding": null,
      "right": null,
      "top": null,
      "visibility": null,
      "width": null
     }
    },
    "87b948517a90490693a53403ab9753c3": {
     "model_module": "@jupyter-widgets/controls",
     "model_module_version": "1.5.0",
     "model_name": "HBoxModel",
     "state": {
      "_dom_classes": [],
      "_model_module": "@jupyter-widgets/controls",
      "_model_module_version": "1.5.0",
      "_model_name": "HBoxModel",
      "_view_count": null,
      "_view_module": "@jupyter-widgets/controls",
      "_view_module_version": "1.5.0",
      "_view_name": "HBoxView",
      "box_style": "",
      "children": [
       "IPY_MODEL_34881b47604a4065b03df808ddcee63f",
       "IPY_MODEL_a7c494c857d64cb48bf8eb70a66782fe",
       "IPY_MODEL_46f9bb29013e480e8e9d41e84ebc9026"
      ],
      "layout": "IPY_MODEL_1ab53d1eccc34724a27356b996781e80"
     }
    },
    "98b5d06b8cb84d0e8684ec05fecf5b9d": {
     "model_module": "@jupyter-widgets/base",
     "model_module_version": "1.2.0",
     "model_name": "LayoutModel",
     "state": {
      "_model_module": "@jupyter-widgets/base",
      "_model_module_version": "1.2.0",
      "_model_name": "LayoutModel",
      "_view_count": null,
      "_view_module": "@jupyter-widgets/base",
      "_view_module_version": "1.2.0",
      "_view_name": "LayoutView",
      "align_content": null,
      "align_items": null,
      "align_self": null,
      "border": null,
      "bottom": null,
      "display": null,
      "flex": null,
      "flex_flow": null,
      "grid_area": null,
      "grid_auto_columns": null,
      "grid_auto_flow": null,
      "grid_auto_rows": null,
      "grid_column": null,
      "grid_gap": null,
      "grid_row": null,
      "grid_template_areas": null,
      "grid_template_columns": null,
      "grid_template_rows": null,
      "height": null,
      "justify_content": null,
      "justify_items": null,
      "left": null,
      "margin": null,
      "max_height": null,
      "max_width": null,
      "min_height": null,
      "min_width": null,
      "object_fit": null,
      "object_position": null,
      "order": null,
      "overflow": null,
      "overflow_x": null,
      "overflow_y": null,
      "padding": null,
      "right": null,
      "top": null,
      "visibility": null,
      "width": null
     }
    },
    "a0c6d406c70a4bbc95214037e0e4d0e8": {
     "model_module": "@jupyter-widgets/base",
     "model_module_version": "1.2.0",
     "model_name": "LayoutModel",
     "state": {
      "_model_module": "@jupyter-widgets/base",
      "_model_module_version": "1.2.0",
      "_model_name": "LayoutModel",
      "_view_count": null,
      "_view_module": "@jupyter-widgets/base",
      "_view_module_version": "1.2.0",
      "_view_name": "LayoutView",
      "align_content": null,
      "align_items": null,
      "align_self": null,
      "border": null,
      "bottom": null,
      "display": null,
      "flex": null,
      "flex_flow": null,
      "grid_area": null,
      "grid_auto_columns": null,
      "grid_auto_flow": null,
      "grid_auto_rows": null,
      "grid_column": null,
      "grid_gap": null,
      "grid_row": null,
      "grid_template_areas": null,
      "grid_template_columns": null,
      "grid_template_rows": null,
      "height": null,
      "justify_content": null,
      "justify_items": null,
      "left": null,
      "margin": null,
      "max_height": null,
      "max_width": null,
      "min_height": null,
      "min_width": null,
      "object_fit": null,
      "object_position": null,
      "order": null,
      "overflow": null,
      "overflow_x": null,
      "overflow_y": null,
      "padding": null,
      "right": null,
      "top": null,
      "visibility": null,
      "width": null
     }
    },
    "a2d6b3c4f0394529b44ee3be5cc413a3": {
     "model_module": "@jupyter-widgets/base",
     "model_module_version": "1.2.0",
     "model_name": "LayoutModel",
     "state": {
      "_model_module": "@jupyter-widgets/base",
      "_model_module_version": "1.2.0",
      "_model_name": "LayoutModel",
      "_view_count": null,
      "_view_module": "@jupyter-widgets/base",
      "_view_module_version": "1.2.0",
      "_view_name": "LayoutView",
      "align_content": null,
      "align_items": null,
      "align_self": null,
      "border": null,
      "bottom": null,
      "display": null,
      "flex": null,
      "flex_flow": null,
      "grid_area": null,
      "grid_auto_columns": null,
      "grid_auto_flow": null,
      "grid_auto_rows": null,
      "grid_column": null,
      "grid_gap": null,
      "grid_row": null,
      "grid_template_areas": null,
      "grid_template_columns": null,
      "grid_template_rows": null,
      "height": null,
      "justify_content": null,
      "justify_items": null,
      "left": null,
      "margin": null,
      "max_height": null,
      "max_width": null,
      "min_height": null,
      "min_width": null,
      "object_fit": null,
      "object_position": null,
      "order": null,
      "overflow": null,
      "overflow_x": null,
      "overflow_y": null,
      "padding": null,
      "right": null,
      "top": null,
      "visibility": null,
      "width": null
     }
    },
    "a7c494c857d64cb48bf8eb70a66782fe": {
     "model_module": "@jupyter-widgets/controls",
     "model_module_version": "1.5.0",
     "model_name": "FloatProgressModel",
     "state": {
      "_dom_classes": [],
      "_model_module": "@jupyter-widgets/controls",
      "_model_module_version": "1.5.0",
      "_model_name": "FloatProgressModel",
      "_view_count": null,
      "_view_module": "@jupyter-widgets/controls",
      "_view_module_version": "1.5.0",
      "_view_name": "ProgressView",
      "bar_style": "success",
      "description": "",
      "description_tooltip": null,
      "layout": "IPY_MODEL_e9bc922fd6fa4b1aa33b43f769d6fac0",
      "max": 9912422,
      "min": 0,
      "orientation": "horizontal",
      "style": "IPY_MODEL_f82e6a4fc0f347b69a286bbcca771a80",
      "value": 9912422
     }
    },
    "ae900562ee1041e8b02e12f197d4dc33": {
     "model_module": "@jupyter-widgets/controls",
     "model_module_version": "1.5.0",
     "model_name": "FloatProgressModel",
     "state": {
      "_dom_classes": [],
      "_model_module": "@jupyter-widgets/controls",
      "_model_module_version": "1.5.0",
      "_model_name": "FloatProgressModel",
      "_view_count": null,
      "_view_module": "@jupyter-widgets/controls",
      "_view_module_version": "1.5.0",
      "_view_name": "ProgressView",
      "bar_style": "success",
      "description": "",
      "description_tooltip": null,
      "layout": "IPY_MODEL_b11525b7ab694960868e460f8cebb89e",
      "max": 28881,
      "min": 0,
      "orientation": "horizontal",
      "style": "IPY_MODEL_5b5049f5ffe24f7ba5dc0a51e8289edb",
      "value": 28881
     }
    },
    "b11525b7ab694960868e460f8cebb89e": {
     "model_module": "@jupyter-widgets/base",
     "model_module_version": "1.2.0",
     "model_name": "LayoutModel",
     "state": {
      "_model_module": "@jupyter-widgets/base",
      "_model_module_version": "1.2.0",
      "_model_name": "LayoutModel",
      "_view_count": null,
      "_view_module": "@jupyter-widgets/base",
      "_view_module_version": "1.2.0",
      "_view_name": "LayoutView",
      "align_content": null,
      "align_items": null,
      "align_self": null,
      "border": null,
      "bottom": null,
      "display": null,
      "flex": null,
      "flex_flow": null,
      "grid_area": null,
      "grid_auto_columns": null,
      "grid_auto_flow": null,
      "grid_auto_rows": null,
      "grid_column": null,
      "grid_gap": null,
      "grid_row": null,
      "grid_template_areas": null,
      "grid_template_columns": null,
      "grid_template_rows": null,
      "height": null,
      "justify_content": null,
      "justify_items": null,
      "left": null,
      "margin": null,
      "max_height": null,
      "max_width": null,
      "min_height": null,
      "min_width": null,
      "object_fit": null,
      "object_position": null,
      "order": null,
      "overflow": null,
      "overflow_x": null,
      "overflow_y": null,
      "padding": null,
      "right": null,
      "top": null,
      "visibility": null,
      "width": null
     }
    },
    "c0460cf2fcea48b290bd2d89a1eeac2e": {
     "model_module": "@jupyter-widgets/controls",
     "model_module_version": "1.5.0",
     "model_name": "DescriptionStyleModel",
     "state": {
      "_model_module": "@jupyter-widgets/controls",
      "_model_module_version": "1.5.0",
      "_model_name": "DescriptionStyleModel",
      "_view_count": null,
      "_view_module": "@jupyter-widgets/base",
      "_view_module_version": "1.2.0",
      "_view_name": "StyleView",
      "description_width": ""
     }
    },
    "c24e4ed088e1453fa12b2965d898d31a": {
     "model_module": "@jupyter-widgets/controls",
     "model_module_version": "1.5.0",
     "model_name": "HTMLModel",
     "state": {
      "_dom_classes": [],
      "_model_module": "@jupyter-widgets/controls",
      "_model_module_version": "1.5.0",
      "_model_name": "HTMLModel",
      "_view_count": null,
      "_view_module": "@jupyter-widgets/controls",
      "_view_module_version": "1.5.0",
      "_view_name": "HTMLView",
      "description": "",
      "description_tooltip": null,
      "layout": "IPY_MODEL_dae29d159b1043ea929a28b0e64ab1c8",
      "placeholder": "​",
      "style": "IPY_MODEL_c0460cf2fcea48b290bd2d89a1eeac2e",
      "value": "100%"
     }
    },
    "cecbcd3021474b2190e46cd14ae95ffe": {
     "model_module": "@jupyter-widgets/controls",
     "model_module_version": "1.5.0",
     "model_name": "FloatProgressModel",
     "state": {
      "_dom_classes": [],
      "_model_module": "@jupyter-widgets/controls",
      "_model_module_version": "1.5.0",
      "_model_name": "FloatProgressModel",
      "_view_count": null,
      "_view_module": "@jupyter-widgets/controls",
      "_view_module_version": "1.5.0",
      "_view_name": "ProgressView",
      "bar_style": "success",
      "description": "",
      "description_tooltip": null,
      "layout": "IPY_MODEL_62fe378c0b0841f88446946c7e30889e",
      "max": 4542,
      "min": 0,
      "orientation": "horizontal",
      "style": "IPY_MODEL_d96f47073b154266bb946dcbe7e553ff",
      "value": 4542
     }
    },
    "d3d64d9ae2764cef8dc2cb630a25081f": {
     "model_module": "@jupyter-widgets/controls",
     "model_module_version": "1.5.0",
     "model_name": "FloatProgressModel",
     "state": {
      "_dom_classes": [],
      "_model_module": "@jupyter-widgets/controls",
      "_model_module_version": "1.5.0",
      "_model_name": "FloatProgressModel",
      "_view_count": null,
      "_view_module": "@jupyter-widgets/controls",
      "_view_module_version": "1.5.0",
      "_view_name": "ProgressView",
      "bar_style": "success",
      "description": "",
      "description_tooltip": null,
      "layout": "IPY_MODEL_0fc2708fc18545d19d7f4b93cb420bab",
      "max": 1648877,
      "min": 0,
      "orientation": "horizontal",
      "style": "IPY_MODEL_656c377c091c4936ba7c5dfcd490e5dc",
      "value": 1648877
     }
    },
    "d756ffd421854fd789a4e0f2f6a7245e": {
     "model_module": "@jupyter-widgets/controls",
     "model_module_version": "1.5.0",
     "model_name": "HTMLModel",
     "state": {
      "_dom_classes": [],
      "_model_module": "@jupyter-widgets/controls",
      "_model_module_version": "1.5.0",
      "_model_name": "HTMLModel",
      "_view_count": null,
      "_view_module": "@jupyter-widgets/controls",
      "_view_module_version": "1.5.0",
      "_view_name": "HTMLView",
      "description": "",
      "description_tooltip": null,
      "layout": "IPY_MODEL_0d9cc3a4bb7647fda72d4314aa82470b",
      "placeholder": "​",
      "style": "IPY_MODEL_4dd4694e03334cd0be36bdf20f0c8030",
      "value": "100%"
     }
    },
    "d96f47073b154266bb946dcbe7e553ff": {
     "model_module": "@jupyter-widgets/controls",
     "model_module_version": "1.5.0",
     "model_name": "ProgressStyleModel",
     "state": {
      "_model_module": "@jupyter-widgets/controls",
      "_model_module_version": "1.5.0",
      "_model_name": "ProgressStyleModel",
      "_view_count": null,
      "_view_module": "@jupyter-widgets/base",
      "_view_module_version": "1.2.0",
      "_view_name": "StyleView",
      "bar_color": null,
      "description_width": ""
     }
    },
    "dae29d159b1043ea929a28b0e64ab1c8": {
     "model_module": "@jupyter-widgets/base",
     "model_module_version": "1.2.0",
     "model_name": "LayoutModel",
     "state": {
      "_model_module": "@jupyter-widgets/base",
      "_model_module_version": "1.2.0",
      "_model_name": "LayoutModel",
      "_view_count": null,
      "_view_module": "@jupyter-widgets/base",
      "_view_module_version": "1.2.0",
      "_view_name": "LayoutView",
      "align_content": null,
      "align_items": null,
      "align_self": null,
      "border": null,
      "bottom": null,
      "display": null,
      "flex": null,
      "flex_flow": null,
      "grid_area": null,
      "grid_auto_columns": null,
      "grid_auto_flow": null,
      "grid_auto_rows": null,
      "grid_column": null,
      "grid_gap": null,
      "grid_row": null,
      "grid_template_areas": null,
      "grid_template_columns": null,
      "grid_template_rows": null,
      "height": null,
      "justify_content": null,
      "justify_items": null,
      "left": null,
      "margin": null,
      "max_height": null,
      "max_width": null,
      "min_height": null,
      "min_width": null,
      "object_fit": null,
      "object_position": null,
      "order": null,
      "overflow": null,
      "overflow_x": null,
      "overflow_y": null,
      "padding": null,
      "right": null,
      "top": null,
      "visibility": null,
      "width": null
     }
    },
    "ddc52d8ae7fd417cbccc77c645405454": {
     "model_module": "@jupyter-widgets/controls",
     "model_module_version": "1.5.0",
     "model_name": "DescriptionStyleModel",
     "state": {
      "_model_module": "@jupyter-widgets/controls",
      "_model_module_version": "1.5.0",
      "_model_name": "DescriptionStyleModel",
      "_view_count": null,
      "_view_module": "@jupyter-widgets/base",
      "_view_module_version": "1.2.0",
      "_view_name": "StyleView",
      "description_width": ""
     }
    },
    "e5bf414ff69444b5b7bf340e4c516b0d": {
     "model_module": "@jupyter-widgets/controls",
     "model_module_version": "1.5.0",
     "model_name": "DescriptionStyleModel",
     "state": {
      "_model_module": "@jupyter-widgets/controls",
      "_model_module_version": "1.5.0",
      "_model_name": "DescriptionStyleModel",
      "_view_count": null,
      "_view_module": "@jupyter-widgets/base",
      "_view_module_version": "1.2.0",
      "_view_name": "StyleView",
      "description_width": ""
     }
    },
    "e9bc922fd6fa4b1aa33b43f769d6fac0": {
     "model_module": "@jupyter-widgets/base",
     "model_module_version": "1.2.0",
     "model_name": "LayoutModel",
     "state": {
      "_model_module": "@jupyter-widgets/base",
      "_model_module_version": "1.2.0",
      "_model_name": "LayoutModel",
      "_view_count": null,
      "_view_module": "@jupyter-widgets/base",
      "_view_module_version": "1.2.0",
      "_view_name": "LayoutView",
      "align_content": null,
      "align_items": null,
      "align_self": null,
      "border": null,
      "bottom": null,
      "display": null,
      "flex": null,
      "flex_flow": null,
      "grid_area": null,
      "grid_auto_columns": null,
      "grid_auto_flow": null,
      "grid_auto_rows": null,
      "grid_column": null,
      "grid_gap": null,
      "grid_row": null,
      "grid_template_areas": null,
      "grid_template_columns": null,
      "grid_template_rows": null,
      "height": null,
      "justify_content": null,
      "justify_items": null,
      "left": null,
      "margin": null,
      "max_height": null,
      "max_width": null,
      "min_height": null,
      "min_width": null,
      "object_fit": null,
      "object_position": null,
      "order": null,
      "overflow": null,
      "overflow_x": null,
      "overflow_y": null,
      "padding": null,
      "right": null,
      "top": null,
      "visibility": null,
      "width": null
     }
    },
    "ecda5cb4a9924381b9a89c19d0f0b35a": {
     "model_module": "@jupyter-widgets/controls",
     "model_module_version": "1.5.0",
     "model_name": "HBoxModel",
     "state": {
      "_dom_classes": [],
      "_model_module": "@jupyter-widgets/controls",
      "_model_module_version": "1.5.0",
      "_model_name": "HBoxModel",
      "_view_count": null,
      "_view_module": "@jupyter-widgets/controls",
      "_view_module_version": "1.5.0",
      "_view_name": "HBoxView",
      "box_style": "",
      "children": [
       "IPY_MODEL_d756ffd421854fd789a4e0f2f6a7245e",
       "IPY_MODEL_cecbcd3021474b2190e46cd14ae95ffe",
       "IPY_MODEL_28ea3fffa5b540148286e65b13f5571b"
      ],
      "layout": "IPY_MODEL_331b493d8efe421aaf49c07e698ad236"
     }
    },
    "f82e6a4fc0f347b69a286bbcca771a80": {
     "model_module": "@jupyter-widgets/controls",
     "model_module_version": "1.5.0",
     "model_name": "ProgressStyleModel",
     "state": {
      "_model_module": "@jupyter-widgets/controls",
      "_model_module_version": "1.5.0",
      "_model_name": "ProgressStyleModel",
      "_view_count": null,
      "_view_module": "@jupyter-widgets/base",
      "_view_module_version": "1.2.0",
      "_view_name": "StyleView",
      "bar_color": null,
      "description_width": ""
     }
    },
    "fe26ed3c47cc4c50aed9cf5a8d5b5f98": {
     "model_module": "@jupyter-widgets/controls",
     "model_module_version": "1.5.0",
     "model_name": "HTMLModel",
     "state": {
      "_dom_classes": [],
      "_model_module": "@jupyter-widgets/controls",
      "_model_module_version": "1.5.0",
      "_model_name": "HTMLModel",
      "_view_count": null,
      "_view_module": "@jupyter-widgets/controls",
      "_view_module_version": "1.5.0",
      "_view_name": "HTMLView",
      "description": "",
      "description_tooltip": null,
      "layout": "IPY_MODEL_5b23b1fd1f4e45f199e343accccf650e",
      "placeholder": "​",
      "style": "IPY_MODEL_137bc089f39741c59a7227cb5b3d31bc",
      "value": "100%"
     }
    },
    "fe96a052990a44abb9ed1f20a55539a5": {
     "model_module": "@jupyter-widgets/base",
     "model_module_version": "1.2.0",
     "model_name": "LayoutModel",
     "state": {
      "_model_module": "@jupyter-widgets/base",
      "_model_module_version": "1.2.0",
      "_model_name": "LayoutModel",
      "_view_count": null,
      "_view_module": "@jupyter-widgets/base",
      "_view_module_version": "1.2.0",
      "_view_name": "LayoutView",
      "align_content": null,
      "align_items": null,
      "align_self": null,
      "border": null,
      "bottom": null,
      "display": null,
      "flex": null,
      "flex_flow": null,
      "grid_area": null,
      "grid_auto_columns": null,
      "grid_auto_flow": null,
      "grid_auto_rows": null,
      "grid_column": null,
      "grid_gap": null,
      "grid_row": null,
      "grid_template_areas": null,
      "grid_template_columns": null,
      "grid_template_rows": null,
      "height": null,
      "justify_content": null,
      "justify_items": null,
      "left": null,
      "margin": null,
      "max_height": null,
      "max_width": null,
      "min_height": null,
      "min_width": null,
      "object_fit": null,
      "object_position": null,
      "order": null,
      "overflow": null,
      "overflow_x": null,
      "overflow_y": null,
      "padding": null,
      "right": null,
      "top": null,
      "visibility": null,
      "width": null
     }
    }
   }
  }
 },
 "nbformat": 4,
 "nbformat_minor": 1
}
