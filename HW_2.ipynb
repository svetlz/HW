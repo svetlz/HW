{
 "cells": [
  {
   "cell_type": "markdown",
   "id": "4d20b408",
   "metadata": {},
   "source": [
    "## Класс человека\n",
    "Моделирование человека — классическое упражнение для людей, которые пытаются научиться писать классы. Мы все знакомы с характеристиками и поведением людей, поэтому стоит попробовать это упражнение.\n",
    "* Определите класс Person().\n",
    "* В функции __init()__ определите несколько атрибутов человека. Хорошими атрибутами, которые следует учитывать, являются имя, возраст, место рождения и все, что вам нужно знать о людях в вашей жизни. Не менее 3 атрибутов.\n",
    "* Напишите один метод. Это может быть просто introduce_yourself(). Этот метод выводит такое утверждение, как «Здравствуйте, меня зовут Эрик».\n",
    "* Вы также можете создать такой метод, как age_person(). Простая версия этого метода просто добавит 1 к возрасту человека.\n",
    "* Создайте человека, установите соответствующие значения атрибутов и выведите информацию о человеке.\n",
    "* Вызовите свой метод для человека, которого вы создали. Убедитесь, что ваш метод выполняется правильно; если метод ничего не выводит напрямую, напечатайте что-нибудь до и после вызова метода, чтобы убедиться, что он сделал то, что предполагалось."
   ]
  },
  {
   "cell_type": "code",
   "execution_count": 25,
   "id": "487e27d0",
   "metadata": {},
   "outputs": [
    {
     "name": "stdout",
     "output_type": "stream",
     "text": [
      "Name: Ivan\n",
      "Age: 30\n",
      "City: Tver\n",
      "Work_experience: 10\n",
      "\n",
      "\n",
      "Здравствуйте, меня зовут Ivan\n",
      "Здравствуйте, меня зовут Ivan\n",
      "\n",
      "\n",
      "В следующем году исполнится: 31\n"
     ]
    }
   ],
   "source": [
    "class Person():\n",
    "    #simulates the characteristics and behavior of a person\n",
    "    \n",
    "    def __init__(self, name = '', age = 0, city = '', work_experience = 0):\n",
    "        # Every person has these attributes\n",
    "        self.name = name\n",
    "        self.age = age\n",
    "        self.city = city\n",
    "        self.work_experience = work_experience\n",
    "        \n",
    "    def introduce_yourself1(self):\n",
    "        # Every person can introduce themselves\n",
    "        m = \"Здравствуйте, меня зовут \" + self.name\n",
    "        return m\n",
    "    \n",
    "    def introduce_yourself2(self):\n",
    "        # Every person can introduce themselves\n",
    "        print(\"Здравствуйте, меня зовут\", self.name)\n",
    "        \n",
    "        \n",
    "    def age_person(self,age_inc=1):\n",
    "        #Every person grows up\n",
    "        self.age +=age_inc\n",
    "        \n",
    "my_person = Person()\n",
    "my_person.name = 'Ivan'\n",
    "my_person.age = 30\n",
    "my_person.city = 'Tver'\n",
    "my_person.work_experience = 10\n",
    "\n",
    "print(\"Name:\", my_person.name)\n",
    "print(\"Age:\", my_person.age)\n",
    "print(\"City:\", my_person.city)\n",
    "print(\"Work_experience:\", my_person.work_experience)\n",
    "print(\"\\n\")\n",
    "\n",
    "print (my_person.introduce_yourself1())\n",
    "\n",
    "my_person.introduce_yourself2()\n",
    "print(\"\\n\")\n",
    "\n",
    "my_person.age_person()\n",
    "print(\"В следующем году исполнится:\", my_person.age)"
   ]
  },
  {
   "cell_type": "markdown",
   "id": "b0feab5a",
   "metadata": {},
   "source": [
    "## Студенческий класс\n",
    "\n",
    "* Начните с вашей программы из класса Person.\n",
    "* Создайте новый класс под названием Student, который наследуется от Person.\n",
    "* Определите некоторые качества, которые есть у учащегося, которых нет у других людей.\n",
    "    У учащегося есть школа, с которой он связан, год выпуска, средний балл и другие особые атрибуты.\n",
    "* Создайте объект Student и докажите, что вы правильно использовали наследование.\n",
    "* Установите некоторые значения атрибутов для учащегося, которые закодированы только в классе Person.\n",
    "* Установите некоторые значения атрибутов для учащегося, которые закодированы только в классе учащегося.\n",
    "* Выведите значения для всех этих атрибутов."
   ]
  },
  {
   "cell_type": "code",
   "execution_count": 28,
   "id": "543fece6",
   "metadata": {},
   "outputs": [
    {
     "name": "stdout",
     "output_type": "stream",
     "text": [
      "Name: Аня\n",
      "Age: 20\n",
      "City: Москва\n",
      "Work_experience: 1\n",
      "School: МОУ ЦО 49\n",
      "Year of graduation: 2018\n",
      "Average_score: 4.5\n"
     ]
    }
   ],
   "source": [
    "class Student(Person):\n",
    "    def __init__(self, name = '', age = 0, city = '', work_experience = 0, school = '', year_of_graduation = 0, average_score = 0):\n",
    "        super().__init__(name, age, city, work_experience)\n",
    "        self.school = school\n",
    "        self.year_of_graduation = year_of_graduation\n",
    "        self.average_score = average_score\n",
    "        \n",
    "student_1 = Student('Аня',20,'Москва',1,'МОУ ЦО 49',2018,4.5)\n",
    "print(\"Name:\", student_1.name)\n",
    "print(\"Age:\", student_1.age)\n",
    "print(\"City:\", student_1.city)\n",
    "print(\"Work_experience:\", student_1.work_experience)\n",
    "print(\"School:\", student_1.school)\n",
    "print(\"Year of graduation:\", student_1.year_of_graduation)\n",
    "print(\"Average_score:\", student_1.average_score)"
   ]
  },
  {
   "cell_type": "code",
   "execution_count": 29,
   "id": "c2c0e470",
   "metadata": {},
   "outputs": [
    {
     "name": "stdout",
     "output_type": "stream",
     "text": [
      "Здравствуйте, меня зовут Аня\n",
      "В следующем году исполнится: 21\n"
     ]
    }
   ],
   "source": [
    "student_1.introduce_yourself2()\n",
    "student_1.age_person()\n",
    "print(\"В следующем году исполнится:\", student_1.age)"
   ]
  }
 ],
 "metadata": {
  "kernelspec": {
   "display_name": "Python 3 (ipykernel)",
   "language": "python",
   "name": "python3"
  },
  "language_info": {
   "codemirror_mode": {
    "name": "ipython",
    "version": 3
   },
   "file_extension": ".py",
   "mimetype": "text/x-python",
   "name": "python",
   "nbconvert_exporter": "python",
   "pygments_lexer": "ipython3",
   "version": "3.9.12"
  }
 },
 "nbformat": 4,
 "nbformat_minor": 5
}
