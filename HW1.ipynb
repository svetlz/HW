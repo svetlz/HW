{
 "cells": [
  {
   "cell_type": "markdown",
   "id": "f22952db",
   "metadata": {},
   "source": [
    "## Задача 1\n",
    "\n",
    "Из передачи “Здоровье” Аня узнала, что рекомендуется спать хотя бы AA часов в сутки, но пересыпать тоже вредно и не стоит спать более BB часов. Сейчас Аня спит HH часов в сутки. Если режим сна Ани удовлетворяет рекомендациям передачи “Здоровье”, выведите “Это нормально”. Если Аня спит менее AA часов, выведите “Недосып”, если же более BB часов, то выведите “Пересып”.\n",
    "\n",
    "Получаемое число AA всегда меньше либо равно BB.\n",
    "\n",
    "На вход программе в три строки подаются переменные в следующем порядке: AA, BB, HH.\n",
    "\n",
    "Это первое не самое тривиальное задание на условное выражение. В случаях, когда разбить исполнение программы на несколько направлений, стоит внимательно обдумать все условия, которые нужно использовать. Особое внимание стоит уделить строгости используемых условных операторов: различайте << и ≤≤; >> и ≥≥. Для того, чтобы понимать, какой из них стоит использовать, внимательно прочитайте условие задания"
   ]
  },
  {
   "cell_type": "code",
   "execution_count": 3,
   "id": "074aee8b",
   "metadata": {},
   "outputs": [
    {
     "name": "stdout",
     "output_type": "stream",
     "text": [
      "Введите нижнюю границу рекомендованного количества часов сна: 8\n",
      "Введите верхнюю границу рекомендованного количества часов сна: 10\n",
      "Сколько часов Аня спит в сутки: 5\n",
      "Недосып\n"
     ]
    }
   ],
   "source": [
    "AA = input(\"Введите нижнюю границу рекомендованного количества часов сна: \")\n",
    "BB = input(\"Введите верхнюю границу рекомендованного количества часов сна: \")\n",
    "HH = input(\"Сколько часов Аня спит в сутки: \")\n",
    "\n",
    "if AA <= HH <= BB:\n",
    "        print('Это нормально')\n",
    "elif HH <= AA:\n",
    "    print('Недосып')\n",
    "elif HH >= BB:\n",
    "    print('Пересып')"
   ]
  },
  {
   "cell_type": "code",
   "execution_count": 4,
   "id": "3311f3be",
   "metadata": {},
   "outputs": [],
   "source": [
    "def myfunc(AA, BB, HH):    \n",
    "    \"\"\"\n",
    "    AA - sleep in hours, the lower limit of the norm\n",
    "    BB - sleep in hours, the upper limit of the norm\n",
    "    AA is always less than or equal to BB\n",
    "    HH - Ann is sleeping\n",
    "    \"\"\"\n",
    "    if AA <= HH <= BB:\n",
    "        print('Это нормально')\n",
    "    elif HH <= AA:\n",
    "        print('Недосып')\n",
    "    elif HH >= BB:\n",
    "        print('Пересып')\n"
   ]
  },
  {
   "cell_type": "code",
   "execution_count": 6,
   "id": "98d59369",
   "metadata": {},
   "outputs": [
    {
     "name": "stdout",
     "output_type": "stream",
     "text": [
      "Пересып\n"
     ]
    }
   ],
   "source": [
    "myfunc(8,10,12)"
   ]
  },
  {
   "cell_type": "markdown",
   "id": "30683fad",
   "metadata": {},
   "source": [
    "## Задача 2\n",
    "Требуется определить, является ли данный год високосным.\n",
    "\n",
    "Напомним, что високосными годами считаются те годы, порядковый номер которых либо кратен 4, но при этом не кратен 100, либо кратен 400 (например, 2000-й год являлся високосным, а 2100-й будет невисокосным годом). \n",
    "Программа должна корректно работать на числах 1900≤n≤3000.\n",
    "Выведите \"Високосный\" в случае, если считанный год является високосным и \"Обычный\" в обратном случае (не забывайте проверять регистр выводимых программой символов)."
   ]
  },
  {
   "cell_type": "code",
   "execution_count": 7,
   "id": "d557de88",
   "metadata": {},
   "outputs": [],
   "source": [
    "def year(y):\n",
    "    if (y%4==0 and y%100!=0) or (y%400==0): \n",
    "        print('Високосный')   \n",
    "    else:\n",
    "        print('Обычный')\n",
    "        "
   ]
  },
  {
   "cell_type": "code",
   "execution_count": 8,
   "id": "158c10ef",
   "metadata": {},
   "outputs": [
    {
     "name": "stdout",
     "output_type": "stream",
     "text": [
      "Високосный\n"
     ]
    }
   ],
   "source": [
    "year(1904)"
   ]
  },
  {
   "cell_type": "markdown",
   "id": "917a0741",
   "metadata": {},
   "source": [
    "## Задача 3\n",
    "\n",
    "Напишите программу, на вход которой подается одна строка с целыми числами. Программа должна вывести сумму этих чисел.\n",
    "\n",
    "Используйте метод split строки. \n",
    "\n",
    "Напишите программу, которая выводит часть последовательности 1 2 2 3 3 3 4 4 4 4 5 5 5 5 5 ... (число повторяется столько раз, чему равно). На вход программе передаётся неотрицательное целое число n — столько элементов последовательности должна отобразить программа. На выходе ожидается последовательность чисел, записанных через пробел в одну строку. \n",
    "\n",
    "Например, если n = 7, то программа должна вывести 1 2 2 3 3 3 4."
   ]
  },
  {
   "cell_type": "code",
   "execution_count": 9,
   "id": "a12afb58",
   "metadata": {
    "scrolled": true
   },
   "outputs": [
    {
     "name": "stdout",
     "output_type": "stream",
     "text": [
      "Введите числа через пробел: 5 5 5 5 5 1\n",
      "26\n"
     ]
    }
   ],
   "source": [
    "stroka = input('Введите числа через пробел: ').split() #converts a string to a list by delimiter - by default it is a space (result: [\"1\", \"2\" ,\"3\"])\n",
    "s = 0\n",
    "for x in stroka:\n",
    "    s = s + int(x)\n",
    "print(s)"
   ]
  },
  {
   "cell_type": "code",
   "execution_count": 10,
   "id": "e8cf4cc0",
   "metadata": {},
   "outputs": [
    {
     "name": "stdout",
     "output_type": "stream",
     "text": [
      "ВВедите неотрицательное целое число n: 7\n",
      "1 2 2 3 3 3 4\n"
     ]
    }
   ],
   "source": [
    "n = int(input('ВВедите неотрицательное целое число n: '))\n",
    "l = []\n",
    "for i in range(n):\n",
    "    k = 0\n",
    "    \n",
    "    while k < i+1:\n",
    "        l.append(i+1)\n",
    "        k = k+1\n",
    "        \n",
    "print(\" \".join(map(str,l[:n]))) #map - convert int values to str type; join - convert list to string\n"
   ]
  },
  {
   "cell_type": "markdown",
   "id": "c4b27809",
   "metadata": {},
   "source": [
    "## Задача 4\n",
    "\n",
    "Напишите программу, которая считывает с клавиатуры два числа a и b, считает и выводит среднее арифметическое всех чисел из отрезка [a;b], которые кратны числу 3.\n",
    "\n",
    "В приведенном ниже примере среднее арифметическое считается для чисел на отрезке [−5;12]. Всего чисел, делящихся на 3, на этом отрезке 6: −3,0,3,6,9,12. Их среднее арифметическое равно 4.5\n",
    "На вход программе подаются интервалы, внутри которых всегда есть хотя бы одно число, которое делится на 3."
   ]
  },
  {
   "cell_type": "code",
   "execution_count": 11,
   "id": "ce9b599f",
   "metadata": {},
   "outputs": [
    {
     "name": "stdout",
     "output_type": "stream",
     "text": [
      "Введите число a: -5\n",
      "Введите число b: 12\n",
      "4.5\n"
     ]
    }
   ],
   "source": [
    "a = int(input(\"Введите число a: \"))\n",
    "b = int(input(\"Введите число b: \"))\n",
    "\n",
    "l = list(range(a,b+1,1))\n",
    "#print(l)\n",
    "s=0\n",
    "k=0\n",
    "for x in l:\n",
    "    if (x%3==0): \n",
    "        s = s + int(x)\n",
    "        k=k+1\n",
    "\n",
    "print(s/k)"
   ]
  },
  {
   "cell_type": "markdown",
   "id": "33db7e8c",
   "metadata": {},
   "source": [
    "## Задача 5\n",
    "\n",
    "Напишите функцию modify_list(l), которая принимает на вход список целых чисел, удаляет из него все нечётные значения, а чётные нацело делит на два. Функция не должна ничего возвращать, требуется только изменение переданного списка, например:\n",
    "\n",
    "Функция не должна осуществлять ввод/вывод информации."
   ]
  },
  {
   "cell_type": "code",
   "execution_count": null,
   "id": "a71b3783",
   "metadata": {},
   "outputs": [],
   "source": [
    "lst = [1, 2, 3, 4, 5, 6]\n",
    "print(modify_list(lst))  # None\n",
    "print(lst)               # [1, 2, 3]\n",
    "modify_list(lst)\n",
    "print(lst)               # [1]\n",
    "\n",
    "lst = [10, 5, 8, 3]\n",
    "modify_list(lst)\n",
    "print(lst)               # [5, 4]"
   ]
  },
  {
   "cell_type": "code",
   "execution_count": 2,
   "id": "ff18d66a",
   "metadata": {},
   "outputs": [],
   "source": [
    "def modify_list(l):\n",
    "    x=len(l)-1 #the index in the list starts with 0, len counts from 1\n",
    "    while x>=0:\n",
    "        if l[x]%2!=0:\n",
    "            del l[x]\n",
    "        else:\n",
    "            l[x]=l[x]/2\n",
    "        x=x-1"
   ]
  },
  {
   "cell_type": "code",
   "execution_count": 3,
   "id": "19e376e6",
   "metadata": {
    "scrolled": true
   },
   "outputs": [
    {
     "name": "stdout",
     "output_type": "stream",
     "text": [
      "[11.0, 7.0, 13.0, 44.0]\n",
      "[22.0]\n"
     ]
    }
   ],
   "source": [
    "l=[51,22,13,14,45,26,67,88]\n",
    "modify_list(l)\n",
    "print(l)\n",
    "modify_list(l)\n",
    "print(l)"
   ]
  },
  {
   "cell_type": "markdown",
   "id": "f83ababe",
   "metadata": {},
   "source": [
    "## Задача 6\n",
    "\n",
    "Напишите функцию update_dictionary(d, key, value), которая принимает на вход словарь d и два числа: key и value.\n",
    "\n",
    "Если ключ key есть в словаре d, то добавьте значение value в список, который хранится по этому ключу.\n",
    "Если ключа key нет в словаре, то нужно добавить значение в список по ключу 2∗key. Если и ключа 2∗key нет, то нужно добавить ключ 2∗key в словарь и сопоставить ему список из переданного элемента value.\n",
    "\n",
    "Требуется реализовать только эту функцию, кода вне её не должно быть.\n",
    "Функция не должна вызывать внутри себя функции input и print.\n",
    "\n",
    "Пример работы функции:"
   ]
  },
  {
   "cell_type": "code",
   "execution_count": 5,
   "id": "19cae789",
   "metadata": {},
   "outputs": [
    {
     "name": "stdout",
     "output_type": "stream",
     "text": [
      "None\n",
      "{2: [-1]}\n",
      "{2: [-1, -2]}\n",
      "{2: [-1, -2, -3]}\n"
     ]
    }
   ],
   "source": [
    "d = {}\n",
    "print(update_dictionary(d, 1, -1))  # None\n",
    "print(d)                            # {2: [-1]}\n",
    "update_dictionary(d, 2, -2)\n",
    "print(d)                            # {2: [-1, -2]}\n",
    "update_dictionary(d, 1, -3)\n",
    "print(d)                            # {2: [-1, -2, -3]}"
   ]
  },
  {
   "cell_type": "code",
   "execution_count": 4,
   "id": "032dffe2",
   "metadata": {},
   "outputs": [],
   "source": [
    "def update_dictionary(d, key, value):\n",
    "    if key in d:\n",
    "        d[key].append(value)\n",
    "    else:\n",
    "        if 2*key in d:\n",
    "            d[2*key].append(value)\n",
    "        else:\n",
    "            d[2*key] = [value]\n",
    "    "
   ]
  },
  {
   "cell_type": "markdown",
   "id": "092907bf",
   "metadata": {},
   "source": [
    "Для самостоятельной работы, показать мастерство: https://stepik.org/course/67/syllabus"
   ]
  }
 ],
 "metadata": {
  "kernelspec": {
   "display_name": "Python 3 (ipykernel)",
   "language": "python",
   "name": "python3"
  },
  "language_info": {
   "codemirror_mode": {
    "name": "ipython",
    "version": 3
   },
   "file_extension": ".py",
   "mimetype": "text/x-python",
   "name": "python",
   "nbconvert_exporter": "python",
   "pygments_lexer": "ipython3",
   "version": "3.9.12"
  }
 },
 "nbformat": 4,
 "nbformat_minor": 5
}
