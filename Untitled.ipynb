{
 "cells": [
  {
   "cell_type": "markdown",
   "id": "253d0c3f",
   "metadata": {},
   "source": [
    "PassengerId - Уникальный идентификатор для каждого пассажира. Каждый идентификатор принимает форму gggg_pp, где gggg указывает группу, с которой путешествует пассажир, а pp — его номер в группе. Люди в группе часто являются членами семьи, но не всегда.  \n",
    "HomePlanet - Планета, с которой вылетел пассажир, как правило, планета их постоянного проживания.  \n",
    "CryoSleep - Указывает, решил ли пассажир быть переведен в режим анабиоза на время рейса. Пассажиры, находящиеся в криосонном состоянии, находятся в своих каютах.  \n",
    "Cabin - Номер каюты, в которой находится пассажир. Принимает форму палуба/число/сторона, где сторона может быть либо P для левого борта, либо S для правого борта.  \n",
    "Destination - Планета, на которую будет высаживаться пассажир.  \n",
    "Age - Возраст пассажира.  \n",
    "VIP - Оплатил ли пассажир специальное VIP-обслуживание во время рейса.  \n",
    "RoomService, FoodCourt, ShoppingMall, Spa, VRDeck - Сумма, которую пассажир выставил в счет за каждое из многочисленных роскошных удобств космического корабля «Титаник».  \n",
    "Name - Имя и фамилия пассажира.  \n",
    "Transported - Перенесся ли пассажир в другое измерение. Это цель, столбец, который вы пытаетесь предсказать.  "
   ]
  },
  {
   "cell_type": "code",
   "execution_count": 68,
   "id": "b2683e01",
   "metadata": {},
   "outputs": [],
   "source": [
    "import pandas as pd\n",
    "import numpy as np\n",
    "import matplotlib.pyplot as plt\n",
    "import seaborn as sns\n",
    "plt.style.use('fivethirtyeight')\n",
    "import warnings\n",
    "warnings.filterwarnings('ignore')\n",
    "%matplotlib inline\n",
    "from sklearn.svm import SVC\n",
    "from sklearn.neighbors import KNeighborsClassifier\n",
    "from sklearn.linear_model import LogisticRegression\n",
    "from sklearn.ensemble import RandomForestClassifier\n",
    "from catboost import CatBoostClassifier\n",
    "from sklearn.metrics import accuracy_score, confusion_matrix, classification_report"
   ]
  },
  {
   "cell_type": "code",
   "execution_count": 2,
   "id": "f8ba77a9",
   "metadata": {},
   "outputs": [],
   "source": [
    "df = pd.read_csv('train.csv')"
   ]
  },
  {
   "cell_type": "code",
   "execution_count": 3,
   "id": "34723665",
   "metadata": {},
   "outputs": [],
   "source": [
    "dT = pd.read_csv('test.csv')"
   ]
  },
  {
   "cell_type": "code",
   "execution_count": 4,
   "id": "70481572",
   "metadata": {},
   "outputs": [
    {
     "data": {
      "text/html": [
       "<div>\n",
       "<style scoped>\n",
       "    .dataframe tbody tr th:only-of-type {\n",
       "        vertical-align: middle;\n",
       "    }\n",
       "\n",
       "    .dataframe tbody tr th {\n",
       "        vertical-align: top;\n",
       "    }\n",
       "\n",
       "    .dataframe thead th {\n",
       "        text-align: right;\n",
       "    }\n",
       "</style>\n",
       "<table border=\"1\" class=\"dataframe\">\n",
       "  <thead>\n",
       "    <tr style=\"text-align: right;\">\n",
       "      <th></th>\n",
       "      <th>PassengerId</th>\n",
       "      <th>HomePlanet</th>\n",
       "      <th>CryoSleep</th>\n",
       "      <th>Cabin</th>\n",
       "      <th>Destination</th>\n",
       "      <th>Age</th>\n",
       "      <th>VIP</th>\n",
       "      <th>RoomService</th>\n",
       "      <th>FoodCourt</th>\n",
       "      <th>ShoppingMall</th>\n",
       "      <th>Spa</th>\n",
       "      <th>VRDeck</th>\n",
       "      <th>Name</th>\n",
       "      <th>Transported</th>\n",
       "    </tr>\n",
       "  </thead>\n",
       "  <tbody>\n",
       "    <tr>\n",
       "      <th>0</th>\n",
       "      <td>0001_01</td>\n",
       "      <td>Europa</td>\n",
       "      <td>False</td>\n",
       "      <td>B/0/P</td>\n",
       "      <td>TRAPPIST-1e</td>\n",
       "      <td>39.0</td>\n",
       "      <td>False</td>\n",
       "      <td>0.0</td>\n",
       "      <td>0.0</td>\n",
       "      <td>0.0</td>\n",
       "      <td>0.0</td>\n",
       "      <td>0.0</td>\n",
       "      <td>Maham Ofracculy</td>\n",
       "      <td>False</td>\n",
       "    </tr>\n",
       "    <tr>\n",
       "      <th>1</th>\n",
       "      <td>0002_01</td>\n",
       "      <td>Earth</td>\n",
       "      <td>False</td>\n",
       "      <td>F/0/S</td>\n",
       "      <td>TRAPPIST-1e</td>\n",
       "      <td>24.0</td>\n",
       "      <td>False</td>\n",
       "      <td>109.0</td>\n",
       "      <td>9.0</td>\n",
       "      <td>25.0</td>\n",
       "      <td>549.0</td>\n",
       "      <td>44.0</td>\n",
       "      <td>Juanna Vines</td>\n",
       "      <td>True</td>\n",
       "    </tr>\n",
       "    <tr>\n",
       "      <th>2</th>\n",
       "      <td>0003_01</td>\n",
       "      <td>Europa</td>\n",
       "      <td>False</td>\n",
       "      <td>A/0/S</td>\n",
       "      <td>TRAPPIST-1e</td>\n",
       "      <td>58.0</td>\n",
       "      <td>True</td>\n",
       "      <td>43.0</td>\n",
       "      <td>3576.0</td>\n",
       "      <td>0.0</td>\n",
       "      <td>6715.0</td>\n",
       "      <td>49.0</td>\n",
       "      <td>Altark Susent</td>\n",
       "      <td>False</td>\n",
       "    </tr>\n",
       "    <tr>\n",
       "      <th>3</th>\n",
       "      <td>0003_02</td>\n",
       "      <td>Europa</td>\n",
       "      <td>False</td>\n",
       "      <td>A/0/S</td>\n",
       "      <td>TRAPPIST-1e</td>\n",
       "      <td>33.0</td>\n",
       "      <td>False</td>\n",
       "      <td>0.0</td>\n",
       "      <td>1283.0</td>\n",
       "      <td>371.0</td>\n",
       "      <td>3329.0</td>\n",
       "      <td>193.0</td>\n",
       "      <td>Solam Susent</td>\n",
       "      <td>False</td>\n",
       "    </tr>\n",
       "    <tr>\n",
       "      <th>4</th>\n",
       "      <td>0004_01</td>\n",
       "      <td>Earth</td>\n",
       "      <td>False</td>\n",
       "      <td>F/1/S</td>\n",
       "      <td>TRAPPIST-1e</td>\n",
       "      <td>16.0</td>\n",
       "      <td>False</td>\n",
       "      <td>303.0</td>\n",
       "      <td>70.0</td>\n",
       "      <td>151.0</td>\n",
       "      <td>565.0</td>\n",
       "      <td>2.0</td>\n",
       "      <td>Willy Santantines</td>\n",
       "      <td>True</td>\n",
       "    </tr>\n",
       "    <tr>\n",
       "      <th>...</th>\n",
       "      <td>...</td>\n",
       "      <td>...</td>\n",
       "      <td>...</td>\n",
       "      <td>...</td>\n",
       "      <td>...</td>\n",
       "      <td>...</td>\n",
       "      <td>...</td>\n",
       "      <td>...</td>\n",
       "      <td>...</td>\n",
       "      <td>...</td>\n",
       "      <td>...</td>\n",
       "      <td>...</td>\n",
       "      <td>...</td>\n",
       "      <td>...</td>\n",
       "    </tr>\n",
       "    <tr>\n",
       "      <th>8688</th>\n",
       "      <td>9276_01</td>\n",
       "      <td>Europa</td>\n",
       "      <td>False</td>\n",
       "      <td>A/98/P</td>\n",
       "      <td>55 Cancri e</td>\n",
       "      <td>41.0</td>\n",
       "      <td>True</td>\n",
       "      <td>0.0</td>\n",
       "      <td>6819.0</td>\n",
       "      <td>0.0</td>\n",
       "      <td>1643.0</td>\n",
       "      <td>74.0</td>\n",
       "      <td>Gravior Noxnuther</td>\n",
       "      <td>False</td>\n",
       "    </tr>\n",
       "    <tr>\n",
       "      <th>8689</th>\n",
       "      <td>9278_01</td>\n",
       "      <td>Earth</td>\n",
       "      <td>True</td>\n",
       "      <td>G/1499/S</td>\n",
       "      <td>PSO J318.5-22</td>\n",
       "      <td>18.0</td>\n",
       "      <td>False</td>\n",
       "      <td>0.0</td>\n",
       "      <td>0.0</td>\n",
       "      <td>0.0</td>\n",
       "      <td>0.0</td>\n",
       "      <td>0.0</td>\n",
       "      <td>Kurta Mondalley</td>\n",
       "      <td>False</td>\n",
       "    </tr>\n",
       "    <tr>\n",
       "      <th>8690</th>\n",
       "      <td>9279_01</td>\n",
       "      <td>Earth</td>\n",
       "      <td>False</td>\n",
       "      <td>G/1500/S</td>\n",
       "      <td>TRAPPIST-1e</td>\n",
       "      <td>26.0</td>\n",
       "      <td>False</td>\n",
       "      <td>0.0</td>\n",
       "      <td>0.0</td>\n",
       "      <td>1872.0</td>\n",
       "      <td>1.0</td>\n",
       "      <td>0.0</td>\n",
       "      <td>Fayey Connon</td>\n",
       "      <td>True</td>\n",
       "    </tr>\n",
       "    <tr>\n",
       "      <th>8691</th>\n",
       "      <td>9280_01</td>\n",
       "      <td>Europa</td>\n",
       "      <td>False</td>\n",
       "      <td>E/608/S</td>\n",
       "      <td>55 Cancri e</td>\n",
       "      <td>32.0</td>\n",
       "      <td>False</td>\n",
       "      <td>0.0</td>\n",
       "      <td>1049.0</td>\n",
       "      <td>0.0</td>\n",
       "      <td>353.0</td>\n",
       "      <td>3235.0</td>\n",
       "      <td>Celeon Hontichre</td>\n",
       "      <td>False</td>\n",
       "    </tr>\n",
       "    <tr>\n",
       "      <th>8692</th>\n",
       "      <td>9280_02</td>\n",
       "      <td>Europa</td>\n",
       "      <td>False</td>\n",
       "      <td>E/608/S</td>\n",
       "      <td>TRAPPIST-1e</td>\n",
       "      <td>44.0</td>\n",
       "      <td>False</td>\n",
       "      <td>126.0</td>\n",
       "      <td>4688.0</td>\n",
       "      <td>0.0</td>\n",
       "      <td>0.0</td>\n",
       "      <td>12.0</td>\n",
       "      <td>Propsh Hontichre</td>\n",
       "      <td>True</td>\n",
       "    </tr>\n",
       "  </tbody>\n",
       "</table>\n",
       "<p>8693 rows × 14 columns</p>\n",
       "</div>"
      ],
      "text/plain": [
       "     PassengerId HomePlanet CryoSleep     Cabin    Destination   Age    VIP  \\\n",
       "0        0001_01     Europa     False     B/0/P    TRAPPIST-1e  39.0  False   \n",
       "1        0002_01      Earth     False     F/0/S    TRAPPIST-1e  24.0  False   \n",
       "2        0003_01     Europa     False     A/0/S    TRAPPIST-1e  58.0   True   \n",
       "3        0003_02     Europa     False     A/0/S    TRAPPIST-1e  33.0  False   \n",
       "4        0004_01      Earth     False     F/1/S    TRAPPIST-1e  16.0  False   \n",
       "...          ...        ...       ...       ...            ...   ...    ...   \n",
       "8688     9276_01     Europa     False    A/98/P    55 Cancri e  41.0   True   \n",
       "8689     9278_01      Earth      True  G/1499/S  PSO J318.5-22  18.0  False   \n",
       "8690     9279_01      Earth     False  G/1500/S    TRAPPIST-1e  26.0  False   \n",
       "8691     9280_01     Europa     False   E/608/S    55 Cancri e  32.0  False   \n",
       "8692     9280_02     Europa     False   E/608/S    TRAPPIST-1e  44.0  False   \n",
       "\n",
       "      RoomService  FoodCourt  ShoppingMall     Spa  VRDeck               Name  \\\n",
       "0             0.0        0.0           0.0     0.0     0.0    Maham Ofracculy   \n",
       "1           109.0        9.0          25.0   549.0    44.0       Juanna Vines   \n",
       "2            43.0     3576.0           0.0  6715.0    49.0      Altark Susent   \n",
       "3             0.0     1283.0         371.0  3329.0   193.0       Solam Susent   \n",
       "4           303.0       70.0         151.0   565.0     2.0  Willy Santantines   \n",
       "...           ...        ...           ...     ...     ...                ...   \n",
       "8688          0.0     6819.0           0.0  1643.0    74.0  Gravior Noxnuther   \n",
       "8689          0.0        0.0           0.0     0.0     0.0    Kurta Mondalley   \n",
       "8690          0.0        0.0        1872.0     1.0     0.0       Fayey Connon   \n",
       "8691          0.0     1049.0           0.0   353.0  3235.0   Celeon Hontichre   \n",
       "8692        126.0     4688.0           0.0     0.0    12.0   Propsh Hontichre   \n",
       "\n",
       "      Transported  \n",
       "0           False  \n",
       "1            True  \n",
       "2           False  \n",
       "3           False  \n",
       "4            True  \n",
       "...           ...  \n",
       "8688        False  \n",
       "8689        False  \n",
       "8690         True  \n",
       "8691        False  \n",
       "8692         True  \n",
       "\n",
       "[8693 rows x 14 columns]"
      ]
     },
     "execution_count": 4,
     "metadata": {},
     "output_type": "execute_result"
    }
   ],
   "source": [
    "df"
   ]
  },
  {
   "cell_type": "code",
   "execution_count": 5,
   "id": "8d1c418e",
   "metadata": {},
   "outputs": [
    {
     "name": "stdout",
     "output_type": "stream",
     "text": [
      "<class 'pandas.core.frame.DataFrame'>\n",
      "RangeIndex: 8693 entries, 0 to 8692\n",
      "Data columns (total 14 columns):\n",
      " #   Column        Non-Null Count  Dtype  \n",
      "---  ------        --------------  -----  \n",
      " 0   PassengerId   8693 non-null   object \n",
      " 1   HomePlanet    8492 non-null   object \n",
      " 2   CryoSleep     8476 non-null   object \n",
      " 3   Cabin         8494 non-null   object \n",
      " 4   Destination   8511 non-null   object \n",
      " 5   Age           8514 non-null   float64\n",
      " 6   VIP           8490 non-null   object \n",
      " 7   RoomService   8512 non-null   float64\n",
      " 8   FoodCourt     8510 non-null   float64\n",
      " 9   ShoppingMall  8485 non-null   float64\n",
      " 10  Spa           8510 non-null   float64\n",
      " 11  VRDeck        8505 non-null   float64\n",
      " 12  Name          8493 non-null   object \n",
      " 13  Transported   8693 non-null   bool   \n",
      "dtypes: bool(1), float64(6), object(7)\n",
      "memory usage: 891.5+ KB\n"
     ]
    }
   ],
   "source": [
    "df.info()"
   ]
  },
  {
   "cell_type": "code",
   "execution_count": 6,
   "id": "d5154800",
   "metadata": {},
   "outputs": [
    {
     "data": {
      "text/plain": [
       "PassengerId       0\n",
       "HomePlanet      201\n",
       "CryoSleep       217\n",
       "Cabin           199\n",
       "Destination     182\n",
       "Age             179\n",
       "VIP             203\n",
       "RoomService     181\n",
       "FoodCourt       183\n",
       "ShoppingMall    208\n",
       "Spa             183\n",
       "VRDeck          188\n",
       "Name            200\n",
       "Transported       0\n",
       "dtype: int64"
      ]
     },
     "execution_count": 6,
     "metadata": {},
     "output_type": "execute_result"
    }
   ],
   "source": [
    "df.isnull().sum()"
   ]
  },
  {
   "cell_type": "markdown",
   "id": "24b04f23",
   "metadata": {},
   "source": [
    "## Целевая переменная"
   ]
  },
  {
   "cell_type": "code",
   "execution_count": 7,
   "id": "3bb8fec3",
   "metadata": {},
   "outputs": [
    {
     "data": {
      "image/png": "[encoded data removed]",
      "text/plain": [
       "<Figure size 1296x576 with 2 Axes>"
      ]
     },
     "metadata": {
      "needs_background": "light"
     },
     "output_type": "display_data"
    }
   ],
   "source": [
    "f,ax=plt.subplots(1,2,figsize=(18,8))\n",
    "df['Transported'].value_counts().plot.pie(explode=[0,0.1],autopct='%1.1f%%',ax=ax[0],shadow=True)\n",
    "ax[0].set_title('Transported')\n",
    "ax[0].set_ylabel('')\n",
    "sns.countplot('Transported',data=df,ax=ax[1])\n",
    "ax[1].set_title('Transported')\n",
    "plt.show()"
   ]
  },
  {
   "cell_type": "code",
   "execution_count": 8,
   "id": "15dc6ec5",
   "metadata": {},
   "outputs": [],
   "source": [
    "df['Transported'] = df['Transported'].replace(True, 1)\n",
    "df['Transported'] = df['Transported'].replace(False, 0)"
   ]
  },
  {
   "cell_type": "markdown",
   "id": "a1b207ac",
   "metadata": {},
   "source": [
    "## Поле PassengerId"
   ]
  },
  {
   "cell_type": "code",
   "execution_count": 9,
   "id": "5b53fb99",
   "metadata": {},
   "outputs": [],
   "source": [
    "df[['Group', 'Number']] = df['PassengerId'].str.split('_', expand=True).astype('int')"
   ]
  },
  {
   "cell_type": "code",
   "execution_count": 10,
   "id": "1fe27e09",
   "metadata": {},
   "outputs": [],
   "source": [
    "df = df.reindex(columns=['Group', 'Number', 'HomePlanet', 'CryoSleep', 'Cabin', 'Destination', 'Age',\n",
    "       'VIP', 'RoomService', 'FoodCourt', 'ShoppingMall', 'Spa', 'VRDeck',\n",
    "       'Name', 'Transported'])"
   ]
  },
  {
   "cell_type": "code",
   "execution_count": 11,
   "id": "9eef96f5",
   "metadata": {},
   "outputs": [],
   "source": [
    "dT[['Group', 'Number']] = dT['PassengerId'].str.split('_', expand=True).astype('int')"
   ]
  },
  {
   "cell_type": "markdown",
   "id": "be73e980",
   "metadata": {},
   "source": [
    "## HomePlanet"
   ]
  },
  {
   "cell_type": "code",
   "execution_count": 12,
   "id": "53ca36a4",
   "metadata": {},
   "outputs": [
    {
     "data": {
      "text/plain": [
       "array(['Europa', 'Earth', 'Mars', nan], dtype=object)"
      ]
     },
     "execution_count": 12,
     "metadata": {},
     "output_type": "execute_result"
    }
   ],
   "source": [
    "df.HomePlanet.unique()"
   ]
  },
  {
   "cell_type": "code",
   "execution_count": 13,
   "id": "0212d45f",
   "metadata": {},
   "outputs": [
    {
     "data": {
      "text/plain": [
       "Earth     4602\n",
       "Europa    2131\n",
       "Mars      1759\n",
       "Name: HomePlanet, dtype: int64"
      ]
     },
     "execution_count": 13,
     "metadata": {},
     "output_type": "execute_result"
    }
   ],
   "source": [
    "df.HomePlanet.value_counts()"
   ]
  },
  {
   "cell_type": "code",
   "execution_count": 14,
   "id": "fc3e7d36",
   "metadata": {},
   "outputs": [
    {
     "data": {
      "text/plain": [
       "HomePlanet  Transported\n",
       "Earth       0              2651\n",
       "            1              1951\n",
       "Europa      0               727\n",
       "            1              1404\n",
       "Mars        0               839\n",
       "            1               920\n",
       "Name: HomePlanet, dtype: int64"
      ]
     },
     "execution_count": 14,
     "metadata": {},
     "output_type": "execute_result"
    }
   ],
   "source": [
    "df.groupby(['HomePlanet','Transported'])['HomePlanet'].count()"
   ]
  },
  {
   "cell_type": "code",
   "execution_count": 15,
   "id": "d1b1d975",
   "metadata": {},
   "outputs": [
    {
     "data": {
      "text/plain": [
       "1    103\n",
       "0     98\n",
       "Name: Transported, dtype: int64"
      ]
     },
     "execution_count": 15,
     "metadata": {},
     "output_type": "execute_result"
    }
   ],
   "source": [
    "df[df.HomePlanet.isnull()].Transported.value_counts()"
   ]
  },
  {
   "cell_type": "markdown",
   "id": "e4697778",
   "metadata": {},
   "source": [
    "###  Будем считать, что NaN = Mars, и заменим все значения на числа"
   ]
  },
  {
   "cell_type": "code",
   "execution_count": 16,
   "id": "8fb47f90",
   "metadata": {},
   "outputs": [],
   "source": [
    "df['HomePlanet'] = df['HomePlanet'].replace('Earth', 1)\n",
    "df['HomePlanet'] = df['HomePlanet'].replace('Europa', 2)\n",
    "df['HomePlanet'] = df['HomePlanet'].replace('Mars', 3)"
   ]
  },
  {
   "cell_type": "code",
   "execution_count": 17,
   "id": "f487c2e7",
   "metadata": {},
   "outputs": [],
   "source": [
    "df.loc[(df.HomePlanet.isnull()),'HomePlanet']=3"
   ]
  },
  {
   "cell_type": "code",
   "execution_count": 18,
   "id": "e8beaf45",
   "metadata": {},
   "outputs": [
    {
     "data": {
      "text/plain": [
       "False"
      ]
     },
     "execution_count": 18,
     "metadata": {},
     "output_type": "execute_result"
    }
   ],
   "source": [
    "df.HomePlanet.isnull().any()"
   ]
  },
  {
   "cell_type": "code",
   "execution_count": 19,
   "id": "6521c4d5",
   "metadata": {},
   "outputs": [],
   "source": [
    "dT['HomePlanet'] = dT['HomePlanet'].replace('Earth', 1)\n",
    "dT['HomePlanet'] = dT['HomePlanet'].replace('Europa', 2)\n",
    "dT['HomePlanet'] = dT['HomePlanet'].replace('Mars', 3)"
   ]
  },
  {
   "cell_type": "code",
   "execution_count": 20,
   "id": "69f15918",
   "metadata": {},
   "outputs": [],
   "source": [
    "dT.loc[(dT.HomePlanet.isnull()),'HomePlanet']=3"
   ]
  },
  {
   "cell_type": "code",
   "execution_count": 21,
   "id": "be6bbcb4",
   "metadata": {},
   "outputs": [
    {
     "data": {
      "text/plain": [
       "False"
      ]
     },
     "execution_count": 21,
     "metadata": {},
     "output_type": "execute_result"
    }
   ],
   "source": [
    "dT.HomePlanet.isnull().any()"
   ]
  },
  {
   "cell_type": "markdown",
   "id": "9d3e5eac",
   "metadata": {},
   "source": [
    "## CryoSleep\t"
   ]
  },
  {
   "cell_type": "code",
   "execution_count": 22,
   "id": "4f5b0ec8",
   "metadata": {},
   "outputs": [
    {
     "data": {
      "text/plain": [
       "array([False, True, nan], dtype=object)"
      ]
     },
     "execution_count": 22,
     "metadata": {},
     "output_type": "execute_result"
    }
   ],
   "source": [
    "df.CryoSleep.unique()"
   ]
  },
  {
   "cell_type": "code",
   "execution_count": 23,
   "id": "4c0e2146",
   "metadata": {},
   "outputs": [],
   "source": [
    "df['CryoSleep'] = df['CryoSleep'].replace(False, 0)\n",
    "df['CryoSleep'] = df['CryoSleep'].replace(True, 1)"
   ]
  },
  {
   "cell_type": "code",
   "execution_count": 24,
   "id": "07f43d80",
   "metadata": {},
   "outputs": [],
   "source": [
    "dT['CryoSleep'] = dT['CryoSleep'].replace(False, 0)\n",
    "dT['CryoSleep'] = dT['CryoSleep'].replace(True, 1)"
   ]
  },
  {
   "cell_type": "code",
   "execution_count": 25,
   "id": "f878d503",
   "metadata": {},
   "outputs": [
    {
     "data": {
      "text/plain": [
       "0.0    5439\n",
       "1.0    3037\n",
       "Name: CryoSleep, dtype: int64"
      ]
     },
     "execution_count": 25,
     "metadata": {},
     "output_type": "execute_result"
    }
   ],
   "source": [
    "df.CryoSleep.value_counts()"
   ]
  },
  {
   "cell_type": "code",
   "execution_count": 26,
   "id": "f01f462a",
   "metadata": {},
   "outputs": [
    {
     "data": {
      "text/plain": [
       "CryoSleep  Transported\n",
       "0.0        0              3650\n",
       "           1              1789\n",
       "1.0        0               554\n",
       "           1              2483\n",
       "Name: CryoSleep, dtype: int64"
      ]
     },
     "execution_count": 26,
     "metadata": {},
     "output_type": "execute_result"
    }
   ],
   "source": [
    "df.groupby(['CryoSleep','Transported'])['CryoSleep'].count()"
   ]
  },
  {
   "cell_type": "code",
   "execution_count": 27,
   "id": "d4891f8b",
   "metadata": {},
   "outputs": [
    {
     "data": {
      "text/plain": [
       "0    111\n",
       "1    106\n",
       "Name: Transported, dtype: int64"
      ]
     },
     "execution_count": 27,
     "metadata": {},
     "output_type": "execute_result"
    }
   ],
   "source": [
    "df[df.CryoSleep.isnull()].Transported.value_counts()"
   ]
  },
  {
   "cell_type": "code",
   "execution_count": 28,
   "id": "0def3e0b",
   "metadata": {},
   "outputs": [],
   "source": [
    "df.loc[(df.CryoSleep.isnull())&(df.RoomService==0.0)&(df.FoodCourt==0.0)&(df.ShoppingMall==0.0)&(df.Spa==0.0)&(df.VRDeck==0.0),'CryoSleep']=1"
   ]
  },
  {
   "cell_type": "code",
   "execution_count": 29,
   "id": "be378fdf",
   "metadata": {},
   "outputs": [],
   "source": [
    "df.loc[(df.CryoSleep.isnull()),'CryoSleep']=0"
   ]
  },
  {
   "cell_type": "code",
   "execution_count": 30,
   "id": "1375b7d1",
   "metadata": {},
   "outputs": [
    {
     "data": {
      "text/plain": [
       "False"
      ]
     },
     "execution_count": 30,
     "metadata": {},
     "output_type": "execute_result"
    }
   ],
   "source": [
    "df.CryoSleep.isnull().any()"
   ]
  },
  {
   "cell_type": "code",
   "execution_count": 31,
   "id": "fae0517e",
   "metadata": {},
   "outputs": [],
   "source": [
    "dT.loc[(dT.CryoSleep.isnull())&(dT.RoomService==0.0)&(dT.FoodCourt==0.0)&(dT.ShoppingMall==0.0)&(dT.Spa==0.0)&(dT.VRDeck==0.0),'CryoSleep']=1"
   ]
  },
  {
   "cell_type": "code",
   "execution_count": 32,
   "id": "f4304b44",
   "metadata": {},
   "outputs": [],
   "source": [
    "dT.loc[(dT.CryoSleep.isnull()),'CryoSleep']=0"
   ]
  },
  {
   "cell_type": "code",
   "execution_count": 33,
   "id": "dab4f8bd",
   "metadata": {},
   "outputs": [
    {
     "data": {
      "text/plain": [
       "False"
      ]
     },
     "execution_count": 33,
     "metadata": {},
     "output_type": "execute_result"
    }
   ],
   "source": [
    "dT.CryoSleep.isnull().any()"
   ]
  },
  {
   "cell_type": "markdown",
   "id": "dfe7179a",
   "metadata": {},
   "source": [
    "## Cabin -> Deck, Cab_num, Side"
   ]
  },
  {
   "cell_type": "code",
   "execution_count": 34,
   "id": "a4e7215d",
   "metadata": {},
   "outputs": [
    {
     "data": {
      "text/plain": [
       "array(['B/0/P', 'F/0/S', 'A/0/S', ..., 'G/1499/S', 'G/1500/S', 'E/608/S'],\n",
       "      dtype=object)"
      ]
     },
     "execution_count": 34,
     "metadata": {},
     "output_type": "execute_result"
    }
   ],
   "source": [
    "df.Cabin.unique()"
   ]
  },
  {
   "cell_type": "code",
   "execution_count": 35,
   "id": "e2cbe3b0",
   "metadata": {},
   "outputs": [],
   "source": [
    "df[['Deck', 'Cab_num','Side']] = df['Cabin'].str.split('/', expand=True)"
   ]
  },
  {
   "cell_type": "code",
   "execution_count": 36,
   "id": "09a470e0",
   "metadata": {},
   "outputs": [],
   "source": [
    "dT[['Deck', 'Cab_num','Side']] = dT['Cabin'].str.split('/', expand=True)"
   ]
  },
  {
   "cell_type": "code",
   "execution_count": 37,
   "id": "0a0ab63e",
   "metadata": {},
   "outputs": [],
   "source": [
    "df = df.reindex(columns=['Group', 'Number', 'HomePlanet', 'CryoSleep', 'Deck', 'Cab_num','Side', 'Destination', 'Age',\n",
    "       'VIP', 'RoomService', 'FoodCourt', 'ShoppingMall', 'Spa', 'VRDeck',\n",
    "       'Name', 'Transported'])"
   ]
  },
  {
   "cell_type": "code",
   "execution_count": 38,
   "id": "262ee9a5",
   "metadata": {},
   "outputs": [],
   "source": [
    "dT = dT.reindex(columns=['Group', 'Number', 'HomePlanet', 'CryoSleep', 'Deck', 'Cab_num','Side', 'Destination', 'Age',\n",
    "       'VIP', 'RoomService', 'FoodCourt', 'ShoppingMall', 'Spa', 'VRDeck',\n",
    "       'Name'])"
   ]
  },
  {
   "cell_type": "code",
   "execution_count": 39,
   "id": "e6c326c1",
   "metadata": {},
   "outputs": [
    {
     "data": {
      "text/plain": [
       "array(['B', 'F', 'A', 'G', nan, 'E', 'D', 'C', 'T'], dtype=object)"
      ]
     },
     "execution_count": 39,
     "metadata": {},
     "output_type": "execute_result"
    }
   ],
   "source": [
    "df.Deck.unique()"
   ]
  },
  {
   "cell_type": "code",
   "execution_count": 40,
   "id": "21428ab5",
   "metadata": {},
   "outputs": [],
   "source": [
    "df['Deck'] = df['Deck'].replace('A', 1)\n",
    "df['Deck'] = df['Deck'].replace('B', 2)\n",
    "df['Deck'] = df['Deck'].replace('C', 3)\n",
    "df['Deck'] = df['Deck'].replace('D', 4)\n",
    "df['Deck'] = df['Deck'].replace('E', 5)\n",
    "df['Deck'] = df['Deck'].replace('F', 6)\n",
    "df['Deck'] = df['Deck'].replace('G', 7)\n",
    "df['Deck'] = df['Deck'].replace('T', 8)"
   ]
  },
  {
   "cell_type": "code",
   "execution_count": 41,
   "id": "6e1814b6",
   "metadata": {},
   "outputs": [],
   "source": [
    "dT['Deck'] = dT['Deck'].replace('A', 1)\n",
    "dT['Deck'] = dT['Deck'].replace('B', 2)\n",
    "dT['Deck'] = dT['Deck'].replace('C', 3)\n",
    "dT['Deck'] = dT['Deck'].replace('D', 4)\n",
    "dT['Deck'] = dT['Deck'].replace('E', 5)\n",
    "dT['Deck'] = dT['Deck'].replace('F', 6)\n",
    "dT['Deck'] = dT['Deck'].replace('G', 7)\n",
    "dT['Deck'] = dT['Deck'].replace('T', 8)"
   ]
  },
  {
   "cell_type": "code",
   "execution_count": 42,
   "id": "19ff6d1f",
   "metadata": {},
   "outputs": [],
   "source": [
    "df['Side'] = df['Side'].replace('P', 1)\n",
    "df['Side'] = df['Side'].replace('S', 2)"
   ]
  },
  {
   "cell_type": "code",
   "execution_count": 43,
   "id": "de2caaaa",
   "metadata": {},
   "outputs": [],
   "source": [
    "dT['Side'] = dT['Side'].replace('P', 1)\n",
    "dT['Side'] = dT['Side'].replace('S', 2)"
   ]
  },
  {
   "cell_type": "code",
   "execution_count": 44,
   "id": "72768187",
   "metadata": {},
   "outputs": [
    {
     "data": {
      "text/html": [
       "<div>\n",
       "<style scoped>\n",
       "    .dataframe tbody tr th:only-of-type {\n",
       "        vertical-align: middle;\n",
       "    }\n",
       "\n",
       "    .dataframe tbody tr th {\n",
       "        vertical-align: top;\n",
       "    }\n",
       "\n",
       "    .dataframe thead th {\n",
       "        text-align: right;\n",
       "    }\n",
       "</style>\n",
       "<table border=\"1\" class=\"dataframe\">\n",
       "  <thead>\n",
       "    <tr style=\"text-align: right;\">\n",
       "      <th></th>\n",
       "      <th>Group</th>\n",
       "      <th>Number</th>\n",
       "      <th>HomePlanet</th>\n",
       "      <th>CryoSleep</th>\n",
       "      <th>Deck</th>\n",
       "      <th>Cab_num</th>\n",
       "      <th>Side</th>\n",
       "      <th>Destination</th>\n",
       "      <th>Age</th>\n",
       "      <th>VIP</th>\n",
       "      <th>RoomService</th>\n",
       "      <th>FoodCourt</th>\n",
       "      <th>ShoppingMall</th>\n",
       "      <th>Spa</th>\n",
       "      <th>VRDeck</th>\n",
       "      <th>Name</th>\n",
       "      <th>Transported</th>\n",
       "    </tr>\n",
       "  </thead>\n",
       "  <tbody>\n",
       "    <tr>\n",
       "      <th>0</th>\n",
       "      <td>1</td>\n",
       "      <td>1</td>\n",
       "      <td>2.0</td>\n",
       "      <td>0.0</td>\n",
       "      <td>2.0</td>\n",
       "      <td>0</td>\n",
       "      <td>1.0</td>\n",
       "      <td>TRAPPIST-1e</td>\n",
       "      <td>39.0</td>\n",
       "      <td>False</td>\n",
       "      <td>0.0</td>\n",
       "      <td>0.0</td>\n",
       "      <td>0.0</td>\n",
       "      <td>0.0</td>\n",
       "      <td>0.0</td>\n",
       "      <td>Maham Ofracculy</td>\n",
       "      <td>0</td>\n",
       "    </tr>\n",
       "    <tr>\n",
       "      <th>1</th>\n",
       "      <td>2</td>\n",
       "      <td>1</td>\n",
       "      <td>1.0</td>\n",
       "      <td>0.0</td>\n",
       "      <td>6.0</td>\n",
       "      <td>0</td>\n",
       "      <td>2.0</td>\n",
       "      <td>TRAPPIST-1e</td>\n",
       "      <td>24.0</td>\n",
       "      <td>False</td>\n",
       "      <td>109.0</td>\n",
       "      <td>9.0</td>\n",
       "      <td>25.0</td>\n",
       "      <td>549.0</td>\n",
       "      <td>44.0</td>\n",
       "      <td>Juanna Vines</td>\n",
       "      <td>1</td>\n",
       "    </tr>\n",
       "    <tr>\n",
       "      <th>2</th>\n",
       "      <td>3</td>\n",
       "      <td>1</td>\n",
       "      <td>2.0</td>\n",
       "      <td>0.0</td>\n",
       "      <td>1.0</td>\n",
       "      <td>0</td>\n",
       "      <td>2.0</td>\n",
       "      <td>TRAPPIST-1e</td>\n",
       "      <td>58.0</td>\n",
       "      <td>True</td>\n",
       "      <td>43.0</td>\n",
       "      <td>3576.0</td>\n",
       "      <td>0.0</td>\n",
       "      <td>6715.0</td>\n",
       "      <td>49.0</td>\n",
       "      <td>Altark Susent</td>\n",
       "      <td>0</td>\n",
       "    </tr>\n",
       "    <tr>\n",
       "      <th>3</th>\n",
       "      <td>3</td>\n",
       "      <td>2</td>\n",
       "      <td>2.0</td>\n",
       "      <td>0.0</td>\n",
       "      <td>1.0</td>\n",
       "      <td>0</td>\n",
       "      <td>2.0</td>\n",
       "      <td>TRAPPIST-1e</td>\n",
       "      <td>33.0</td>\n",
       "      <td>False</td>\n",
       "      <td>0.0</td>\n",
       "      <td>1283.0</td>\n",
       "      <td>371.0</td>\n",
       "      <td>3329.0</td>\n",
       "      <td>193.0</td>\n",
       "      <td>Solam Susent</td>\n",
       "      <td>0</td>\n",
       "    </tr>\n",
       "    <tr>\n",
       "      <th>4</th>\n",
       "      <td>4</td>\n",
       "      <td>1</td>\n",
       "      <td>1.0</td>\n",
       "      <td>0.0</td>\n",
       "      <td>6.0</td>\n",
       "      <td>1</td>\n",
       "      <td>2.0</td>\n",
       "      <td>TRAPPIST-1e</td>\n",
       "      <td>16.0</td>\n",
       "      <td>False</td>\n",
       "      <td>303.0</td>\n",
       "      <td>70.0</td>\n",
       "      <td>151.0</td>\n",
       "      <td>565.0</td>\n",
       "      <td>2.0</td>\n",
       "      <td>Willy Santantines</td>\n",
       "      <td>1</td>\n",
       "    </tr>\n",
       "    <tr>\n",
       "      <th>...</th>\n",
       "      <td>...</td>\n",
       "      <td>...</td>\n",
       "      <td>...</td>\n",
       "      <td>...</td>\n",
       "      <td>...</td>\n",
       "      <td>...</td>\n",
       "      <td>...</td>\n",
       "      <td>...</td>\n",
       "      <td>...</td>\n",
       "      <td>...</td>\n",
       "      <td>...</td>\n",
       "      <td>...</td>\n",
       "      <td>...</td>\n",
       "      <td>...</td>\n",
       "      <td>...</td>\n",
       "      <td>...</td>\n",
       "      <td>...</td>\n",
       "    </tr>\n",
       "    <tr>\n",
       "      <th>8688</th>\n",
       "      <td>9276</td>\n",
       "      <td>1</td>\n",
       "      <td>2.0</td>\n",
       "      <td>0.0</td>\n",
       "      <td>1.0</td>\n",
       "      <td>98</td>\n",
       "      <td>1.0</td>\n",
       "      <td>55 Cancri e</td>\n",
       "      <td>41.0</td>\n",
       "      <td>True</td>\n",
       "      <td>0.0</td>\n",
       "      <td>6819.0</td>\n",
       "      <td>0.0</td>\n",
       "      <td>1643.0</td>\n",
       "      <td>74.0</td>\n",
       "      <td>Gravior Noxnuther</td>\n",
       "      <td>0</td>\n",
       "    </tr>\n",
       "    <tr>\n",
       "      <th>8689</th>\n",
       "      <td>9278</td>\n",
       "      <td>1</td>\n",
       "      <td>1.0</td>\n",
       "      <td>1.0</td>\n",
       "      <td>7.0</td>\n",
       "      <td>1499</td>\n",
       "      <td>2.0</td>\n",
       "      <td>PSO J318.5-22</td>\n",
       "      <td>18.0</td>\n",
       "      <td>False</td>\n",
       "      <td>0.0</td>\n",
       "      <td>0.0</td>\n",
       "      <td>0.0</td>\n",
       "      <td>0.0</td>\n",
       "      <td>0.0</td>\n",
       "      <td>Kurta Mondalley</td>\n",
       "      <td>0</td>\n",
       "    </tr>\n",
       "    <tr>\n",
       "      <th>8690</th>\n",
       "      <td>9279</td>\n",
       "      <td>1</td>\n",
       "      <td>1.0</td>\n",
       "      <td>0.0</td>\n",
       "      <td>7.0</td>\n",
       "      <td>1500</td>\n",
       "      <td>2.0</td>\n",
       "      <td>TRAPPIST-1e</td>\n",
       "      <td>26.0</td>\n",
       "      <td>False</td>\n",
       "      <td>0.0</td>\n",
       "      <td>0.0</td>\n",
       "      <td>1872.0</td>\n",
       "      <td>1.0</td>\n",
       "      <td>0.0</td>\n",
       "      <td>Fayey Connon</td>\n",
       "      <td>1</td>\n",
       "    </tr>\n",
       "    <tr>\n",
       "      <th>8691</th>\n",
       "      <td>9280</td>\n",
       "      <td>1</td>\n",
       "      <td>2.0</td>\n",
       "      <td>0.0</td>\n",
       "      <td>5.0</td>\n",
       "      <td>608</td>\n",
       "      <td>2.0</td>\n",
       "      <td>55 Cancri e</td>\n",
       "      <td>32.0</td>\n",
       "      <td>False</td>\n",
       "      <td>0.0</td>\n",
       "      <td>1049.0</td>\n",
       "      <td>0.0</td>\n",
       "      <td>353.0</td>\n",
       "      <td>3235.0</td>\n",
       "      <td>Celeon Hontichre</td>\n",
       "      <td>0</td>\n",
       "    </tr>\n",
       "    <tr>\n",
       "      <th>8692</th>\n",
       "      <td>9280</td>\n",
       "      <td>2</td>\n",
       "      <td>2.0</td>\n",
       "      <td>0.0</td>\n",
       "      <td>5.0</td>\n",
       "      <td>608</td>\n",
       "      <td>2.0</td>\n",
       "      <td>TRAPPIST-1e</td>\n",
       "      <td>44.0</td>\n",
       "      <td>False</td>\n",
       "      <td>126.0</td>\n",
       "      <td>4688.0</td>\n",
       "      <td>0.0</td>\n",
       "      <td>0.0</td>\n",
       "      <td>12.0</td>\n",
       "      <td>Propsh Hontichre</td>\n",
       "      <td>1</td>\n",
       "    </tr>\n",
       "  </tbody>\n",
       "</table>\n",
       "<p>8693 rows × 17 columns</p>\n",
       "</div>"
      ],
      "text/plain": [
       "      Group  Number  HomePlanet  CryoSleep  Deck Cab_num  Side    Destination  \\\n",
       "0         1       1         2.0        0.0   2.0       0   1.0    TRAPPIST-1e   \n",
       "1         2       1         1.0        0.0   6.0       0   2.0    TRAPPIST-1e   \n",
       "2         3       1         2.0        0.0   1.0       0   2.0    TRAPPIST-1e   \n",
       "3         3       2         2.0        0.0   1.0       0   2.0    TRAPPIST-1e   \n",
       "4         4       1         1.0        0.0   6.0       1   2.0    TRAPPIST-1e   \n",
       "...     ...     ...         ...        ...   ...     ...   ...            ...   \n",
       "8688   9276       1         2.0        0.0   1.0      98   1.0    55 Cancri e   \n",
       "8689   9278       1         1.0        1.0   7.0    1499   2.0  PSO J318.5-22   \n",
       "8690   9279       1         1.0        0.0   7.0    1500   2.0    TRAPPIST-1e   \n",
       "8691   9280       1         2.0        0.0   5.0     608   2.0    55 Cancri e   \n",
       "8692   9280       2         2.0        0.0   5.0     608   2.0    TRAPPIST-1e   \n",
       "\n",
       "       Age    VIP  RoomService  FoodCourt  ShoppingMall     Spa  VRDeck  \\\n",
       "0     39.0  False          0.0        0.0           0.0     0.0     0.0   \n",
       "1     24.0  False        109.0        9.0          25.0   549.0    44.0   \n",
       "2     58.0   True         43.0     3576.0           0.0  6715.0    49.0   \n",
       "3     33.0  False          0.0     1283.0         371.0  3329.0   193.0   \n",
       "4     16.0  False        303.0       70.0         151.0   565.0     2.0   \n",
       "...    ...    ...          ...        ...           ...     ...     ...   \n",
       "8688  41.0   True          0.0     6819.0           0.0  1643.0    74.0   \n",
       "8689  18.0  False          0.0        0.0           0.0     0.0     0.0   \n",
       "8690  26.0  False          0.0        0.0        1872.0     1.0     0.0   \n",
       "8691  32.0  False          0.0     1049.0           0.0   353.0  3235.0   \n",
       "8692  44.0  False        126.0     4688.0           0.0     0.0    12.0   \n",
       "\n",
       "                   Name  Transported  \n",
       "0       Maham Ofracculy            0  \n",
       "1          Juanna Vines            1  \n",
       "2         Altark Susent            0  \n",
       "3          Solam Susent            0  \n",
       "4     Willy Santantines            1  \n",
       "...                 ...          ...  \n",
       "8688  Gravior Noxnuther            0  \n",
       "8689    Kurta Mondalley            0  \n",
       "8690       Fayey Connon            1  \n",
       "8691   Celeon Hontichre            0  \n",
       "8692   Propsh Hontichre            1  \n",
       "\n",
       "[8693 rows x 17 columns]"
      ]
     },
     "execution_count": 44,
     "metadata": {},
     "output_type": "execute_result"
    }
   ],
   "source": [
    "df"
   ]
  },
  {
   "cell_type": "markdown",
   "id": "e27caff6",
   "metadata": {},
   "source": [
    "## Destination"
   ]
  },
  {
   "cell_type": "code",
   "execution_count": 45,
   "id": "946843f1",
   "metadata": {},
   "outputs": [
    {
     "data": {
      "text/plain": [
       "array(['TRAPPIST-1e', 'PSO J318.5-22', '55 Cancri e', nan], dtype=object)"
      ]
     },
     "execution_count": 45,
     "metadata": {},
     "output_type": "execute_result"
    }
   ],
   "source": [
    "df.Destination.unique()"
   ]
  },
  {
   "cell_type": "code",
   "execution_count": 46,
   "id": "98a639bb",
   "metadata": {},
   "outputs": [],
   "source": [
    "df['Destination'] = df['Destination'].replace('TRAPPIST-1e', 1)\n",
    "df['Destination'] = df['Destination'].replace('PSO J318.5-22', 2)\n",
    "df['Destination'] = df['Destination'].replace('55 Cancri e', 3)"
   ]
  },
  {
   "cell_type": "code",
   "execution_count": 47,
   "id": "00c62b7c",
   "metadata": {},
   "outputs": [],
   "source": [
    "dT['Destination'] = dT['Destination'].replace('TRAPPIST-1e', 1)\n",
    "dT['Destination'] = dT['Destination'].replace('PSO J318.5-22', 2)\n",
    "dT['Destination'] = dT['Destination'].replace('55 Cancri e', 3)"
   ]
  },
  {
   "cell_type": "markdown",
   "id": "f84dd8f8",
   "metadata": {},
   "source": [
    "## Age"
   ]
  },
  {
   "cell_type": "code",
   "execution_count": 48,
   "id": "979137ee",
   "metadata": {},
   "outputs": [
    {
     "data": {
      "text/plain": [
       "28.82793046746535"
      ]
     },
     "execution_count": 48,
     "metadata": {},
     "output_type": "execute_result"
    }
   ],
   "source": [
    "df.Age.mean()"
   ]
  },
  {
   "cell_type": "code",
   "execution_count": 49,
   "id": "034ff7c3",
   "metadata": {},
   "outputs": [],
   "source": [
    "df.loc[(df.Age.isnull()),'Age']=28"
   ]
  },
  {
   "cell_type": "code",
   "execution_count": 50,
   "id": "b771bd52",
   "metadata": {},
   "outputs": [],
   "source": [
    "dT.loc[(dT.Age.isnull()),'Age']=28"
   ]
  },
  {
   "cell_type": "markdown",
   "id": "c89ea97d",
   "metadata": {},
   "source": [
    "## VIP"
   ]
  },
  {
   "cell_type": "code",
   "execution_count": 51,
   "id": "62bdb845",
   "metadata": {},
   "outputs": [
    {
     "data": {
      "text/plain": [
       "array([False, True, nan], dtype=object)"
      ]
     },
     "execution_count": 51,
     "metadata": {},
     "output_type": "execute_result"
    }
   ],
   "source": [
    "df.VIP.unique()"
   ]
  },
  {
   "cell_type": "code",
   "execution_count": 52,
   "id": "a466bf06",
   "metadata": {},
   "outputs": [],
   "source": [
    "df['VIP'] = df['VIP'].replace(True, 1)\n",
    "df['VIP'] = df['VIP'].replace(False, 0)"
   ]
  },
  {
   "cell_type": "code",
   "execution_count": 53,
   "id": "ed5ee738",
   "metadata": {},
   "outputs": [],
   "source": [
    "dT['VIP'] = dT['VIP'].replace(True, 1)\n",
    "dT['VIP'] = dT['VIP'].replace(False, 0)"
   ]
  },
  {
   "cell_type": "markdown",
   "id": "aa4b965a",
   "metadata": {},
   "source": [
    "## Name"
   ]
  },
  {
   "cell_type": "code",
   "execution_count": 54,
   "id": "deab704b",
   "metadata": {},
   "outputs": [],
   "source": [
    "df.drop(['Name'],axis=1,inplace=True)"
   ]
  },
  {
   "cell_type": "code",
   "execution_count": 55,
   "id": "4459eb3d",
   "metadata": {},
   "outputs": [],
   "source": [
    "dT.drop(['Name'],axis=1,inplace=True)"
   ]
  },
  {
   "cell_type": "code",
   "execution_count": 56,
   "id": "35a6ae69",
   "metadata": {},
   "outputs": [
    {
     "data": {
      "text/html": [
       "<div>\n",
       "<style scoped>\n",
       "    .dataframe tbody tr th:only-of-type {\n",
       "        vertical-align: middle;\n",
       "    }\n",
       "\n",
       "    .dataframe tbody tr th {\n",
       "        vertical-align: top;\n",
       "    }\n",
       "\n",
       "    .dataframe thead th {\n",
       "        text-align: right;\n",
       "    }\n",
       "</style>\n",
       "<table border=\"1\" class=\"dataframe\">\n",
       "  <thead>\n",
       "    <tr style=\"text-align: right;\">\n",
       "      <th></th>\n",
       "      <th>Group</th>\n",
       "      <th>Number</th>\n",
       "      <th>HomePlanet</th>\n",
       "      <th>CryoSleep</th>\n",
       "      <th>Deck</th>\n",
       "      <th>Cab_num</th>\n",
       "      <th>Side</th>\n",
       "      <th>Destination</th>\n",
       "      <th>Age</th>\n",
       "      <th>VIP</th>\n",
       "      <th>RoomService</th>\n",
       "      <th>FoodCourt</th>\n",
       "      <th>ShoppingMall</th>\n",
       "      <th>Spa</th>\n",
       "      <th>VRDeck</th>\n",
       "      <th>Transported</th>\n",
       "    </tr>\n",
       "  </thead>\n",
       "  <tbody>\n",
       "    <tr>\n",
       "      <th>0</th>\n",
       "      <td>1</td>\n",
       "      <td>1</td>\n",
       "      <td>2.0</td>\n",
       "      <td>0.0</td>\n",
       "      <td>2.0</td>\n",
       "      <td>0</td>\n",
       "      <td>1.0</td>\n",
       "      <td>1.0</td>\n",
       "      <td>39.0</td>\n",
       "      <td>0.0</td>\n",
       "      <td>0.0</td>\n",
       "      <td>0.0</td>\n",
       "      <td>0.0</td>\n",
       "      <td>0.0</td>\n",
       "      <td>0.0</td>\n",
       "      <td>0</td>\n",
       "    </tr>\n",
       "    <tr>\n",
       "      <th>1</th>\n",
       "      <td>2</td>\n",
       "      <td>1</td>\n",
       "      <td>1.0</td>\n",
       "      <td>0.0</td>\n",
       "      <td>6.0</td>\n",
       "      <td>0</td>\n",
       "      <td>2.0</td>\n",
       "      <td>1.0</td>\n",
       "      <td>24.0</td>\n",
       "      <td>0.0</td>\n",
       "      <td>109.0</td>\n",
       "      <td>9.0</td>\n",
       "      <td>25.0</td>\n",
       "      <td>549.0</td>\n",
       "      <td>44.0</td>\n",
       "      <td>1</td>\n",
       "    </tr>\n",
       "    <tr>\n",
       "      <th>2</th>\n",
       "      <td>3</td>\n",
       "      <td>1</td>\n",
       "      <td>2.0</td>\n",
       "      <td>0.0</td>\n",
       "      <td>1.0</td>\n",
       "      <td>0</td>\n",
       "      <td>2.0</td>\n",
       "      <td>1.0</td>\n",
       "      <td>58.0</td>\n",
       "      <td>1.0</td>\n",
       "      <td>43.0</td>\n",
       "      <td>3576.0</td>\n",
       "      <td>0.0</td>\n",
       "      <td>6715.0</td>\n",
       "      <td>49.0</td>\n",
       "      <td>0</td>\n",
       "    </tr>\n",
       "    <tr>\n",
       "      <th>3</th>\n",
       "      <td>3</td>\n",
       "      <td>2</td>\n",
       "      <td>2.0</td>\n",
       "      <td>0.0</td>\n",
       "      <td>1.0</td>\n",
       "      <td>0</td>\n",
       "      <td>2.0</td>\n",
       "      <td>1.0</td>\n",
       "      <td>33.0</td>\n",
       "      <td>0.0</td>\n",
       "      <td>0.0</td>\n",
       "      <td>1283.0</td>\n",
       "      <td>371.0</td>\n",
       "      <td>3329.0</td>\n",
       "      <td>193.0</td>\n",
       "      <td>0</td>\n",
       "    </tr>\n",
       "    <tr>\n",
       "      <th>4</th>\n",
       "      <td>4</td>\n",
       "      <td>1</td>\n",
       "      <td>1.0</td>\n",
       "      <td>0.0</td>\n",
       "      <td>6.0</td>\n",
       "      <td>1</td>\n",
       "      <td>2.0</td>\n",
       "      <td>1.0</td>\n",
       "      <td>16.0</td>\n",
       "      <td>0.0</td>\n",
       "      <td>303.0</td>\n",
       "      <td>70.0</td>\n",
       "      <td>151.0</td>\n",
       "      <td>565.0</td>\n",
       "      <td>2.0</td>\n",
       "      <td>1</td>\n",
       "    </tr>\n",
       "    <tr>\n",
       "      <th>...</th>\n",
       "      <td>...</td>\n",
       "      <td>...</td>\n",
       "      <td>...</td>\n",
       "      <td>...</td>\n",
       "      <td>...</td>\n",
       "      <td>...</td>\n",
       "      <td>...</td>\n",
       "      <td>...</td>\n",
       "      <td>...</td>\n",
       "      <td>...</td>\n",
       "      <td>...</td>\n",
       "      <td>...</td>\n",
       "      <td>...</td>\n",
       "      <td>...</td>\n",
       "      <td>...</td>\n",
       "      <td>...</td>\n",
       "    </tr>\n",
       "    <tr>\n",
       "      <th>8688</th>\n",
       "      <td>9276</td>\n",
       "      <td>1</td>\n",
       "      <td>2.0</td>\n",
       "      <td>0.0</td>\n",
       "      <td>1.0</td>\n",
       "      <td>98</td>\n",
       "      <td>1.0</td>\n",
       "      <td>3.0</td>\n",
       "      <td>41.0</td>\n",
       "      <td>1.0</td>\n",
       "      <td>0.0</td>\n",
       "      <td>6819.0</td>\n",
       "      <td>0.0</td>\n",
       "      <td>1643.0</td>\n",
       "      <td>74.0</td>\n",
       "      <td>0</td>\n",
       "    </tr>\n",
       "    <tr>\n",
       "      <th>8689</th>\n",
       "      <td>9278</td>\n",
       "      <td>1</td>\n",
       "      <td>1.0</td>\n",
       "      <td>1.0</td>\n",
       "      <td>7.0</td>\n",
       "      <td>1499</td>\n",
       "      <td>2.0</td>\n",
       "      <td>2.0</td>\n",
       "      <td>18.0</td>\n",
       "      <td>0.0</td>\n",
       "      <td>0.0</td>\n",
       "      <td>0.0</td>\n",
       "      <td>0.0</td>\n",
       "      <td>0.0</td>\n",
       "      <td>0.0</td>\n",
       "      <td>0</td>\n",
       "    </tr>\n",
       "    <tr>\n",
       "      <th>8690</th>\n",
       "      <td>9279</td>\n",
       "      <td>1</td>\n",
       "      <td>1.0</td>\n",
       "      <td>0.0</td>\n",
       "      <td>7.0</td>\n",
       "      <td>1500</td>\n",
       "      <td>2.0</td>\n",
       "      <td>1.0</td>\n",
       "      <td>26.0</td>\n",
       "      <td>0.0</td>\n",
       "      <td>0.0</td>\n",
       "      <td>0.0</td>\n",
       "      <td>1872.0</td>\n",
       "      <td>1.0</td>\n",
       "      <td>0.0</td>\n",
       "      <td>1</td>\n",
       "    </tr>\n",
       "    <tr>\n",
       "      <th>8691</th>\n",
       "      <td>9280</td>\n",
       "      <td>1</td>\n",
       "      <td>2.0</td>\n",
       "      <td>0.0</td>\n",
       "      <td>5.0</td>\n",
       "      <td>608</td>\n",
       "      <td>2.0</td>\n",
       "      <td>3.0</td>\n",
       "      <td>32.0</td>\n",
       "      <td>0.0</td>\n",
       "      <td>0.0</td>\n",
       "      <td>1049.0</td>\n",
       "      <td>0.0</td>\n",
       "      <td>353.0</td>\n",
       "      <td>3235.0</td>\n",
       "      <td>0</td>\n",
       "    </tr>\n",
       "    <tr>\n",
       "      <th>8692</th>\n",
       "      <td>9280</td>\n",
       "      <td>2</td>\n",
       "      <td>2.0</td>\n",
       "      <td>0.0</td>\n",
       "      <td>5.0</td>\n",
       "      <td>608</td>\n",
       "      <td>2.0</td>\n",
       "      <td>1.0</td>\n",
       "      <td>44.0</td>\n",
       "      <td>0.0</td>\n",
       "      <td>126.0</td>\n",
       "      <td>4688.0</td>\n",
       "      <td>0.0</td>\n",
       "      <td>0.0</td>\n",
       "      <td>12.0</td>\n",
       "      <td>1</td>\n",
       "    </tr>\n",
       "  </tbody>\n",
       "</table>\n",
       "<p>8693 rows × 16 columns</p>\n",
       "</div>"
      ],
      "text/plain": [
       "      Group  Number  HomePlanet  CryoSleep  Deck Cab_num  Side  Destination  \\\n",
       "0         1       1         2.0        0.0   2.0       0   1.0          1.0   \n",
       "1         2       1         1.0        0.0   6.0       0   2.0          1.0   \n",
       "2         3       1         2.0        0.0   1.0       0   2.0          1.0   \n",
       "3         3       2         2.0        0.0   1.0       0   2.0          1.0   \n",
       "4         4       1         1.0        0.0   6.0       1   2.0          1.0   \n",
       "...     ...     ...         ...        ...   ...     ...   ...          ...   \n",
       "8688   9276       1         2.0        0.0   1.0      98   1.0          3.0   \n",
       "8689   9278       1         1.0        1.0   7.0    1499   2.0          2.0   \n",
       "8690   9279       1         1.0        0.0   7.0    1500   2.0          1.0   \n",
       "8691   9280       1         2.0        0.0   5.0     608   2.0          3.0   \n",
       "8692   9280       2         2.0        0.0   5.0     608   2.0          1.0   \n",
       "\n",
       "       Age  VIP  RoomService  FoodCourt  ShoppingMall     Spa  VRDeck  \\\n",
       "0     39.0  0.0          0.0        0.0           0.0     0.0     0.0   \n",
       "1     24.0  0.0        109.0        9.0          25.0   549.0    44.0   \n",
       "2     58.0  1.0         43.0     3576.0           0.0  6715.0    49.0   \n",
       "3     33.0  0.0          0.0     1283.0         371.0  3329.0   193.0   \n",
       "4     16.0  0.0        303.0       70.0         151.0   565.0     2.0   \n",
       "...    ...  ...          ...        ...           ...     ...     ...   \n",
       "8688  41.0  1.0          0.0     6819.0           0.0  1643.0    74.0   \n",
       "8689  18.0  0.0          0.0        0.0           0.0     0.0     0.0   \n",
       "8690  26.0  0.0          0.0        0.0        1872.0     1.0     0.0   \n",
       "8691  32.0  0.0          0.0     1049.0           0.0   353.0  3235.0   \n",
       "8692  44.0  0.0        126.0     4688.0           0.0     0.0    12.0   \n",
       "\n",
       "      Transported  \n",
       "0               0  \n",
       "1               1  \n",
       "2               0  \n",
       "3               0  \n",
       "4               1  \n",
       "...           ...  \n",
       "8688            0  \n",
       "8689            0  \n",
       "8690            1  \n",
       "8691            0  \n",
       "8692            1  \n",
       "\n",
       "[8693 rows x 16 columns]"
      ]
     },
     "execution_count": 56,
     "metadata": {},
     "output_type": "execute_result"
    }
   ],
   "source": [
    "df"
   ]
  },
  {
   "cell_type": "code",
   "execution_count": 57,
   "id": "99fde647",
   "metadata": {},
   "outputs": [
    {
     "data": {
      "text/html": [
       "<div>\n",
       "<style scoped>\n",
       "    .dataframe tbody tr th:only-of-type {\n",
       "        vertical-align: middle;\n",
       "    }\n",
       "\n",
       "    .dataframe tbody tr th {\n",
       "        vertical-align: top;\n",
       "    }\n",
       "\n",
       "    .dataframe thead th {\n",
       "        text-align: right;\n",
       "    }\n",
       "</style>\n",
       "<table border=\"1\" class=\"dataframe\">\n",
       "  <thead>\n",
       "    <tr style=\"text-align: right;\">\n",
       "      <th></th>\n",
       "      <th>Group</th>\n",
       "      <th>Number</th>\n",
       "      <th>HomePlanet</th>\n",
       "      <th>CryoSleep</th>\n",
       "      <th>Deck</th>\n",
       "      <th>Cab_num</th>\n",
       "      <th>Side</th>\n",
       "      <th>Destination</th>\n",
       "      <th>Age</th>\n",
       "      <th>VIP</th>\n",
       "      <th>RoomService</th>\n",
       "      <th>FoodCourt</th>\n",
       "      <th>ShoppingMall</th>\n",
       "      <th>Spa</th>\n",
       "      <th>VRDeck</th>\n",
       "    </tr>\n",
       "  </thead>\n",
       "  <tbody>\n",
       "    <tr>\n",
       "      <th>0</th>\n",
       "      <td>13</td>\n",
       "      <td>1</td>\n",
       "      <td>1.0</td>\n",
       "      <td>1.0</td>\n",
       "      <td>7.0</td>\n",
       "      <td>3</td>\n",
       "      <td>2.0</td>\n",
       "      <td>1.0</td>\n",
       "      <td>27.0</td>\n",
       "      <td>0.0</td>\n",
       "      <td>0.0</td>\n",
       "      <td>0.0</td>\n",
       "      <td>0.0</td>\n",
       "      <td>0.0</td>\n",
       "      <td>0.0</td>\n",
       "    </tr>\n",
       "    <tr>\n",
       "      <th>1</th>\n",
       "      <td>18</td>\n",
       "      <td>1</td>\n",
       "      <td>1.0</td>\n",
       "      <td>0.0</td>\n",
       "      <td>6.0</td>\n",
       "      <td>4</td>\n",
       "      <td>2.0</td>\n",
       "      <td>1.0</td>\n",
       "      <td>19.0</td>\n",
       "      <td>0.0</td>\n",
       "      <td>0.0</td>\n",
       "      <td>9.0</td>\n",
       "      <td>0.0</td>\n",
       "      <td>2823.0</td>\n",
       "      <td>0.0</td>\n",
       "    </tr>\n",
       "    <tr>\n",
       "      <th>2</th>\n",
       "      <td>19</td>\n",
       "      <td>1</td>\n",
       "      <td>2.0</td>\n",
       "      <td>1.0</td>\n",
       "      <td>3.0</td>\n",
       "      <td>0</td>\n",
       "      <td>2.0</td>\n",
       "      <td>3.0</td>\n",
       "      <td>31.0</td>\n",
       "      <td>0.0</td>\n",
       "      <td>0.0</td>\n",
       "      <td>0.0</td>\n",
       "      <td>0.0</td>\n",
       "      <td>0.0</td>\n",
       "      <td>0.0</td>\n",
       "    </tr>\n",
       "    <tr>\n",
       "      <th>3</th>\n",
       "      <td>21</td>\n",
       "      <td>1</td>\n",
       "      <td>2.0</td>\n",
       "      <td>0.0</td>\n",
       "      <td>3.0</td>\n",
       "      <td>1</td>\n",
       "      <td>2.0</td>\n",
       "      <td>1.0</td>\n",
       "      <td>38.0</td>\n",
       "      <td>0.0</td>\n",
       "      <td>0.0</td>\n",
       "      <td>6652.0</td>\n",
       "      <td>0.0</td>\n",
       "      <td>181.0</td>\n",
       "      <td>585.0</td>\n",
       "    </tr>\n",
       "    <tr>\n",
       "      <th>4</th>\n",
       "      <td>23</td>\n",
       "      <td>1</td>\n",
       "      <td>1.0</td>\n",
       "      <td>0.0</td>\n",
       "      <td>6.0</td>\n",
       "      <td>5</td>\n",
       "      <td>2.0</td>\n",
       "      <td>1.0</td>\n",
       "      <td>20.0</td>\n",
       "      <td>0.0</td>\n",
       "      <td>10.0</td>\n",
       "      <td>0.0</td>\n",
       "      <td>635.0</td>\n",
       "      <td>0.0</td>\n",
       "      <td>0.0</td>\n",
       "    </tr>\n",
       "    <tr>\n",
       "      <th>...</th>\n",
       "      <td>...</td>\n",
       "      <td>...</td>\n",
       "      <td>...</td>\n",
       "      <td>...</td>\n",
       "      <td>...</td>\n",
       "      <td>...</td>\n",
       "      <td>...</td>\n",
       "      <td>...</td>\n",
       "      <td>...</td>\n",
       "      <td>...</td>\n",
       "      <td>...</td>\n",
       "      <td>...</td>\n",
       "      <td>...</td>\n",
       "      <td>...</td>\n",
       "      <td>...</td>\n",
       "    </tr>\n",
       "    <tr>\n",
       "      <th>4272</th>\n",
       "      <td>9266</td>\n",
       "      <td>2</td>\n",
       "      <td>1.0</td>\n",
       "      <td>1.0</td>\n",
       "      <td>7.0</td>\n",
       "      <td>1496</td>\n",
       "      <td>2.0</td>\n",
       "      <td>1.0</td>\n",
       "      <td>34.0</td>\n",
       "      <td>0.0</td>\n",
       "      <td>0.0</td>\n",
       "      <td>0.0</td>\n",
       "      <td>0.0</td>\n",
       "      <td>0.0</td>\n",
       "      <td>0.0</td>\n",
       "    </tr>\n",
       "    <tr>\n",
       "      <th>4273</th>\n",
       "      <td>9269</td>\n",
       "      <td>1</td>\n",
       "      <td>1.0</td>\n",
       "      <td>0.0</td>\n",
       "      <td>NaN</td>\n",
       "      <td>NaN</td>\n",
       "      <td>NaN</td>\n",
       "      <td>1.0</td>\n",
       "      <td>42.0</td>\n",
       "      <td>0.0</td>\n",
       "      <td>0.0</td>\n",
       "      <td>847.0</td>\n",
       "      <td>17.0</td>\n",
       "      <td>10.0</td>\n",
       "      <td>144.0</td>\n",
       "    </tr>\n",
       "    <tr>\n",
       "      <th>4274</th>\n",
       "      <td>9271</td>\n",
       "      <td>1</td>\n",
       "      <td>3.0</td>\n",
       "      <td>1.0</td>\n",
       "      <td>4.0</td>\n",
       "      <td>296</td>\n",
       "      <td>1.0</td>\n",
       "      <td>3.0</td>\n",
       "      <td>28.0</td>\n",
       "      <td>0.0</td>\n",
       "      <td>0.0</td>\n",
       "      <td>0.0</td>\n",
       "      <td>0.0</td>\n",
       "      <td>0.0</td>\n",
       "      <td>0.0</td>\n",
       "    </tr>\n",
       "    <tr>\n",
       "      <th>4275</th>\n",
       "      <td>9273</td>\n",
       "      <td>1</td>\n",
       "      <td>2.0</td>\n",
       "      <td>0.0</td>\n",
       "      <td>4.0</td>\n",
       "      <td>297</td>\n",
       "      <td>1.0</td>\n",
       "      <td>NaN</td>\n",
       "      <td>28.0</td>\n",
       "      <td>0.0</td>\n",
       "      <td>0.0</td>\n",
       "      <td>2680.0</td>\n",
       "      <td>0.0</td>\n",
       "      <td>0.0</td>\n",
       "      <td>523.0</td>\n",
       "    </tr>\n",
       "    <tr>\n",
       "      <th>4276</th>\n",
       "      <td>9277</td>\n",
       "      <td>1</td>\n",
       "      <td>1.0</td>\n",
       "      <td>1.0</td>\n",
       "      <td>7.0</td>\n",
       "      <td>1498</td>\n",
       "      <td>2.0</td>\n",
       "      <td>2.0</td>\n",
       "      <td>43.0</td>\n",
       "      <td>0.0</td>\n",
       "      <td>0.0</td>\n",
       "      <td>0.0</td>\n",
       "      <td>0.0</td>\n",
       "      <td>0.0</td>\n",
       "      <td>0.0</td>\n",
       "    </tr>\n",
       "  </tbody>\n",
       "</table>\n",
       "<p>4277 rows × 15 columns</p>\n",
       "</div>"
      ],
      "text/plain": [
       "      Group  Number  HomePlanet  CryoSleep  Deck Cab_num  Side  Destination  \\\n",
       "0        13       1         1.0        1.0   7.0       3   2.0          1.0   \n",
       "1        18       1         1.0        0.0   6.0       4   2.0          1.0   \n",
       "2        19       1         2.0        1.0   3.0       0   2.0          3.0   \n",
       "3        21       1         2.0        0.0   3.0       1   2.0          1.0   \n",
       "4        23       1         1.0        0.0   6.0       5   2.0          1.0   \n",
       "...     ...     ...         ...        ...   ...     ...   ...          ...   \n",
       "4272   9266       2         1.0        1.0   7.0    1496   2.0          1.0   \n",
       "4273   9269       1         1.0        0.0   NaN     NaN   NaN          1.0   \n",
       "4274   9271       1         3.0        1.0   4.0     296   1.0          3.0   \n",
       "4275   9273       1         2.0        0.0   4.0     297   1.0          NaN   \n",
       "4276   9277       1         1.0        1.0   7.0    1498   2.0          2.0   \n",
       "\n",
       "       Age  VIP  RoomService  FoodCourt  ShoppingMall     Spa  VRDeck  \n",
       "0     27.0  0.0          0.0        0.0           0.0     0.0     0.0  \n",
       "1     19.0  0.0          0.0        9.0           0.0  2823.0     0.0  \n",
       "2     31.0  0.0          0.0        0.0           0.0     0.0     0.0  \n",
       "3     38.0  0.0          0.0     6652.0           0.0   181.0   585.0  \n",
       "4     20.0  0.0         10.0        0.0         635.0     0.0     0.0  \n",
       "...    ...  ...          ...        ...           ...     ...     ...  \n",
       "4272  34.0  0.0          0.0        0.0           0.0     0.0     0.0  \n",
       "4273  42.0  0.0          0.0      847.0          17.0    10.0   144.0  \n",
       "4274  28.0  0.0          0.0        0.0           0.0     0.0     0.0  \n",
       "4275  28.0  0.0          0.0     2680.0           0.0     0.0   523.0  \n",
       "4276  43.0  0.0          0.0        0.0           0.0     0.0     0.0  \n",
       "\n",
       "[4277 rows x 15 columns]"
      ]
     },
     "execution_count": 57,
     "metadata": {},
     "output_type": "execute_result"
    }
   ],
   "source": [
    "dT"
   ]
  },
  {
   "cell_type": "code",
   "execution_count": 65,
   "id": "77418450",
   "metadata": {},
   "outputs": [
    {
     "data": {
      "text/plain": [
       "Group             0\n",
       "Number            0\n",
       "HomePlanet        0\n",
       "CryoSleep         0\n",
       "Deck            199\n",
       "Cab_num         199\n",
       "Side            199\n",
       "Destination     182\n",
       "Age               0\n",
       "VIP             203\n",
       "RoomService     181\n",
       "FoodCourt       183\n",
       "ShoppingMall    208\n",
       "Spa             183\n",
       "VRDeck          188\n",
       "Transported       0\n",
       "dtype: int64"
      ]
     },
     "execution_count": 65,
     "metadata": {},
     "output_type": "execute_result"
    }
   ],
   "source": [
    "df.isnull().sum()"
   ]
  },
  {
   "cell_type": "code",
   "execution_count": 63,
   "id": "8a5d777e",
   "metadata": {},
   "outputs": [
    {
     "data": {
      "text/plain": [
       "Group           0\n",
       "Number          0\n",
       "HomePlanet      0\n",
       "CryoSleep       0\n",
       "Deck            0\n",
       "Cab_num         0\n",
       "Side            0\n",
       "Destination     0\n",
       "Age             0\n",
       "VIP             0\n",
       "RoomService     0\n",
       "FoodCourt       0\n",
       "ShoppingMall    0\n",
       "Spa             0\n",
       "VRDeck          0\n",
       "dtype: int64"
      ]
     },
     "execution_count": 63,
     "metadata": {},
     "output_type": "execute_result"
    }
   ],
   "source": [
    "dT.isnull().sum()"
   ]
  },
  {
   "cell_type": "code",
   "execution_count": 60,
   "id": "d85dd2e4",
   "metadata": {},
   "outputs": [
    {
     "data": {
      "image/png": "[encoded data removed]",
      "text/plain": [
       "<Figure size 1296x576 with 2 Axes>"
      ]
     },
     "metadata": {
      "needs_background": "light"
     },
     "output_type": "display_data"
    }
   ],
   "source": [
    "sns.heatmap(df.corr(),annot=True,cmap='RdYlGn',linewidths=0.2) \n",
    "fig=plt.gcf()\n",
    "fig.set_size_inches(18,8)\n",
    "plt.show()"
   ]
  },
  {
   "cell_type": "code",
   "execution_count": 61,
   "id": "8df338a5",
   "metadata": {},
   "outputs": [],
   "source": [
    "df_X = df.drop(['Transported'],axis=1)# деление на признаки и целевую переменную\n",
    "df_y = df['Transported']"
   ]
  },
  {
   "cell_type": "code",
   "execution_count": 62,
   "id": "2c43be26",
   "metadata": {},
   "outputs": [],
   "source": [
    "for df1 in [df_X, dT]:#замена NULL медианой\n",
    "    for col in df_X.columns:\n",
    "        col_median=df_X[col].median()\n",
    "        df1[col].fillna(col_median, inplace=True) "
   ]
  },
  {
   "cell_type": "code",
   "execution_count": 66,
   "id": "5c3f3236",
   "metadata": {},
   "outputs": [],
   "source": [
    "cols = df_X.columns \n",
    "\n",
    "from sklearn.preprocessing import StandardScaler # масштабирование\n",
    "\n",
    "scaler = StandardScaler()\n",
    "\n",
    "df_X = scaler.fit_transform(df_X)\n",
    "\n",
    "dT = scaler.transform(dT)\n",
    "\n",
    "df_X = pd.DataFrame(df_X, columns=[cols])\n",
    "dT = pd.DataFrame(dT, columns=[cols])"
   ]
  },
  {
   "cell_type": "code",
   "execution_count": 67,
   "id": "671fce5e",
   "metadata": {},
   "outputs": [
    {
     "name": "stdout",
     "output_type": "stream",
     "text": [
      "0:\tlearn: 0.6590239\ttotal: 135ms\tremaining: 3.92s\n",
      "1:\tlearn: 0.6311962\ttotal: 139ms\tremaining: 1.94s\n",
      "2:\tlearn: 0.6074070\ttotal: 141ms\tremaining: 1.27s\n",
      "3:\tlearn: 0.5896985\ttotal: 144ms\tremaining: 937ms\n",
      "4:\tlearn: 0.5712752\ttotal: 147ms\tremaining: 733ms\n",
      "5:\tlearn: 0.5581477\ttotal: 149ms\tremaining: 597ms\n",
      "6:\tlearn: 0.5448407\ttotal: 152ms\tremaining: 498ms\n",
      "7:\tlearn: 0.5331764\ttotal: 154ms\tremaining: 422ms\n",
      "8:\tlearn: 0.5226488\ttotal: 156ms\tremaining: 364ms\n",
      "9:\tlearn: 0.5138057\ttotal: 159ms\tremaining: 318ms\n",
      "10:\tlearn: 0.5064610\ttotal: 162ms\tremaining: 280ms\n",
      "11:\tlearn: 0.5005220\ttotal: 164ms\tremaining: 247ms\n",
      "12:\tlearn: 0.4938386\ttotal: 166ms\tremaining: 218ms\n",
      "13:\tlearn: 0.4875862\ttotal: 169ms\tremaining: 193ms\n",
      "14:\tlearn: 0.4821961\ttotal: 171ms\tremaining: 171ms\n",
      "15:\tlearn: 0.4777289\ttotal: 174ms\tremaining: 152ms\n",
      "16:\tlearn: 0.4738861\ttotal: 176ms\tremaining: 135ms\n",
      "17:\tlearn: 0.4696118\ttotal: 179ms\tremaining: 119ms\n",
      "18:\tlearn: 0.4660317\ttotal: 181ms\tremaining: 105ms\n",
      "19:\tlearn: 0.4631193\ttotal: 183ms\tremaining: 91.5ms\n",
      "20:\tlearn: 0.4595817\ttotal: 186ms\tremaining: 79.5ms\n",
      "21:\tlearn: 0.4570198\ttotal: 188ms\tremaining: 68.4ms\n",
      "22:\tlearn: 0.4533981\ttotal: 190ms\tremaining: 58ms\n",
      "23:\tlearn: 0.4503892\ttotal: 193ms\tremaining: 48.2ms\n",
      "24:\tlearn: 0.4468076\ttotal: 195ms\tremaining: 39ms\n",
      "25:\tlearn: 0.4439190\ttotal: 197ms\tremaining: 30.4ms\n",
      "26:\tlearn: 0.4415932\ttotal: 200ms\tremaining: 22.2ms\n",
      "27:\tlearn: 0.4399323\ttotal: 202ms\tremaining: 14.4ms\n",
      "28:\tlearn: 0.4385031\ttotal: 204ms\tremaining: 7.05ms\n",
      "29:\tlearn: 0.4368932\ttotal: 207ms\tremaining: 0us\n"
     ]
    }
   ],
   "source": [
    "\n",
    "cat = CatBoostClassifier(iterations = 30, learning_rate = 0.1)\n",
    "cat.fit(df_X, df_y)\n",
    "\n",
    "y_pred = cat.predict(dT)"
   ]
  },
  {
   "cell_type": "code",
   "execution_count": 71,
   "id": "f6a07d14",
   "metadata": {},
   "outputs": [
    {
     "data": {
      "text/plain": [
       "array([1, 0, 1, ..., 1, 1, 1], dtype=int64)"
      ]
     },
     "execution_count": 71,
     "metadata": {},
     "output_type": "execute_result"
    }
   ],
   "source": [
    "y_pred"
   ]
  },
  {
   "cell_type": "code",
   "execution_count": 72,
   "id": "f14633c4",
   "metadata": {},
   "outputs": [],
   "source": [
    "cat_train_acc = accuracy_score(df_y, cat.predict(df_X))"
   ]
  },
  {
   "cell_type": "code",
   "execution_count": 70,
   "id": "154f7a8b",
   "metadata": {},
   "outputs": [
    {
     "data": {
      "text/plain": [
       "0.8022546876797423"
      ]
     },
     "execution_count": 70,
     "metadata": {},
     "output_type": "execute_result"
    }
   ],
   "source": [
    "cat_train_acc"
   ]
  },
  {
   "cell_type": "code",
   "execution_count": 73,
   "id": "3f0bed24",
   "metadata": {},
   "outputs": [],
   "source": [
    "p = pd.read_csv('sample_submission.csv')\n",
    "prediction=pd.DataFrame()\n",
    "prediction['PassengerId']=p['PassengerId']\n",
    "prediction['Transported']=y_pred\n",
    "prediction['Transported'].replace(0, False, inplace=True)\n",
    "prediction['Transported'].replace(1, True, inplace=True)"
   ]
  },
  {
   "cell_type": "code",
   "execution_count": 77,
   "id": "93068962",
   "metadata": {},
   "outputs": [],
   "source": [
    "prediction\n",
    "prediction.to_csv('submission.csv', index=False)"
   ]
  },
  {
   "cell_type": "code",
   "execution_count": null,
   "id": "bdbcf910",
   "metadata": {},
   "outputs": [],
   "source": []
  }
 ],
 "metadata": {
  "kernelspec": {
   "display_name": "Python 3 (ipykernel)",
   "language": "python",
   "name": "python3"
  },
  "language_info": {
   "codemirror_mode": {
    "name": "ipython",
    "version": 3
   },
   "file_extension": ".py",
   "mimetype": "text/x-python",
   "name": "python",
   "nbconvert_exporter": "python",
   "pygments_lexer": "ipython3",
   "version": "3.9.12"
  }
 },
 "nbformat": 4,
 "nbformat_minor": 5
}
